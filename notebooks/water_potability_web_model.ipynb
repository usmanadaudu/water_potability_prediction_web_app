{
 "cells": [
  {
   "cell_type": "code",
   "execution_count": 1,
   "id": "e1e4a442",
   "metadata": {},
   "outputs": [
    {
     "ename": "NameError",
     "evalue": "name 'django' is not defined",
     "output_type": "error",
     "traceback": [
      "\u001b[1;31m---------------------------------------------------------------------------\u001b[0m",
      "\u001b[1;31mNameError\u001b[0m                                 Traceback (most recent call last)",
      "Input \u001b[1;32mIn [1]\u001b[0m, in \u001b[0;36m<cell line: 1>\u001b[1;34m()\u001b[0m\n\u001b[1;32m----> 1\u001b[0m \u001b[43mdjango\u001b[49m\n",
      "\u001b[1;31mNameError\u001b[0m: name 'django' is not defined"
     ]
    }
   ],
   "source": [
    "django"
   ]
  },
  {
   "cell_type": "code",
   "execution_count": 2,
   "id": "25c7684b",
   "metadata": {},
   "outputs": [],
   "source": [
    "import django"
   ]
  },
  {
   "cell_type": "code",
   "execution_count": 3,
   "id": "fba93530",
   "metadata": {},
   "outputs": [
    {
     "data": {
      "text/plain": [
       "<module 'django' from 'C:\\\\Users\\\\USER\\\\anaconda3\\\\lib\\\\site-packages\\\\django\\\\__init__.py'>"
      ]
     },
     "execution_count": 3,
     "metadata": {},
     "output_type": "execute_result"
    }
   ],
   "source": [
    "django"
   ]
  },
  {
   "cell_type": "code",
   "execution_count": 4,
   "id": "5d8fbda6",
   "metadata": {},
   "outputs": [
    {
     "ename": "SyntaxError",
     "evalue": "invalid syntax (3734322346.py, line 1)",
     "output_type": "error",
     "traceback": [
      "\u001b[1;36m  Input \u001b[1;32mIn [4]\u001b[1;36m\u001b[0m\n\u001b[1;33m    django-admin startproject waterApp\u001b[0m\n\u001b[1;37m                 ^\u001b[0m\n\u001b[1;31mSyntaxError\u001b[0m\u001b[1;31m:\u001b[0m invalid syntax\n"
     ]
    }
   ],
   "source": [
    "# django-admin startproject waterApp"
   ]
  },
  {
   "cell_type": "code",
   "execution_count": null,
   "id": "fd4e1da3",
   "metadata": {},
   "outputs": [],
   "source": []
  }
 ],
 "metadata": {
  "kernelspec": {
   "display_name": "Python 3 (ipykernel)",
   "language": "python",
   "name": "python3"
  },
  "language_info": {
   "codemirror_mode": {
    "name": "ipython",
    "version": 3
   },
   "file_extension": ".py",
   "mimetype": "text/x-python",
   "name": "python",
   "nbconvert_exporter": "python",
   "pygments_lexer": "ipython3",
   "version": "3.11.5"
  }
 },
 "nbformat": 4,
 "nbformat_minor": 5
}
