{
 "cells": [
  {
   "cell_type": "markdown",
   "id": "eed4e2ea",
   "metadata": {},
   "source": [
    " # WATER POTABILITY PREDICTION MODEL"
   ]
  },
  {
   "cell_type": "markdown",
   "id": "4ef9c019",
   "metadata": {},
   "source": [
    "The dataset used for this model was gotten from ..."
   ]
  },
  {
   "cell_type": "code",
   "execution_count": 2,
   "id": "5b31709c",
   "metadata": {},
   "outputs": [],
   "source": [
    "import pandas as pd\n",
    "import numpy as np\n",
    "import seaborn as sns\n",
    "import matplotlib.pyplot as plt\n",
    "from sklearn.decomposition import PCA"
   ]
  },
  {
   "cell_type": "code",
   "execution_count": 4,
   "id": "f8ae590c",
   "metadata": {},
   "outputs": [],
   "source": [
    "df = pd.read_csv('Datasets/water_potability.csv')"
   ]
  },
  {
   "cell_type": "code",
   "execution_count": 5,
   "id": "dc44b5d0",
   "metadata": {
    "scrolled": true
   },
   "outputs": [
    {
     "data": {
      "text/html": [
       "<div>\n",
       "<style scoped>\n",
       "    .dataframe tbody tr th:only-of-type {\n",
       "        vertical-align: middle;\n",
       "    }\n",
       "\n",
       "    .dataframe tbody tr th {\n",
       "        vertical-align: top;\n",
       "    }\n",
       "\n",
       "    .dataframe thead th {\n",
       "        text-align: right;\n",
       "    }\n",
       "</style>\n",
       "<table border=\"1\" class=\"dataframe\">\n",
       "  <thead>\n",
       "    <tr style=\"text-align: right;\">\n",
       "      <th></th>\n",
       "      <th>ph</th>\n",
       "      <th>Hardness</th>\n",
       "      <th>Solids</th>\n",
       "      <th>Chloramines</th>\n",
       "      <th>Sulfate</th>\n",
       "      <th>Conductivity</th>\n",
       "      <th>Organic_carbon</th>\n",
       "      <th>Trihalomethanes</th>\n",
       "      <th>Turbidity</th>\n",
       "      <th>Potability</th>\n",
       "    </tr>\n",
       "  </thead>\n",
       "  <tbody>\n",
       "    <tr>\n",
       "      <th>0</th>\n",
       "      <td>NaN</td>\n",
       "      <td>204.890455</td>\n",
       "      <td>20791.318981</td>\n",
       "      <td>7.300212</td>\n",
       "      <td>368.516441</td>\n",
       "      <td>564.308654</td>\n",
       "      <td>10.379783</td>\n",
       "      <td>86.990970</td>\n",
       "      <td>2.963135</td>\n",
       "      <td>0</td>\n",
       "    </tr>\n",
       "    <tr>\n",
       "      <th>1</th>\n",
       "      <td>3.716080</td>\n",
       "      <td>129.422921</td>\n",
       "      <td>18630.057858</td>\n",
       "      <td>6.635246</td>\n",
       "      <td>NaN</td>\n",
       "      <td>592.885359</td>\n",
       "      <td>15.180013</td>\n",
       "      <td>56.329076</td>\n",
       "      <td>4.500656</td>\n",
       "      <td>0</td>\n",
       "    </tr>\n",
       "    <tr>\n",
       "      <th>2</th>\n",
       "      <td>8.099124</td>\n",
       "      <td>224.236259</td>\n",
       "      <td>19909.541732</td>\n",
       "      <td>9.275884</td>\n",
       "      <td>NaN</td>\n",
       "      <td>418.606213</td>\n",
       "      <td>16.868637</td>\n",
       "      <td>66.420093</td>\n",
       "      <td>3.055934</td>\n",
       "      <td>0</td>\n",
       "    </tr>\n",
       "    <tr>\n",
       "      <th>3</th>\n",
       "      <td>8.316766</td>\n",
       "      <td>214.373394</td>\n",
       "      <td>22018.417441</td>\n",
       "      <td>8.059332</td>\n",
       "      <td>356.886136</td>\n",
       "      <td>363.266516</td>\n",
       "      <td>18.436524</td>\n",
       "      <td>100.341674</td>\n",
       "      <td>4.628771</td>\n",
       "      <td>0</td>\n",
       "    </tr>\n",
       "    <tr>\n",
       "      <th>4</th>\n",
       "      <td>9.092223</td>\n",
       "      <td>181.101509</td>\n",
       "      <td>17978.986339</td>\n",
       "      <td>6.546600</td>\n",
       "      <td>310.135738</td>\n",
       "      <td>398.410813</td>\n",
       "      <td>11.558279</td>\n",
       "      <td>31.997993</td>\n",
       "      <td>4.075075</td>\n",
       "      <td>0</td>\n",
       "    </tr>\n",
       "    <tr>\n",
       "      <th>5</th>\n",
       "      <td>5.584087</td>\n",
       "      <td>188.313324</td>\n",
       "      <td>28748.687739</td>\n",
       "      <td>7.544869</td>\n",
       "      <td>326.678363</td>\n",
       "      <td>280.467916</td>\n",
       "      <td>8.399735</td>\n",
       "      <td>54.917862</td>\n",
       "      <td>2.559708</td>\n",
       "      <td>0</td>\n",
       "    </tr>\n",
       "    <tr>\n",
       "      <th>6</th>\n",
       "      <td>10.223862</td>\n",
       "      <td>248.071735</td>\n",
       "      <td>28749.716544</td>\n",
       "      <td>7.513408</td>\n",
       "      <td>393.663396</td>\n",
       "      <td>283.651634</td>\n",
       "      <td>13.789695</td>\n",
       "      <td>84.603556</td>\n",
       "      <td>2.672989</td>\n",
       "      <td>0</td>\n",
       "    </tr>\n",
       "    <tr>\n",
       "      <th>7</th>\n",
       "      <td>8.635849</td>\n",
       "      <td>203.361523</td>\n",
       "      <td>13672.091764</td>\n",
       "      <td>4.563009</td>\n",
       "      <td>303.309771</td>\n",
       "      <td>474.607645</td>\n",
       "      <td>12.363817</td>\n",
       "      <td>62.798309</td>\n",
       "      <td>4.401425</td>\n",
       "      <td>0</td>\n",
       "    </tr>\n",
       "    <tr>\n",
       "      <th>8</th>\n",
       "      <td>NaN</td>\n",
       "      <td>118.988579</td>\n",
       "      <td>14285.583854</td>\n",
       "      <td>7.804174</td>\n",
       "      <td>268.646941</td>\n",
       "      <td>389.375566</td>\n",
       "      <td>12.706049</td>\n",
       "      <td>53.928846</td>\n",
       "      <td>3.595017</td>\n",
       "      <td>0</td>\n",
       "    </tr>\n",
       "    <tr>\n",
       "      <th>9</th>\n",
       "      <td>11.180284</td>\n",
       "      <td>227.231469</td>\n",
       "      <td>25484.508491</td>\n",
       "      <td>9.077200</td>\n",
       "      <td>404.041635</td>\n",
       "      <td>563.885481</td>\n",
       "      <td>17.927806</td>\n",
       "      <td>71.976601</td>\n",
       "      <td>4.370562</td>\n",
       "      <td>0</td>\n",
       "    </tr>\n",
       "    <tr>\n",
       "      <th>10</th>\n",
       "      <td>7.360640</td>\n",
       "      <td>165.520797</td>\n",
       "      <td>32452.614409</td>\n",
       "      <td>7.550701</td>\n",
       "      <td>326.624353</td>\n",
       "      <td>425.383419</td>\n",
       "      <td>15.586810</td>\n",
       "      <td>78.740016</td>\n",
       "      <td>3.662292</td>\n",
       "      <td>0</td>\n",
       "    </tr>\n",
       "    <tr>\n",
       "      <th>11</th>\n",
       "      <td>7.974522</td>\n",
       "      <td>218.693300</td>\n",
       "      <td>18767.656682</td>\n",
       "      <td>8.110385</td>\n",
       "      <td>NaN</td>\n",
       "      <td>364.098230</td>\n",
       "      <td>14.525746</td>\n",
       "      <td>76.485911</td>\n",
       "      <td>4.011718</td>\n",
       "      <td>0</td>\n",
       "    </tr>\n",
       "    <tr>\n",
       "      <th>12</th>\n",
       "      <td>7.119824</td>\n",
       "      <td>156.704993</td>\n",
       "      <td>18730.813653</td>\n",
       "      <td>3.606036</td>\n",
       "      <td>282.344050</td>\n",
       "      <td>347.715027</td>\n",
       "      <td>15.929536</td>\n",
       "      <td>79.500778</td>\n",
       "      <td>3.445756</td>\n",
       "      <td>0</td>\n",
       "    </tr>\n",
       "    <tr>\n",
       "      <th>13</th>\n",
       "      <td>NaN</td>\n",
       "      <td>150.174923</td>\n",
       "      <td>27331.361962</td>\n",
       "      <td>6.838223</td>\n",
       "      <td>299.415781</td>\n",
       "      <td>379.761835</td>\n",
       "      <td>19.370807</td>\n",
       "      <td>76.509996</td>\n",
       "      <td>4.413974</td>\n",
       "      <td>0</td>\n",
       "    </tr>\n",
       "    <tr>\n",
       "      <th>14</th>\n",
       "      <td>7.496232</td>\n",
       "      <td>205.344982</td>\n",
       "      <td>28388.004887</td>\n",
       "      <td>5.072558</td>\n",
       "      <td>NaN</td>\n",
       "      <td>444.645352</td>\n",
       "      <td>13.228311</td>\n",
       "      <td>70.300213</td>\n",
       "      <td>4.777382</td>\n",
       "      <td>0</td>\n",
       "    </tr>\n",
       "    <tr>\n",
       "      <th>15</th>\n",
       "      <td>6.347272</td>\n",
       "      <td>186.732881</td>\n",
       "      <td>41065.234765</td>\n",
       "      <td>9.629596</td>\n",
       "      <td>364.487687</td>\n",
       "      <td>516.743282</td>\n",
       "      <td>11.539781</td>\n",
       "      <td>75.071617</td>\n",
       "      <td>4.376348</td>\n",
       "      <td>0</td>\n",
       "    </tr>\n",
       "    <tr>\n",
       "      <th>16</th>\n",
       "      <td>7.051786</td>\n",
       "      <td>211.049406</td>\n",
       "      <td>30980.600787</td>\n",
       "      <td>10.094796</td>\n",
       "      <td>NaN</td>\n",
       "      <td>315.141267</td>\n",
       "      <td>20.397022</td>\n",
       "      <td>56.651604</td>\n",
       "      <td>4.268429</td>\n",
       "      <td>0</td>\n",
       "    </tr>\n",
       "    <tr>\n",
       "      <th>17</th>\n",
       "      <td>9.181560</td>\n",
       "      <td>273.813807</td>\n",
       "      <td>24041.326280</td>\n",
       "      <td>6.904990</td>\n",
       "      <td>398.350517</td>\n",
       "      <td>477.974642</td>\n",
       "      <td>13.387341</td>\n",
       "      <td>71.457362</td>\n",
       "      <td>4.503661</td>\n",
       "      <td>0</td>\n",
       "    </tr>\n",
       "    <tr>\n",
       "      <th>18</th>\n",
       "      <td>8.975464</td>\n",
       "      <td>279.357167</td>\n",
       "      <td>19460.398131</td>\n",
       "      <td>6.204321</td>\n",
       "      <td>NaN</td>\n",
       "      <td>431.443990</td>\n",
       "      <td>12.888759</td>\n",
       "      <td>63.821237</td>\n",
       "      <td>2.436086</td>\n",
       "      <td>0</td>\n",
       "    </tr>\n",
       "    <tr>\n",
       "      <th>19</th>\n",
       "      <td>7.371050</td>\n",
       "      <td>214.496610</td>\n",
       "      <td>25630.320037</td>\n",
       "      <td>4.432669</td>\n",
       "      <td>335.754439</td>\n",
       "      <td>469.914551</td>\n",
       "      <td>12.509164</td>\n",
       "      <td>62.797277</td>\n",
       "      <td>2.560299</td>\n",
       "      <td>0</td>\n",
       "    </tr>\n",
       "  </tbody>\n",
       "</table>\n",
       "</div>"
      ],
      "text/plain": [
       "           ph    Hardness        Solids  Chloramines     Sulfate  \\\n",
       "0         NaN  204.890455  20791.318981     7.300212  368.516441   \n",
       "1    3.716080  129.422921  18630.057858     6.635246         NaN   \n",
       "2    8.099124  224.236259  19909.541732     9.275884         NaN   \n",
       "3    8.316766  214.373394  22018.417441     8.059332  356.886136   \n",
       "4    9.092223  181.101509  17978.986339     6.546600  310.135738   \n",
       "5    5.584087  188.313324  28748.687739     7.544869  326.678363   \n",
       "6   10.223862  248.071735  28749.716544     7.513408  393.663396   \n",
       "7    8.635849  203.361523  13672.091764     4.563009  303.309771   \n",
       "8         NaN  118.988579  14285.583854     7.804174  268.646941   \n",
       "9   11.180284  227.231469  25484.508491     9.077200  404.041635   \n",
       "10   7.360640  165.520797  32452.614409     7.550701  326.624353   \n",
       "11   7.974522  218.693300  18767.656682     8.110385         NaN   \n",
       "12   7.119824  156.704993  18730.813653     3.606036  282.344050   \n",
       "13        NaN  150.174923  27331.361962     6.838223  299.415781   \n",
       "14   7.496232  205.344982  28388.004887     5.072558         NaN   \n",
       "15   6.347272  186.732881  41065.234765     9.629596  364.487687   \n",
       "16   7.051786  211.049406  30980.600787    10.094796         NaN   \n",
       "17   9.181560  273.813807  24041.326280     6.904990  398.350517   \n",
       "18   8.975464  279.357167  19460.398131     6.204321         NaN   \n",
       "19   7.371050  214.496610  25630.320037     4.432669  335.754439   \n",
       "\n",
       "    Conductivity  Organic_carbon  Trihalomethanes  Turbidity  Potability  \n",
       "0     564.308654       10.379783        86.990970   2.963135           0  \n",
       "1     592.885359       15.180013        56.329076   4.500656           0  \n",
       "2     418.606213       16.868637        66.420093   3.055934           0  \n",
       "3     363.266516       18.436524       100.341674   4.628771           0  \n",
       "4     398.410813       11.558279        31.997993   4.075075           0  \n",
       "5     280.467916        8.399735        54.917862   2.559708           0  \n",
       "6     283.651634       13.789695        84.603556   2.672989           0  \n",
       "7     474.607645       12.363817        62.798309   4.401425           0  \n",
       "8     389.375566       12.706049        53.928846   3.595017           0  \n",
       "9     563.885481       17.927806        71.976601   4.370562           0  \n",
       "10    425.383419       15.586810        78.740016   3.662292           0  \n",
       "11    364.098230       14.525746        76.485911   4.011718           0  \n",
       "12    347.715027       15.929536        79.500778   3.445756           0  \n",
       "13    379.761835       19.370807        76.509996   4.413974           0  \n",
       "14    444.645352       13.228311        70.300213   4.777382           0  \n",
       "15    516.743282       11.539781        75.071617   4.376348           0  \n",
       "16    315.141267       20.397022        56.651604   4.268429           0  \n",
       "17    477.974642       13.387341        71.457362   4.503661           0  \n",
       "18    431.443990       12.888759        63.821237   2.436086           0  \n",
       "19    469.914551       12.509164        62.797277   2.560299           0  "
      ]
     },
     "execution_count": 5,
     "metadata": {},
     "output_type": "execute_result"
    }
   ],
   "source": [
    "df.head(20)"
   ]
  },
  {
   "cell_type": "code",
   "execution_count": 6,
   "id": "c9d5c118",
   "metadata": {},
   "outputs": [
    {
     "data": {
      "text/plain": [
       "(3276, 10)"
      ]
     },
     "execution_count": 6,
     "metadata": {},
     "output_type": "execute_result"
    }
   ],
   "source": [
    "df.shape"
   ]
  },
  {
   "cell_type": "code",
   "execution_count": 7,
   "id": "4281eba2",
   "metadata": {},
   "outputs": [
    {
     "name": "stdout",
     "output_type": "stream",
     "text": [
      "<class 'pandas.core.frame.DataFrame'>\n",
      "RangeIndex: 3276 entries, 0 to 3275\n",
      "Data columns (total 10 columns):\n",
      " #   Column           Non-Null Count  Dtype  \n",
      "---  ------           --------------  -----  \n",
      " 0   ph               2785 non-null   float64\n",
      " 1   Hardness         3276 non-null   float64\n",
      " 2   Solids           3276 non-null   float64\n",
      " 3   Chloramines      3276 non-null   float64\n",
      " 4   Sulfate          2495 non-null   float64\n",
      " 5   Conductivity     3276 non-null   float64\n",
      " 6   Organic_carbon   3276 non-null   float64\n",
      " 7   Trihalomethanes  3114 non-null   float64\n",
      " 8   Turbidity        3276 non-null   float64\n",
      " 9   Potability       3276 non-null   int64  \n",
      "dtypes: float64(9), int64(1)\n",
      "memory usage: 256.1 KB\n"
     ]
    }
   ],
   "source": [
    "df.info()"
   ]
  },
  {
   "cell_type": "code",
   "execution_count": 8,
   "id": "7cb27795",
   "metadata": {},
   "outputs": [
    {
     "data": {
      "text/plain": [
       "ph                 491\n",
       "Hardness             0\n",
       "Solids               0\n",
       "Chloramines          0\n",
       "Sulfate            781\n",
       "Conductivity         0\n",
       "Organic_carbon       0\n",
       "Trihalomethanes    162\n",
       "Turbidity            0\n",
       "Potability           0\n",
       "dtype: int64"
      ]
     },
     "execution_count": 8,
     "metadata": {},
     "output_type": "execute_result"
    }
   ],
   "source": [
    "df.isnull().sum()"
   ]
  },
  {
   "cell_type": "code",
   "execution_count": 9,
   "id": "f69567c4",
   "metadata": {},
   "outputs": [],
   "source": [
    "df.dropna(inplace=True)"
   ]
  },
  {
   "cell_type": "code",
   "execution_count": 10,
   "id": "44c77da0",
   "metadata": {},
   "outputs": [
    {
     "data": {
      "text/plain": [
       "(2011, 10)"
      ]
     },
     "execution_count": 10,
     "metadata": {},
     "output_type": "execute_result"
    }
   ],
   "source": [
    "df.shape"
   ]
  },
  {
   "cell_type": "code",
   "execution_count": 11,
   "id": "5f42632b",
   "metadata": {},
   "outputs": [
    {
     "data": {
      "text/plain": [
       "ph                 0\n",
       "Hardness           0\n",
       "Solids             0\n",
       "Chloramines        0\n",
       "Sulfate            0\n",
       "Conductivity       0\n",
       "Organic_carbon     0\n",
       "Trihalomethanes    0\n",
       "Turbidity          0\n",
       "Potability         0\n",
       "dtype: int64"
      ]
     },
     "execution_count": 11,
     "metadata": {},
     "output_type": "execute_result"
    }
   ],
   "source": [
    "df.isnull().sum()"
   ]
  },
  {
   "cell_type": "code",
   "execution_count": 13,
   "id": "b348fa5b",
   "metadata": {},
   "outputs": [
    {
     "name": "stdout",
     "output_type": "stream",
     "text": [
      "<class 'pandas.core.frame.DataFrame'>\n",
      "Int64Index: 2011 entries, 3 to 3271\n",
      "Data columns (total 10 columns):\n",
      " #   Column           Non-Null Count  Dtype  \n",
      "---  ------           --------------  -----  \n",
      " 0   ph               2011 non-null   float64\n",
      " 1   Hardness         2011 non-null   float64\n",
      " 2   Solids           2011 non-null   float64\n",
      " 3   Chloramines      2011 non-null   float64\n",
      " 4   Sulfate          2011 non-null   float64\n",
      " 5   Conductivity     2011 non-null   float64\n",
      " 6   Organic_carbon   2011 non-null   float64\n",
      " 7   Trihalomethanes  2011 non-null   float64\n",
      " 8   Turbidity        2011 non-null   float64\n",
      " 9   Potability       2011 non-null   int64  \n",
      "dtypes: float64(9), int64(1)\n",
      "memory usage: 172.8 KB\n"
     ]
    }
   ],
   "source": [
    "df.info()"
   ]
  },
  {
   "cell_type": "code",
   "execution_count": 14,
   "id": "95fbc55f",
   "metadata": {
    "scrolled": true
   },
   "outputs": [
    {
     "data": {
      "text/html": [
       "<div>\n",
       "<style scoped>\n",
       "    .dataframe tbody tr th:only-of-type {\n",
       "        vertical-align: middle;\n",
       "    }\n",
       "\n",
       "    .dataframe tbody tr th {\n",
       "        vertical-align: top;\n",
       "    }\n",
       "\n",
       "    .dataframe thead th {\n",
       "        text-align: right;\n",
       "    }\n",
       "</style>\n",
       "<table border=\"1\" class=\"dataframe\">\n",
       "  <thead>\n",
       "    <tr style=\"text-align: right;\">\n",
       "      <th></th>\n",
       "      <th>ph</th>\n",
       "      <th>Hardness</th>\n",
       "      <th>Solids</th>\n",
       "      <th>Chloramines</th>\n",
       "      <th>Sulfate</th>\n",
       "      <th>Conductivity</th>\n",
       "      <th>Organic_carbon</th>\n",
       "      <th>Trihalomethanes</th>\n",
       "      <th>Turbidity</th>\n",
       "      <th>Potability</th>\n",
       "    </tr>\n",
       "  </thead>\n",
       "  <tbody>\n",
       "    <tr>\n",
       "      <th>count</th>\n",
       "      <td>2011.000000</td>\n",
       "      <td>2011.000000</td>\n",
       "      <td>2011.000000</td>\n",
       "      <td>2011.000000</td>\n",
       "      <td>2011.000000</td>\n",
       "      <td>2011.000000</td>\n",
       "      <td>2011.000000</td>\n",
       "      <td>2011.000000</td>\n",
       "      <td>2011.000000</td>\n",
       "      <td>2011.000000</td>\n",
       "    </tr>\n",
       "    <tr>\n",
       "      <th>mean</th>\n",
       "      <td>7.085990</td>\n",
       "      <td>195.968072</td>\n",
       "      <td>21917.441374</td>\n",
       "      <td>7.134338</td>\n",
       "      <td>333.224672</td>\n",
       "      <td>426.526409</td>\n",
       "      <td>14.357709</td>\n",
       "      <td>66.400859</td>\n",
       "      <td>3.969729</td>\n",
       "      <td>0.403282</td>\n",
       "    </tr>\n",
       "    <tr>\n",
       "      <th>std</th>\n",
       "      <td>1.573337</td>\n",
       "      <td>32.635085</td>\n",
       "      <td>8642.239815</td>\n",
       "      <td>1.584820</td>\n",
       "      <td>41.205172</td>\n",
       "      <td>80.712572</td>\n",
       "      <td>3.324959</td>\n",
       "      <td>16.077109</td>\n",
       "      <td>0.780346</td>\n",
       "      <td>0.490678</td>\n",
       "    </tr>\n",
       "    <tr>\n",
       "      <th>min</th>\n",
       "      <td>0.227499</td>\n",
       "      <td>73.492234</td>\n",
       "      <td>320.942611</td>\n",
       "      <td>1.390871</td>\n",
       "      <td>129.000000</td>\n",
       "      <td>201.619737</td>\n",
       "      <td>2.200000</td>\n",
       "      <td>8.577013</td>\n",
       "      <td>1.450000</td>\n",
       "      <td>0.000000</td>\n",
       "    </tr>\n",
       "    <tr>\n",
       "      <th>25%</th>\n",
       "      <td>6.089723</td>\n",
       "      <td>176.744938</td>\n",
       "      <td>15615.665390</td>\n",
       "      <td>6.138895</td>\n",
       "      <td>307.632511</td>\n",
       "      <td>366.680307</td>\n",
       "      <td>12.124105</td>\n",
       "      <td>55.952664</td>\n",
       "      <td>3.442915</td>\n",
       "      <td>0.000000</td>\n",
       "    </tr>\n",
       "    <tr>\n",
       "      <th>50%</th>\n",
       "      <td>7.027297</td>\n",
       "      <td>197.191839</td>\n",
       "      <td>20933.512750</td>\n",
       "      <td>7.143907</td>\n",
       "      <td>332.232177</td>\n",
       "      <td>423.455906</td>\n",
       "      <td>14.322019</td>\n",
       "      <td>66.542198</td>\n",
       "      <td>3.968177</td>\n",
       "      <td>0.000000</td>\n",
       "    </tr>\n",
       "    <tr>\n",
       "      <th>75%</th>\n",
       "      <td>8.052969</td>\n",
       "      <td>216.441070</td>\n",
       "      <td>27182.587067</td>\n",
       "      <td>8.109726</td>\n",
       "      <td>359.330555</td>\n",
       "      <td>482.373169</td>\n",
       "      <td>16.683049</td>\n",
       "      <td>77.291925</td>\n",
       "      <td>4.514175</td>\n",
       "      <td>1.000000</td>\n",
       "    </tr>\n",
       "    <tr>\n",
       "      <th>max</th>\n",
       "      <td>14.000000</td>\n",
       "      <td>317.338124</td>\n",
       "      <td>56488.672413</td>\n",
       "      <td>13.127000</td>\n",
       "      <td>481.030642</td>\n",
       "      <td>753.342620</td>\n",
       "      <td>27.006707</td>\n",
       "      <td>124.000000</td>\n",
       "      <td>6.494749</td>\n",
       "      <td>1.000000</td>\n",
       "    </tr>\n",
       "  </tbody>\n",
       "</table>\n",
       "</div>"
      ],
      "text/plain": [
       "                ph     Hardness        Solids  Chloramines      Sulfate  \\\n",
       "count  2011.000000  2011.000000   2011.000000  2011.000000  2011.000000   \n",
       "mean      7.085990   195.968072  21917.441374     7.134338   333.224672   \n",
       "std       1.573337    32.635085   8642.239815     1.584820    41.205172   \n",
       "min       0.227499    73.492234    320.942611     1.390871   129.000000   \n",
       "25%       6.089723   176.744938  15615.665390     6.138895   307.632511   \n",
       "50%       7.027297   197.191839  20933.512750     7.143907   332.232177   \n",
       "75%       8.052969   216.441070  27182.587067     8.109726   359.330555   \n",
       "max      14.000000   317.338124  56488.672413    13.127000   481.030642   \n",
       "\n",
       "       Conductivity  Organic_carbon  Trihalomethanes    Turbidity   Potability  \n",
       "count   2011.000000     2011.000000      2011.000000  2011.000000  2011.000000  \n",
       "mean     426.526409       14.357709        66.400859     3.969729     0.403282  \n",
       "std       80.712572        3.324959        16.077109     0.780346     0.490678  \n",
       "min      201.619737        2.200000         8.577013     1.450000     0.000000  \n",
       "25%      366.680307       12.124105        55.952664     3.442915     0.000000  \n",
       "50%      423.455906       14.322019        66.542198     3.968177     0.000000  \n",
       "75%      482.373169       16.683049        77.291925     4.514175     1.000000  \n",
       "max      753.342620       27.006707       124.000000     6.494749     1.000000  "
      ]
     },
     "execution_count": 14,
     "metadata": {},
     "output_type": "execute_result"
    }
   ],
   "source": [
    "df.describe()"
   ]
  },
  {
   "cell_type": "code",
   "execution_count": 15,
   "id": "53a1e2a5",
   "metadata": {},
   "outputs": [
    {
     "data": {
      "text/html": [
       "<div>\n",
       "<style scoped>\n",
       "    .dataframe tbody tr th:only-of-type {\n",
       "        vertical-align: middle;\n",
       "    }\n",
       "\n",
       "    .dataframe tbody tr th {\n",
       "        vertical-align: top;\n",
       "    }\n",
       "\n",
       "    .dataframe thead th {\n",
       "        text-align: right;\n",
       "    }\n",
       "</style>\n",
       "<table border=\"1\" class=\"dataframe\">\n",
       "  <thead>\n",
       "    <tr style=\"text-align: right;\">\n",
       "      <th></th>\n",
       "      <th>ph</th>\n",
       "      <th>Hardness</th>\n",
       "      <th>Solids</th>\n",
       "      <th>Chloramines</th>\n",
       "      <th>Sulfate</th>\n",
       "      <th>Conductivity</th>\n",
       "      <th>Organic_carbon</th>\n",
       "      <th>Trihalomethanes</th>\n",
       "      <th>Turbidity</th>\n",
       "      <th>Potability</th>\n",
       "    </tr>\n",
       "  </thead>\n",
       "  <tbody>\n",
       "    <tr>\n",
       "      <th>ph</th>\n",
       "      <td>1.000000</td>\n",
       "      <td>0.108948</td>\n",
       "      <td>-0.087615</td>\n",
       "      <td>-0.024768</td>\n",
       "      <td>0.010524</td>\n",
       "      <td>0.014128</td>\n",
       "      <td>0.028375</td>\n",
       "      <td>0.018278</td>\n",
       "      <td>-0.035849</td>\n",
       "      <td>0.014530</td>\n",
       "    </tr>\n",
       "    <tr>\n",
       "      <th>Hardness</th>\n",
       "      <td>0.108948</td>\n",
       "      <td>1.000000</td>\n",
       "      <td>-0.053269</td>\n",
       "      <td>-0.022685</td>\n",
       "      <td>-0.108521</td>\n",
       "      <td>0.011731</td>\n",
       "      <td>0.013224</td>\n",
       "      <td>-0.015400</td>\n",
       "      <td>-0.034831</td>\n",
       "      <td>-0.001505</td>\n",
       "    </tr>\n",
       "    <tr>\n",
       "      <th>Solids</th>\n",
       "      <td>-0.087615</td>\n",
       "      <td>-0.053269</td>\n",
       "      <td>1.000000</td>\n",
       "      <td>-0.051789</td>\n",
       "      <td>-0.162769</td>\n",
       "      <td>-0.005198</td>\n",
       "      <td>-0.005484</td>\n",
       "      <td>-0.015668</td>\n",
       "      <td>0.019409</td>\n",
       "      <td>0.040674</td>\n",
       "    </tr>\n",
       "    <tr>\n",
       "      <th>Chloramines</th>\n",
       "      <td>-0.024768</td>\n",
       "      <td>-0.022685</td>\n",
       "      <td>-0.051789</td>\n",
       "      <td>1.000000</td>\n",
       "      <td>0.006254</td>\n",
       "      <td>-0.028277</td>\n",
       "      <td>-0.023808</td>\n",
       "      <td>0.014990</td>\n",
       "      <td>0.013137</td>\n",
       "      <td>0.020784</td>\n",
       "    </tr>\n",
       "    <tr>\n",
       "      <th>Sulfate</th>\n",
       "      <td>0.010524</td>\n",
       "      <td>-0.108521</td>\n",
       "      <td>-0.162769</td>\n",
       "      <td>0.006254</td>\n",
       "      <td>1.000000</td>\n",
       "      <td>-0.016192</td>\n",
       "      <td>0.026776</td>\n",
       "      <td>-0.023347</td>\n",
       "      <td>-0.009934</td>\n",
       "      <td>-0.015303</td>\n",
       "    </tr>\n",
       "    <tr>\n",
       "      <th>Conductivity</th>\n",
       "      <td>0.014128</td>\n",
       "      <td>0.011731</td>\n",
       "      <td>-0.005198</td>\n",
       "      <td>-0.028277</td>\n",
       "      <td>-0.016192</td>\n",
       "      <td>1.000000</td>\n",
       "      <td>0.015647</td>\n",
       "      <td>0.004888</td>\n",
       "      <td>0.012495</td>\n",
       "      <td>-0.015496</td>\n",
       "    </tr>\n",
       "    <tr>\n",
       "      <th>Organic_carbon</th>\n",
       "      <td>0.028375</td>\n",
       "      <td>0.013224</td>\n",
       "      <td>-0.005484</td>\n",
       "      <td>-0.023808</td>\n",
       "      <td>0.026776</td>\n",
       "      <td>0.015647</td>\n",
       "      <td>1.000000</td>\n",
       "      <td>-0.005667</td>\n",
       "      <td>-0.015428</td>\n",
       "      <td>-0.015567</td>\n",
       "    </tr>\n",
       "    <tr>\n",
       "      <th>Trihalomethanes</th>\n",
       "      <td>0.018278</td>\n",
       "      <td>-0.015400</td>\n",
       "      <td>-0.015668</td>\n",
       "      <td>0.014990</td>\n",
       "      <td>-0.023347</td>\n",
       "      <td>0.004888</td>\n",
       "      <td>-0.005667</td>\n",
       "      <td>1.000000</td>\n",
       "      <td>-0.020497</td>\n",
       "      <td>0.009244</td>\n",
       "    </tr>\n",
       "    <tr>\n",
       "      <th>Turbidity</th>\n",
       "      <td>-0.035849</td>\n",
       "      <td>-0.034831</td>\n",
       "      <td>0.019409</td>\n",
       "      <td>0.013137</td>\n",
       "      <td>-0.009934</td>\n",
       "      <td>0.012495</td>\n",
       "      <td>-0.015428</td>\n",
       "      <td>-0.020497</td>\n",
       "      <td>1.000000</td>\n",
       "      <td>0.022682</td>\n",
       "    </tr>\n",
       "    <tr>\n",
       "      <th>Potability</th>\n",
       "      <td>0.014530</td>\n",
       "      <td>-0.001505</td>\n",
       "      <td>0.040674</td>\n",
       "      <td>0.020784</td>\n",
       "      <td>-0.015303</td>\n",
       "      <td>-0.015496</td>\n",
       "      <td>-0.015567</td>\n",
       "      <td>0.009244</td>\n",
       "      <td>0.022682</td>\n",
       "      <td>1.000000</td>\n",
       "    </tr>\n",
       "  </tbody>\n",
       "</table>\n",
       "</div>"
      ],
      "text/plain": [
       "                       ph  Hardness    Solids  Chloramines   Sulfate  \\\n",
       "ph               1.000000  0.108948 -0.087615    -0.024768  0.010524   \n",
       "Hardness         0.108948  1.000000 -0.053269    -0.022685 -0.108521   \n",
       "Solids          -0.087615 -0.053269  1.000000    -0.051789 -0.162769   \n",
       "Chloramines     -0.024768 -0.022685 -0.051789     1.000000  0.006254   \n",
       "Sulfate          0.010524 -0.108521 -0.162769     0.006254  1.000000   \n",
       "Conductivity     0.014128  0.011731 -0.005198    -0.028277 -0.016192   \n",
       "Organic_carbon   0.028375  0.013224 -0.005484    -0.023808  0.026776   \n",
       "Trihalomethanes  0.018278 -0.015400 -0.015668     0.014990 -0.023347   \n",
       "Turbidity       -0.035849 -0.034831  0.019409     0.013137 -0.009934   \n",
       "Potability       0.014530 -0.001505  0.040674     0.020784 -0.015303   \n",
       "\n",
       "                 Conductivity  Organic_carbon  Trihalomethanes  Turbidity  \\\n",
       "ph                   0.014128        0.028375         0.018278  -0.035849   \n",
       "Hardness             0.011731        0.013224        -0.015400  -0.034831   \n",
       "Solids              -0.005198       -0.005484        -0.015668   0.019409   \n",
       "Chloramines         -0.028277       -0.023808         0.014990   0.013137   \n",
       "Sulfate             -0.016192        0.026776        -0.023347  -0.009934   \n",
       "Conductivity         1.000000        0.015647         0.004888   0.012495   \n",
       "Organic_carbon       0.015647        1.000000        -0.005667  -0.015428   \n",
       "Trihalomethanes      0.004888       -0.005667         1.000000  -0.020497   \n",
       "Turbidity            0.012495       -0.015428        -0.020497   1.000000   \n",
       "Potability          -0.015496       -0.015567         0.009244   0.022682   \n",
       "\n",
       "                 Potability  \n",
       "ph                 0.014530  \n",
       "Hardness          -0.001505  \n",
       "Solids             0.040674  \n",
       "Chloramines        0.020784  \n",
       "Sulfate           -0.015303  \n",
       "Conductivity      -0.015496  \n",
       "Organic_carbon    -0.015567  \n",
       "Trihalomethanes    0.009244  \n",
       "Turbidity          0.022682  \n",
       "Potability         1.000000  "
      ]
     },
     "execution_count": 15,
     "metadata": {},
     "output_type": "execute_result"
    }
   ],
   "source": [
    "df.corr()"
   ]
  },
  {
   "cell_type": "code",
   "execution_count": 17,
   "id": "29c5501f",
   "metadata": {
    "scrolled": false
   },
   "outputs": [
    {
     "data": {
      "image/png": "[encoded data removed]",
      "text/plain": [
       "<Figure size 640x480 with 2 Axes>"
      ]
     },
     "metadata": {},
     "output_type": "display_data"
    }
   ],
   "source": [
    "sns.heatmap(df.corr());"
   ]
  },
  {
   "cell_type": "code",
   "execution_count": 19,
   "id": "dc34bfd9",
   "metadata": {},
   "outputs": [],
   "source": [
    "X = df.drop(columns=['Potability'])"
   ]
  },
  {
   "cell_type": "code",
   "execution_count": 20,
   "id": "38177f21",
   "metadata": {},
   "outputs": [],
   "source": [
    "y = df['Potability']"
   ]
  },
  {
   "cell_type": "code",
   "execution_count": null,
   "id": "d6bd808b",
   "metadata": {},
   "outputs": [],
   "source": []
  },
  {
   "cell_type": "code",
   "execution_count": null,
   "id": "8bb4d765",
   "metadata": {},
   "outputs": [],
   "source": []
  },
  {
   "cell_type": "code",
   "execution_count": 21,
   "id": "0a87adde",
   "metadata": {},
   "outputs": [
    {
     "data": {
      "text/html": [
       "<div>\n",
       "<style scoped>\n",
       "    .dataframe tbody tr th:only-of-type {\n",
       "        vertical-align: middle;\n",
       "    }\n",
       "\n",
       "    .dataframe tbody tr th {\n",
       "        vertical-align: top;\n",
       "    }\n",
       "\n",
       "    .dataframe thead th {\n",
       "        text-align: right;\n",
       "    }\n",
       "</style>\n",
       "<table border=\"1\" class=\"dataframe\">\n",
       "  <thead>\n",
       "    <tr style=\"text-align: right;\">\n",
       "      <th></th>\n",
       "      <th>ph</th>\n",
       "      <th>Hardness</th>\n",
       "      <th>Solids</th>\n",
       "      <th>Chloramines</th>\n",
       "      <th>Sulfate</th>\n",
       "      <th>Conductivity</th>\n",
       "      <th>Organic_carbon</th>\n",
       "      <th>Trihalomethanes</th>\n",
       "      <th>Turbidity</th>\n",
       "    </tr>\n",
       "  </thead>\n",
       "  <tbody>\n",
       "    <tr>\n",
       "      <th>3</th>\n",
       "      <td>8.316766</td>\n",
       "      <td>214.373394</td>\n",
       "      <td>22018.417441</td>\n",
       "      <td>8.059332</td>\n",
       "      <td>356.886136</td>\n",
       "      <td>363.266516</td>\n",
       "      <td>18.436524</td>\n",
       "      <td>100.341674</td>\n",
       "      <td>4.628771</td>\n",
       "    </tr>\n",
       "    <tr>\n",
       "      <th>4</th>\n",
       "      <td>9.092223</td>\n",
       "      <td>181.101509</td>\n",
       "      <td>17978.986339</td>\n",
       "      <td>6.546600</td>\n",
       "      <td>310.135738</td>\n",
       "      <td>398.410813</td>\n",
       "      <td>11.558279</td>\n",
       "      <td>31.997993</td>\n",
       "      <td>4.075075</td>\n",
       "    </tr>\n",
       "    <tr>\n",
       "      <th>5</th>\n",
       "      <td>5.584087</td>\n",
       "      <td>188.313324</td>\n",
       "      <td>28748.687739</td>\n",
       "      <td>7.544869</td>\n",
       "      <td>326.678363</td>\n",
       "      <td>280.467916</td>\n",
       "      <td>8.399735</td>\n",
       "      <td>54.917862</td>\n",
       "      <td>2.559708</td>\n",
       "    </tr>\n",
       "    <tr>\n",
       "      <th>6</th>\n",
       "      <td>10.223862</td>\n",
       "      <td>248.071735</td>\n",
       "      <td>28749.716544</td>\n",
       "      <td>7.513408</td>\n",
       "      <td>393.663396</td>\n",
       "      <td>283.651634</td>\n",
       "      <td>13.789695</td>\n",
       "      <td>84.603556</td>\n",
       "      <td>2.672989</td>\n",
       "    </tr>\n",
       "    <tr>\n",
       "      <th>7</th>\n",
       "      <td>8.635849</td>\n",
       "      <td>203.361523</td>\n",
       "      <td>13672.091764</td>\n",
       "      <td>4.563009</td>\n",
       "      <td>303.309771</td>\n",
       "      <td>474.607645</td>\n",
       "      <td>12.363817</td>\n",
       "      <td>62.798309</td>\n",
       "      <td>4.401425</td>\n",
       "    </tr>\n",
       "  </tbody>\n",
       "</table>\n",
       "</div>"
      ],
      "text/plain": [
       "          ph    Hardness        Solids  Chloramines     Sulfate  Conductivity  \\\n",
       "3   8.316766  214.373394  22018.417441     8.059332  356.886136    363.266516   \n",
       "4   9.092223  181.101509  17978.986339     6.546600  310.135738    398.410813   \n",
       "5   5.584087  188.313324  28748.687739     7.544869  326.678363    280.467916   \n",
       "6  10.223862  248.071735  28749.716544     7.513408  393.663396    283.651634   \n",
       "7   8.635849  203.361523  13672.091764     4.563009  303.309771    474.607645   \n",
       "\n",
       "   Organic_carbon  Trihalomethanes  Turbidity  \n",
       "3       18.436524       100.341674   4.628771  \n",
       "4       11.558279        31.997993   4.075075  \n",
       "5        8.399735        54.917862   2.559708  \n",
       "6       13.789695        84.603556   2.672989  \n",
       "7       12.363817        62.798309   4.401425  "
      ]
     },
     "execution_count": 21,
     "metadata": {},
     "output_type": "execute_result"
    }
   ],
   "source": [
    "X.head()"
   ]
  },
  {
   "cell_type": "code",
   "execution_count": 22,
   "id": "b7181c45",
   "metadata": {},
   "outputs": [
    {
     "data": {
      "image/png": "[encoded data removed]",
      "text/plain": [
       "<Figure size 640x480 with 2 Axes>"
      ]
     },
     "metadata": {},
     "output_type": "display_data"
    }
   ],
   "source": [
    "sns.heatmap(X.corr());"
   ]
  },
  {
   "cell_type": "code",
   "execution_count": 23,
   "id": "2bb192e1",
   "metadata": {},
   "outputs": [
    {
     "data": {
      "text/plain": [
       "0    1200\n",
       "1     811\n",
       "Name: Potability, dtype: int64"
      ]
     },
     "execution_count": 23,
     "metadata": {},
     "output_type": "execute_result"
    }
   ],
   "source": [
    "y.value_counts()"
   ]
  },
  {
   "cell_type": "code",
   "execution_count": 24,
   "id": "70675f31",
   "metadata": {},
   "outputs": [],
   "source": [
    "from sklearn.model_selection import train_test_split"
   ]
  },
  {
   "cell_type": "code",
   "execution_count": 25,
   "id": "325afffe",
   "metadata": {},
   "outputs": [],
   "source": [
    "X_train, X_val, y_train, y_val = train_test_split(X, y, train_size = 0.8, random_state = 123)"
   ]
  },
  {
   "cell_type": "code",
   "execution_count": 26,
   "id": "a7ae1052",
   "metadata": {},
   "outputs": [
    {
     "data": {
      "text/plain": [
       "(1608, 9)"
      ]
     },
     "execution_count": 26,
     "metadata": {},
     "output_type": "execute_result"
    }
   ],
   "source": [
    "X_train.shape"
   ]
  },
  {
   "cell_type": "code",
   "execution_count": 27,
   "id": "f46d04bd",
   "metadata": {},
   "outputs": [
    {
     "data": {
      "text/plain": [
       "(1608,)"
      ]
     },
     "execution_count": 27,
     "metadata": {},
     "output_type": "execute_result"
    }
   ],
   "source": [
    "y_train.shape"
   ]
  },
  {
   "cell_type": "code",
   "execution_count": 28,
   "id": "54a32c23",
   "metadata": {},
   "outputs": [
    {
     "data": {
      "text/plain": [
       "(403, 9)"
      ]
     },
     "execution_count": 28,
     "metadata": {},
     "output_type": "execute_result"
    }
   ],
   "source": [
    "X_val.shape"
   ]
  },
  {
   "cell_type": "code",
   "execution_count": 29,
   "id": "d78eecfe",
   "metadata": {},
   "outputs": [],
   "source": [
    "from sklearn.tree import DecisionTreeClassifier\n",
    "from sklearn.metrics import accuracy_score, f1_score"
   ]
  },
  {
   "cell_type": "code",
   "execution_count": 30,
   "id": "0f13ad64",
   "metadata": {},
   "outputs": [],
   "source": [
    "min_samples_split_list = [2,10, 30, 50, 100, 200, 300, 700]"
   ]
  },
  {
   "cell_type": "code",
   "execution_count": 31,
   "id": "3fc1c7c4",
   "metadata": {},
   "outputs": [
    {
     "data": {
      "image/png": "[encoded data removed]",
      "text/plain": [
       "<Figure size 640x480 with 1 Axes>"
      ]
     },
     "metadata": {},
     "output_type": "display_data"
    }
   ],
   "source": [
    "accuracy_list_train = []\n",
    "f1_list_train = []\n",
    "accuracy_list_val = []\n",
    "f1_list_val = []\n",
    "for min_samples_split in min_samples_split_list:\n",
    "    # You can fit the model at the same time you define it, because the fit function returns the fitted estimator.\n",
    "    model = DecisionTreeClassifier(min_samples_split = min_samples_split,\n",
    "                                   random_state = 123).fit(X_train,y_train) \n",
    "    predictions_train = model.predict(X_train) ## The predicted values for the train dataset\n",
    "    predictions_val = model.predict(X_val) ## The predicted values for the test dataset\n",
    "    accuracy_train = accuracy_score(predictions_train,y_train)\n",
    "    f1_train = f1_score(predictions_train,y_train)\n",
    "    accuracy_val = accuracy_score(predictions_val,y_val)\n",
    "    f1_val = f1_score(predictions_val,y_val)\n",
    "    accuracy_list_train.append(accuracy_train)\n",
    "    f1_list_train.append(f1_train)\n",
    "    accuracy_list_val.append(accuracy_val)\n",
    "    f1_list_val.append(f1_val)\n",
    "\n",
    "plt.title('Train x Validation metrics')\n",
    "plt.xlabel('min_samples_split')\n",
    "plt.ylabel('accuracy')\n",
    "plt.xticks(ticks = range(len(min_samples_split_list )),labels=min_samples_split_list)\n",
    "plt.plot(accuracy_list_train)\n",
    "plt.plot(accuracy_list_val)\n",
    "plt.legend(['Train','Validation']);"
   ]
  },
  {
   "cell_type": "code",
   "execution_count": 32,
   "id": "2d94a9d7",
   "metadata": {
    "scrolled": true
   },
   "outputs": [
    {
     "data": {
      "text/plain": [
       "[1.0,\n",
       " 0.9123134328358209,\n",
       " 0.8165422885572139,\n",
       " 0.779228855721393,\n",
       " 0.724502487562189,\n",
       " 0.6592039800995025,\n",
       " 0.6517412935323383,\n",
       " 0.6312189054726368]"
      ]
     },
     "execution_count": 32,
     "metadata": {},
     "output_type": "execute_result"
    }
   ],
   "source": [
    "accuracy_list_train"
   ]
  },
  {
   "cell_type": "code",
   "execution_count": 33,
   "id": "246936e2",
   "metadata": {},
   "outputs": [
    {
     "data": {
      "text/plain": [
       "[0.5831265508684863,\n",
       " 0.5732009925558312,\n",
       " 0.5880893300248139,\n",
       " 0.598014888337469,\n",
       " 0.6575682382133995,\n",
       " 0.6426799007444168,\n",
       " 0.6401985111662531,\n",
       " 0.6327543424317618]"
      ]
     },
     "execution_count": 33,
     "metadata": {},
     "output_type": "execute_result"
    }
   ],
   "source": [
    "accuracy_list_val"
   ]
  },
  {
   "cell_type": "code",
   "execution_count": 34,
   "id": "c8f3c807",
   "metadata": {},
   "outputs": [
    {
     "data": {
      "text/plain": [
       "[1.0,\n",
       " 0.8922841864018335,\n",
       " 0.7763457164518576,\n",
       " 0.7271329746348961,\n",
       " 0.6424535916061339,\n",
       " 0.5500821018062397,\n",
       " 0.5309882747068676,\n",
       " 0.46528403967538323]"
      ]
     },
     "execution_count": 34,
     "metadata": {},
     "output_type": "execute_result"
    }
   ],
   "source": [
    "f1_list_train"
   ]
  },
  {
   "cell_type": "code",
   "execution_count": 35,
   "id": "5e1012c4",
   "metadata": {},
   "outputs": [
    {
     "data": {
      "text/plain": [
       "[0.47500000000000003,\n",
       " 0.46249999999999997,\n",
       " 0.4779874213836478,\n",
       " 0.4635761589403974,\n",
       " 0.5106382978723404,\n",
       " 0.4820143884892086,\n",
       " 0.4727272727272728,\n",
       " 0.421875]"
      ]
     },
     "execution_count": 35,
     "metadata": {},
     "output_type": "execute_result"
    }
   ],
   "source": [
    "f1_list_val"
   ]
  },
  {
   "cell_type": "code",
   "execution_count": 36,
   "id": "f2f5893b",
   "metadata": {},
   "outputs": [
    {
     "data": {
      "text/plain": [
       "0    257\n",
       "1    146\n",
       "Name: Potability, dtype: int64"
      ]
     },
     "execution_count": 36,
     "metadata": {},
     "output_type": "execute_result"
    }
   ],
   "source": [
    "y_val.value_counts()"
   ]
  },
  {
   "cell_type": "code",
   "execution_count": 39,
   "id": "4198578d",
   "metadata": {},
   "outputs": [],
   "source": [
    "min_samples_split_list = np.arange(50,210,10)"
   ]
  },
  {
   "cell_type": "code",
   "execution_count": 40,
   "id": "9f55ece8",
   "metadata": {},
   "outputs": [
    {
     "data": {
      "image/png": "[encoded data removed]",
      "text/plain": [
       "<Figure size 640x480 with 1 Axes>"
      ]
     },
     "metadata": {},
     "output_type": "display_data"
    }
   ],
   "source": [
    "accuracy_list_train = []\n",
    "f1_list_train = []\n",
    "accuracy_list_val = []\n",
    "f1_list_val = []\n",
    "for min_samples_split in min_samples_split_list:\n",
    "    # You can fit the model at the same time you define it, because the fit function returns the fitted estimator.\n",
    "    model = DecisionTreeClassifier(min_samples_split = min_samples_split,\n",
    "                                   random_state = 123).fit(X_train,y_train) \n",
    "    predictions_train = model.predict(X_train) ## The predicted values for the train dataset\n",
    "    predictions_val = model.predict(X_val) ## The predicted values for the test dataset\n",
    "    accuracy_train = accuracy_score(predictions_train,y_train)\n",
    "    f1_train = f1_score(predictions_train,y_train)\n",
    "    accuracy_val = accuracy_score(predictions_val,y_val)\n",
    "    f1_val = f1_score(predictions_val,y_val)\n",
    "    accuracy_list_train.append(accuracy_train)\n",
    "    f1_list_train.append(f1_train)\n",
    "    accuracy_list_val.append(accuracy_val)\n",
    "    f1_list_val.append(f1_val)\n",
    "\n",
    "plt.title('Train x Validation metrics')\n",
    "plt.xlabel('min_samples_split')\n",
    "plt.ylabel('accuracy')\n",
    "plt.xticks(ticks = range(len(min_samples_split_list )),labels=min_samples_split_list)\n",
    "plt.plot(accuracy_list_train)\n",
    "plt.plot(accuracy_list_val)\n",
    "plt.legend(['Train','Validation']);"
   ]
  },
  {
   "cell_type": "code",
   "execution_count": 41,
   "id": "08ecce71",
   "metadata": {
    "scrolled": true
   },
   "outputs": [
    {
     "data": {
      "text/plain": [
       "[0.779228855721393,\n",
       " 0.7711442786069652,\n",
       " 0.7593283582089553,\n",
       " 0.7444029850746269,\n",
       " 0.7288557213930348,\n",
       " 0.724502487562189,\n",
       " 0.724502487562189,\n",
       " 0.724502487562189,\n",
       " 0.710820895522388,\n",
       " 0.710820895522388,\n",
       " 0.681592039800995,\n",
       " 0.6791044776119403,\n",
       " 0.664179104477612,\n",
       " 0.664179104477612,\n",
       " 0.664179104477612,\n",
       " 0.6592039800995025]"
      ]
     },
     "execution_count": 41,
     "metadata": {},
     "output_type": "execute_result"
    }
   ],
   "source": [
    "accuracy_list_train"
   ]
  },
  {
   "cell_type": "code",
   "execution_count": 42,
   "id": "14764850",
   "metadata": {},
   "outputs": [
    {
     "data": {
      "text/plain": [
       "[0.598014888337469,\n",
       " 0.6228287841191067,\n",
       " 0.6352357320099256,\n",
       " 0.6377171215880894,\n",
       " 0.6501240694789082,\n",
       " 0.6575682382133995,\n",
       " 0.6451612903225806,\n",
       " 0.6451612903225806,\n",
       " 0.652605459057072,\n",
       " 0.652605459057072,\n",
       " 0.6650124069478908,\n",
       " 0.6724565756823822,\n",
       " 0.6377171215880894,\n",
       " 0.6377171215880894,\n",
       " 0.6377171215880894,\n",
       " 0.6426799007444168]"
      ]
     },
     "execution_count": 42,
     "metadata": {},
     "output_type": "execute_result"
    }
   ],
   "source": [
    "accuracy_list_val"
   ]
  },
  {
   "cell_type": "code",
   "execution_count": 43,
   "id": "57bebe56",
   "metadata": {},
   "outputs": [
    {
     "data": {
      "text/plain": [
       "[0.7271329746348961,\n",
       " 0.7093206951026856,\n",
       " 0.6931007137192703,\n",
       " 0.6786551993745112,\n",
       " 0.6528662420382166,\n",
       " 0.6424535916061339,\n",
       " 0.6464485235434957,\n",
       " 0.6464485235434957,\n",
       " 0.6089150546677881,\n",
       " 0.6089150546677881,\n",
       " 0.5638841567291313,\n",
       " 0.5597269624573379,\n",
       " 0.5609756097560976,\n",
       " 0.5609756097560976,\n",
       " 0.5609756097560976,\n",
       " 0.5500821018062397]"
      ]
     },
     "execution_count": 43,
     "metadata": {},
     "output_type": "execute_result"
    }
   ],
   "source": [
    "f1_list_train"
   ]
  },
  {
   "cell_type": "code",
   "execution_count": 44,
   "id": "760c87c2",
   "metadata": {},
   "outputs": [
    {
     "data": {
      "text/plain": [
       "[0.4635761589403974,\n",
       " 0.47586206896551725,\n",
       " 0.480565371024735,\n",
       " 0.496551724137931,\n",
       " 0.5087108013937283,\n",
       " 0.5106382978723404,\n",
       " 0.5017421602787456,\n",
       " 0.5017421602787456,\n",
       " 0.4852941176470588,\n",
       " 0.4852941176470588,\n",
       " 0.4981412639405204,\n",
       " 0.5074626865671642,\n",
       " 0.4859154929577465,\n",
       " 0.4859154929577465,\n",
       " 0.4859154929577465,\n",
       " 0.4820143884892086]"
      ]
     },
     "execution_count": 44,
     "metadata": {},
     "output_type": "execute_result"
    }
   ],
   "source": [
    "f1_list_val"
   ]
  },
  {
   "cell_type": "code",
   "execution_count": 45,
   "id": "6add59db",
   "metadata": {},
   "outputs": [],
   "source": [
    "min_samples_split_list = np.arange(150,171)"
   ]
  },
  {
   "cell_type": "code",
   "execution_count": 46,
   "id": "51dbf306",
   "metadata": {},
   "outputs": [
    {
     "data": {
      "image/png": "[encoded data removed]",
      "text/plain": [
       "<Figure size 640x480 with 1 Axes>"
      ]
     },
     "metadata": {},
     "output_type": "display_data"
    }
   ],
   "source": [
    "accuracy_list_train = []\n",
    "f1_list_train = []\n",
    "accuracy_list_val = []\n",
    "f1_list_val = []\n",
    "for min_samples_split in min_samples_split_list:\n",
    "    # You can fit the model at the same time you define it, because the fit function returns the fitted estimator.\n",
    "    model = DecisionTreeClassifier(min_samples_split = min_samples_split,\n",
    "                                   random_state = 123).fit(X_train,y_train) \n",
    "    predictions_train = model.predict(X_train) ## The predicted values for the train dataset\n",
    "    predictions_val = model.predict(X_val) ## The predicted values for the test dataset\n",
    "    accuracy_train = accuracy_score(predictions_train,y_train)\n",
    "    f1_train = f1_score(predictions_train,y_train)\n",
    "    accuracy_val = accuracy_score(predictions_val,y_val)\n",
    "    f1_val = f1_score(predictions_val,y_val)\n",
    "    accuracy_list_train.append(accuracy_train)\n",
    "    f1_list_train.append(f1_train)\n",
    "    accuracy_list_val.append(accuracy_val)\n",
    "    f1_list_val.append(f1_val)\n",
    "\n",
    "plt.title('Train x Validation metrics')\n",
    "plt.xlabel('min_samples_split')\n",
    "plt.ylabel('accuracy')\n",
    "plt.xticks(ticks = range(len(min_samples_split_list )),labels=min_samples_split_list)\n",
    "plt.plot(accuracy_list_train)\n",
    "plt.plot(accuracy_list_val)\n",
    "plt.legend(['Train','Validation']);"
   ]
  },
  {
   "cell_type": "code",
   "execution_count": 47,
   "id": "3c0f8abc",
   "metadata": {
    "scrolled": true
   },
   "outputs": [
    {
     "data": {
      "text/plain": [
       "[0.681592039800995,\n",
       " 0.681592039800995,\n",
       " 0.681592039800995,\n",
       " 0.681592039800995,\n",
       " 0.681592039800995,\n",
       " 0.681592039800995,\n",
       " 0.681592039800995,\n",
       " 0.681592039800995,\n",
       " 0.6791044776119403,\n",
       " 0.6791044776119403,\n",
       " 0.6791044776119403,\n",
       " 0.6791044776119403,\n",
       " 0.6791044776119403,\n",
       " 0.6791044776119403,\n",
       " 0.6772388059701493,\n",
       " 0.6772388059701493,\n",
       " 0.6660447761194029,\n",
       " 0.664179104477612,\n",
       " 0.664179104477612,\n",
       " 0.664179104477612,\n",
       " 0.664179104477612]"
      ]
     },
     "execution_count": 47,
     "metadata": {},
     "output_type": "execute_result"
    }
   ],
   "source": [
    "accuracy_list_train"
   ]
  },
  {
   "cell_type": "code",
   "execution_count": 48,
   "id": "f2c8cf79",
   "metadata": {},
   "outputs": [
    {
     "data": {
      "text/plain": [
       "[0.6650124069478908,\n",
       " 0.6650124069478908,\n",
       " 0.6650124069478908,\n",
       " 0.6650124069478908,\n",
       " 0.6650124069478908,\n",
       " 0.6650124069478908,\n",
       " 0.6650124069478908,\n",
       " 0.6650124069478908,\n",
       " 0.6724565756823822,\n",
       " 0.6724565756823822,\n",
       " 0.6724565756823822,\n",
       " 0.6724565756823822,\n",
       " 0.6724565756823822,\n",
       " 0.6724565756823822,\n",
       " 0.674937965260546,\n",
       " 0.674937965260546,\n",
       " 0.6352357320099256,\n",
       " 0.6377171215880894,\n",
       " 0.6377171215880894,\n",
       " 0.6377171215880894,\n",
       " 0.6377171215880894]"
      ]
     },
     "execution_count": 48,
     "metadata": {},
     "output_type": "execute_result"
    }
   ],
   "source": [
    "accuracy_list_val"
   ]
  },
  {
   "cell_type": "code",
   "execution_count": 49,
   "id": "fb87f3f7",
   "metadata": {},
   "outputs": [
    {
     "data": {
      "text/plain": [
       "[0.5638841567291313,\n",
       " 0.5638841567291313,\n",
       " 0.5638841567291313,\n",
       " 0.5638841567291313,\n",
       " 0.5638841567291313,\n",
       " 0.5638841567291313,\n",
       " 0.5638841567291313,\n",
       " 0.5638841567291313,\n",
       " 0.5597269624573379,\n",
       " 0.5597269624573379,\n",
       " 0.5597269624573379,\n",
       " 0.5597269624573379,\n",
       " 0.5597269624573379,\n",
       " 0.5597269624573379,\n",
       " 0.5552699228791773,\n",
       " 0.5552699228791773,\n",
       " 0.5714285714285715,\n",
       " 0.5609756097560976,\n",
       " 0.5609756097560976,\n",
       " 0.5609756097560976,\n",
       " 0.5609756097560976]"
      ]
     },
     "execution_count": 49,
     "metadata": {},
     "output_type": "execute_result"
    }
   ],
   "source": [
    "f1_list_train"
   ]
  },
  {
   "cell_type": "code",
   "execution_count": 50,
   "id": "a8c2a8b7",
   "metadata": {},
   "outputs": [
    {
     "data": {
      "text/plain": [
       "[0.4981412639405204,\n",
       " 0.4981412639405204,\n",
       " 0.4981412639405204,\n",
       " 0.4981412639405204,\n",
       " 0.4981412639405204,\n",
       " 0.4981412639405204,\n",
       " 0.4981412639405204,\n",
       " 0.4981412639405204,\n",
       " 0.5074626865671642,\n",
       " 0.5074626865671642,\n",
       " 0.5074626865671642,\n",
       " 0.5074626865671642,\n",
       " 0.5074626865671642,\n",
       " 0.5074626865671642,\n",
       " 0.5019011406844106,\n",
       " 0.5019011406844106,\n",
       " 0.4878048780487805,\n",
       " 0.4859154929577465,\n",
       " 0.4859154929577465,\n",
       " 0.4859154929577465,\n",
       " 0.4859154929577465]"
      ]
     },
     "execution_count": 50,
     "metadata": {},
     "output_type": "execute_result"
    }
   ],
   "source": [
    "f1_list_val"
   ]
  },
  {
   "cell_type": "code",
   "execution_count": 51,
   "id": "a1f6a426",
   "metadata": {},
   "outputs": [],
   "source": [
    "min_samples_split_list = np.arange(160,171)"
   ]
  },
  {
   "cell_type": "code",
   "execution_count": 52,
   "id": "607b167e",
   "metadata": {},
   "outputs": [
    {
     "data": {
      "image/png": "[encoded data removed]",
      "text/plain": [
       "<Figure size 640x480 with 1 Axes>"
      ]
     },
     "metadata": {},
     "output_type": "display_data"
    }
   ],
   "source": [
    "accuracy_list_train = []\n",
    "f1_list_train = []\n",
    "accuracy_list_val = []\n",
    "f1_list_val = []\n",
    "for min_samples_split in min_samples_split_list:\n",
    "    # You can fit the model at the same time you define it, because the fit function returns the fitted estimator.\n",
    "    model = DecisionTreeClassifier(min_samples_split = min_samples_split,\n",
    "                                   random_state = 123).fit(X_train,y_train) \n",
    "    predictions_train = model.predict(X_train) ## The predicted values for the train dataset\n",
    "    predictions_val = model.predict(X_val) ## The predicted values for the test dataset\n",
    "    accuracy_train = accuracy_score(predictions_train,y_train)\n",
    "    f1_train = f1_score(predictions_train,y_train)\n",
    "    accuracy_val = accuracy_score(predictions_val,y_val)\n",
    "    f1_val = f1_score(predictions_val,y_val)\n",
    "    accuracy_list_train.append(accuracy_train)\n",
    "    f1_list_train.append(f1_train)\n",
    "    accuracy_list_val.append(accuracy_val)\n",
    "    f1_list_val.append(f1_val)\n",
    "\n",
    "plt.title('Train x Validation metrics')\n",
    "plt.xlabel('min_samples_split')\n",
    "plt.ylabel('accuracy')\n",
    "plt.xticks(ticks = range(len(min_samples_split_list )),labels=min_samples_split_list)\n",
    "plt.plot(accuracy_list_train)\n",
    "plt.plot(accuracy_list_val)\n",
    "plt.legend(['Train','Validation']);"
   ]
  },
  {
   "cell_type": "code",
   "execution_count": 53,
   "id": "6b377c14",
   "metadata": {
    "scrolled": true
   },
   "outputs": [
    {
     "data": {
      "text/plain": [
       "[0.6791044776119403,\n",
       " 0.6791044776119403,\n",
       " 0.6791044776119403,\n",
       " 0.6791044776119403,\n",
       " 0.6772388059701493,\n",
       " 0.6772388059701493,\n",
       " 0.6660447761194029,\n",
       " 0.664179104477612,\n",
       " 0.664179104477612,\n",
       " 0.664179104477612,\n",
       " 0.664179104477612]"
      ]
     },
     "execution_count": 53,
     "metadata": {},
     "output_type": "execute_result"
    }
   ],
   "source": [
    "accuracy_list_train"
   ]
  },
  {
   "cell_type": "code",
   "execution_count": 54,
   "id": "cc9a9849",
   "metadata": {},
   "outputs": [
    {
     "data": {
      "text/plain": [
       "[0.6724565756823822,\n",
       " 0.6724565756823822,\n",
       " 0.6724565756823822,\n",
       " 0.6724565756823822,\n",
       " 0.674937965260546,\n",
       " 0.674937965260546,\n",
       " 0.6352357320099256,\n",
       " 0.6377171215880894,\n",
       " 0.6377171215880894,\n",
       " 0.6377171215880894,\n",
       " 0.6377171215880894]"
      ]
     },
     "execution_count": 54,
     "metadata": {},
     "output_type": "execute_result"
    }
   ],
   "source": [
    "accuracy_list_val"
   ]
  },
  {
   "cell_type": "code",
   "execution_count": 55,
   "id": "72e09e83",
   "metadata": {},
   "outputs": [
    {
     "data": {
      "text/plain": [
       "[0.5597269624573379,\n",
       " 0.5597269624573379,\n",
       " 0.5597269624573379,\n",
       " 0.5597269624573379,\n",
       " 0.5552699228791773,\n",
       " 0.5552699228791773,\n",
       " 0.5714285714285715,\n",
       " 0.5609756097560976,\n",
       " 0.5609756097560976,\n",
       " 0.5609756097560976,\n",
       " 0.5609756097560976]"
      ]
     },
     "execution_count": 55,
     "metadata": {},
     "output_type": "execute_result"
    }
   ],
   "source": [
    "f1_list_train"
   ]
  },
  {
   "cell_type": "code",
   "execution_count": 56,
   "id": "d067397f",
   "metadata": {},
   "outputs": [
    {
     "data": {
      "text/plain": [
       "[0.5074626865671642,\n",
       " 0.5074626865671642,\n",
       " 0.5074626865671642,\n",
       " 0.5074626865671642,\n",
       " 0.5019011406844106,\n",
       " 0.5019011406844106,\n",
       " 0.4878048780487805,\n",
       " 0.4859154929577465,\n",
       " 0.4859154929577465,\n",
       " 0.4859154929577465,\n",
       " 0.4859154929577465]"
      ]
     },
     "execution_count": 56,
     "metadata": {},
     "output_type": "execute_result"
    }
   ],
   "source": [
    "f1_list_val"
   ]
  },
  {
   "cell_type": "code",
   "execution_count": null,
   "id": "6f37fbe3",
   "metadata": {},
   "outputs": [],
   "source": []
  },
  {
   "cell_type": "code",
   "execution_count": null,
   "id": "b4075d42",
   "metadata": {},
   "outputs": [],
   "source": []
  },
  {
   "cell_type": "code",
   "execution_count": null,
   "id": "21b93d1a",
   "metadata": {},
   "outputs": [],
   "source": []
  },
  {
   "cell_type": "code",
   "execution_count": 57,
   "id": "49dd4952",
   "metadata": {},
   "outputs": [],
   "source": [
    "max_depth_list = [1,2, 3, 4, 8, 16, 32, 64, None]"
   ]
  },
  {
   "cell_type": "code",
   "execution_count": 58,
   "id": "f48b0d8a",
   "metadata": {},
   "outputs": [
    {
     "data": {
      "image/png": "[encoded data removed]",
      "text/plain": [
       "<Figure size 640x480 with 1 Axes>"
      ]
     },
     "metadata": {},
     "output_type": "display_data"
    }
   ],
   "source": [
    "accuracy_list_train = []\n",
    "f1_list_train = []\n",
    "accuracy_list_val = []\n",
    "f1_list_val = []\n",
    "for max_depth in max_depth_list:\n",
    "    # You can fit the model at the same time you define it, because the fit function returns the fitted estimator.\n",
    "    model = DecisionTreeClassifier(max_depth = max_depth,\n",
    "                                   random_state = 123).fit(X_train,y_train) \n",
    "    predictions_train = model.predict(X_train) ## The predicted values for the train dataset\n",
    "    predictions_val = model.predict(X_val) ## The predicted values for the test dataset\n",
    "    accuracy_train = accuracy_score(predictions_train,y_train)\n",
    "    f1_train = f1_score(predictions_train,y_train)\n",
    "    accuracy_val = accuracy_score(predictions_val,y_val)\n",
    "    f1_val = f1_score(predictions_val,y_val)\n",
    "    accuracy_list_train.append(accuracy_train)\n",
    "    f1_list_train.append(f1_train)\n",
    "    accuracy_list_val.append(accuracy_val)\n",
    "    f1_list_val.append(f1_val)\n",
    "\n",
    "plt.title('Train x Validation metrics')\n",
    "plt.xlabel('max_depth')\n",
    "plt.ylabel('accuracy')\n",
    "plt.xticks(ticks = range(len(max_depth_list )),labels=max_depth_list)\n",
    "plt.plot(accuracy_list_train)\n",
    "plt.plot(accuracy_list_val)\n",
    "plt.legend(['Train','Validation']);"
   ]
  },
  {
   "cell_type": "code",
   "execution_count": 59,
   "id": "75a7937a",
   "metadata": {},
   "outputs": [
    {
     "data": {
      "text/plain": [
       "[0.6050995024875622,\n",
       " 0.6181592039800995,\n",
       " 0.6411691542288557,\n",
       " 0.6548507462686567,\n",
       " 0.75,\n",
       " 0.9365671641791045,\n",
       " 1.0,\n",
       " 1.0,\n",
       " 1.0]"
      ]
     },
     "execution_count": 59,
     "metadata": {},
     "output_type": "execute_result"
    }
   ],
   "source": [
    "accuracy_list_train"
   ]
  },
  {
   "cell_type": "code",
   "execution_count": 60,
   "id": "6e9febd2",
   "metadata": {},
   "outputs": [
    {
     "data": {
      "text/plain": [
       "[0.12654745529573588,\n",
       " 0.2810304449648712,\n",
       " 0.2742138364779874,\n",
       " 0.4200626959247649,\n",
       " 0.6127167630057804,\n",
       " 0.919811320754717,\n",
       " 1.0,\n",
       " 1.0,\n",
       " 1.0]"
      ]
     },
     "execution_count": 60,
     "metadata": {},
     "output_type": "execute_result"
    }
   ],
   "source": [
    "f1_list_train"
   ]
  },
  {
   "cell_type": "code",
   "execution_count": 61,
   "id": "8f19d3dd",
   "metadata": {},
   "outputs": [
    {
     "data": {
      "text/plain": [
       "[0.6501240694789082,\n",
       " 0.652605459057072,\n",
       " 0.6724565756823822,\n",
       " 0.6451612903225806,\n",
       " 0.6774193548387096,\n",
       " 0.5955334987593052,\n",
       " 0.5831265508684863,\n",
       " 0.5831265508684863,\n",
       " 0.5831265508684863]"
      ]
     },
     "execution_count": 61,
     "metadata": {},
     "output_type": "execute_result"
    }
   ],
   "source": [
    "accuracy_list_val"
   ]
  },
  {
   "cell_type": "code",
   "execution_count": 62,
   "id": "b95b0b8f",
   "metadata": {},
   "outputs": [
    {
     "data": {
      "text/plain": [
       "[0.12422360248447206,\n",
       " 0.27835051546391754,\n",
       " 0.2747252747252747,\n",
       " 0.3470319634703196,\n",
       " 0.4444444444444445,\n",
       " 0.4511784511784512,\n",
       " 0.47500000000000003,\n",
       " 0.47500000000000003,\n",
       " 0.47500000000000003]"
      ]
     },
     "execution_count": 62,
     "metadata": {},
     "output_type": "execute_result"
    }
   ],
   "source": [
    "f1_list_val"
   ]
  },
  {
   "cell_type": "code",
   "execution_count": 63,
   "id": "73fafff4",
   "metadata": {},
   "outputs": [],
   "source": [
    "max_depth_list = np.arange(2,17)"
   ]
  },
  {
   "cell_type": "code",
   "execution_count": 64,
   "id": "414f4e3e",
   "metadata": {},
   "outputs": [
    {
     "data": {
      "image/png": "[encoded data removed]",
      "text/plain": [
       "<Figure size 640x480 with 1 Axes>"
      ]
     },
     "metadata": {},
     "output_type": "display_data"
    }
   ],
   "source": [
    "accuracy_list_train = []\n",
    "f1_list_train = []\n",
    "accuracy_list_val = []\n",
    "f1_list_val = []\n",
    "for max_depth in max_depth_list:\n",
    "    # You can fit the model at the same time you define it, because the fit function returns the fitted estimator.\n",
    "    model = DecisionTreeClassifier(max_depth = max_depth,\n",
    "                                   random_state = 123).fit(X_train,y_train) \n",
    "    predictions_train = model.predict(X_train) ## The predicted values for the train dataset\n",
    "    predictions_val = model.predict(X_val) ## The predicted values for the test dataset\n",
    "    accuracy_train = accuracy_score(predictions_train,y_train)\n",
    "    f1_train = f1_score(predictions_train,y_train)\n",
    "    accuracy_val = accuracy_score(predictions_val,y_val)\n",
    "    f1_val = f1_score(predictions_val,y_val)\n",
    "    accuracy_list_train.append(accuracy_train)\n",
    "    f1_list_train.append(f1_train)\n",
    "    accuracy_list_val.append(accuracy_val)\n",
    "    f1_list_val.append(f1_val)\n",
    "\n",
    "plt.title('Train x Validation metrics')\n",
    "plt.xlabel('max_depth')\n",
    "plt.ylabel('accuracy')\n",
    "plt.xticks(ticks = range(len(max_depth_list )),labels=max_depth_list)\n",
    "plt.plot(accuracy_list_train)\n",
    "plt.plot(accuracy_list_val)\n",
    "plt.legend(['Train','Validation']);"
   ]
  },
  {
   "cell_type": "code",
   "execution_count": 69,
   "id": "21b340e4",
   "metadata": {},
   "outputs": [
    {
     "data": {
      "image/png": "[encoded data removed]",
      "text/plain": [
       "<Figure size 640x480 with 1 Axes>"
      ]
     },
     "metadata": {},
     "output_type": "display_data"
    }
   ],
   "source": [
    "plt.title('Train x Validation metrics')\n",
    "plt.xlabel('max_depth')\n",
    "plt.ylabel('f1 score')\n",
    "plt.xticks(ticks = range(len(max_depth_list )),labels=max_depth_list)\n",
    "plt.plot(f1_list_train)\n",
    "plt.plot(f1_list_val)\n",
    "plt.legend(['Train','Validation']);"
   ]
  },
  {
   "cell_type": "code",
   "execution_count": 70,
   "id": "2ee6df7e",
   "metadata": {},
   "outputs": [
    {
     "data": {
      "text/plain": [
       "[0.6181592039800995,\n",
       " 0.6411691542288557,\n",
       " 0.6548507462686567,\n",
       " 0.6716417910447762,\n",
       " 0.6902985074626866,\n",
       " 0.7325870646766169,\n",
       " 0.75,\n",
       " 0.7810945273631841,\n",
       " 0.8053482587064676,\n",
       " 0.8370646766169154,\n",
       " 0.8625621890547264,\n",
       " 0.8837064676616916,\n",
       " 0.9017412935323383,\n",
       " 0.9235074626865671,\n",
       " 0.9365671641791045]"
      ]
     },
     "execution_count": 70,
     "metadata": {},
     "output_type": "execute_result"
    }
   ],
   "source": [
    "accuracy_list_train"
   ]
  },
  {
   "cell_type": "code",
   "execution_count": 71,
   "id": "4ba4f9ee",
   "metadata": {},
   "outputs": [
    {
     "data": {
      "text/plain": [
       "[0.2810304449648712,\n",
       " 0.2742138364779874,\n",
       " 0.4200626959247649,\n",
       " 0.40674157303370784,\n",
       " 0.49390243902439024,\n",
       " 0.5920303605313093,\n",
       " 0.6127167630057804,\n",
       " 0.6615384615384616,\n",
       " 0.7082945013979497,\n",
       " 0.7760683760683762,\n",
       " 0.8156797331109257,\n",
       " 0.8468468468468467,\n",
       " 0.8804841149773072,\n",
       " 0.9021479713603819,\n",
       " 0.919811320754717]"
      ]
     },
     "execution_count": 71,
     "metadata": {},
     "output_type": "execute_result"
    }
   ],
   "source": [
    "f1_list_train"
   ]
  },
  {
   "cell_type": "code",
   "execution_count": 72,
   "id": "1b197f29",
   "metadata": {},
   "outputs": [
    {
     "data": {
      "text/plain": [
       "[0.652605459057072,\n",
       " 0.6724565756823822,\n",
       " 0.6451612903225806,\n",
       " 0.6823821339950372,\n",
       " 0.6898263027295285,\n",
       " 0.6799007444168734,\n",
       " 0.6774193548387096,\n",
       " 0.684863523573201,\n",
       " 0.6699751861042184,\n",
       " 0.6426799007444168,\n",
       " 0.6153846153846154,\n",
       " 0.6004962779156328,\n",
       " 0.5930521091811415,\n",
       " 0.6104218362282878,\n",
       " 0.5955334987593052]"
      ]
     },
     "execution_count": 72,
     "metadata": {},
     "output_type": "execute_result"
    }
   ],
   "source": [
    "accuracy_list_val"
   ]
  },
  {
   "cell_type": "code",
   "execution_count": 73,
   "id": "672ffa5d",
   "metadata": {},
   "outputs": [
    {
     "data": {
      "text/plain": [
       "[0.27835051546391754,\n",
       " 0.2747252747252747,\n",
       " 0.3470319634703196,\n",
       " 0.3469387755102041,\n",
       " 0.43438914027149317,\n",
       " 0.46913580246913583,\n",
       " 0.4444444444444445,\n",
       " 0.4686192468619247,\n",
       " 0.47011952191235057,\n",
       " 0.4666666666666667,\n",
       " 0.4483985765124555,\n",
       " 0.4505119453924915,\n",
       " 0.4675324675324675,\n",
       " 0.46048109965635736,\n",
       " 0.4511784511784512]"
      ]
     },
     "execution_count": 73,
     "metadata": {},
     "output_type": "execute_result"
    }
   ],
   "source": [
    "f1_list_val"
   ]
  },
  {
   "cell_type": "code",
   "execution_count": null,
   "id": "b0c52603",
   "metadata": {},
   "outputs": [],
   "source": []
  },
  {
   "cell_type": "code",
   "execution_count": null,
   "id": "3fd1e827",
   "metadata": {},
   "outputs": [],
   "source": []
  },
  {
   "cell_type": "code",
   "execution_count": null,
   "id": "2fabaf08",
   "metadata": {},
   "outputs": [],
   "source": []
  },
  {
   "cell_type": "markdown",
   "id": "299f5e98",
   "metadata": {},
   "source": [
    "    Chosen max_depth = 7\n",
    "    Chosen min_samples_split = 165"
   ]
  },
  {
   "cell_type": "code",
   "execution_count": 98,
   "id": "9445e312",
   "metadata": {},
   "outputs": [],
   "source": [
    "decision_tree_model = DecisionTreeClassifier(min_samples_split = 165,\n",
    "                                             max_depth = 7,\n",
    "                                             random_state = 123).fit(X_train,y_train)"
   ]
  },
  {
   "cell_type": "code",
   "execution_count": 99,
   "id": "8dab2d12",
   "metadata": {},
   "outputs": [
    {
     "name": "stdout",
     "output_type": "stream",
     "text": [
      "Accuracy for train:\n",
      "\tAccuracy score: 0.6629\n",
      "f1 for train:\n",
      "\tf1 score: 0.5108\n",
      "Accuracy for validation:\n",
      "\tAccuracy score: 0.6799\n",
      "f1 for validation:\n",
      "\tf1 score: 0.4861\n"
     ]
    }
   ],
   "source": [
    "print(f\"Accuracy for train:\\n\\tAccuracy score: {accuracy_score(decision_tree_model.predict(X_train),y_train):.4f}\")\n",
    "print(f\"f1 for train:\\n\\tf1 score: {f1_score(decision_tree_model.predict(X_train),y_train):.4f}\")\n",
    "print(f\"Accuracy for validation:\\n\\tAccuracy score: {accuracy_score(decision_tree_model.predict(X_val),y_val):.4f}\")\n",
    "print(f\"f1 for validation:\\n\\tf1 score: {f1_score(decision_tree_model.predict(X_val),y_val):.4f}\")"
   ]
  },
  {
   "cell_type": "code",
   "execution_count": 100,
   "id": "2619c2e9",
   "metadata": {},
   "outputs": [
    {
     "data": {
      "text/plain": [
       "array([0.26937369, 0.14743172, 0.03679229, 0.        , 0.5464023 ,\n",
       "       0.        , 0.        , 0.        , 0.        ])"
      ]
     },
     "execution_count": 100,
     "metadata": {},
     "output_type": "execute_result"
    }
   ],
   "source": [
    "decision_tree_model.feature_importances_"
   ]
  },
  {
   "cell_type": "code",
   "execution_count": 101,
   "id": "0ec9e957",
   "metadata": {},
   "outputs": [
    {
     "data": {
      "text/plain": [
       "array(['ph', 'Hardness', 'Solids', 'Chloramines', 'Sulfate',\n",
       "       'Conductivity', 'Organic_carbon', 'Trihalomethanes', 'Turbidity'],\n",
       "      dtype=object)"
      ]
     },
     "execution_count": 101,
     "metadata": {},
     "output_type": "execute_result"
    }
   ],
   "source": [
    "decision_tree_model.feature_names_in_"
   ]
  },
  {
   "cell_type": "code",
   "execution_count": 102,
   "id": "b52f1263",
   "metadata": {},
   "outputs": [
    {
     "data": {
      "text/plain": [
       "7"
      ]
     },
     "execution_count": 102,
     "metadata": {},
     "output_type": "execute_result"
    }
   ],
   "source": [
    "decision_tree_model.get_depth()"
   ]
  },
  {
   "cell_type": "code",
   "execution_count": 103,
   "id": "4ad33f20",
   "metadata": {},
   "outputs": [
    {
     "data": {
      "text/plain": [
       "11"
      ]
     },
     "execution_count": 103,
     "metadata": {},
     "output_type": "execute_result"
    }
   ],
   "source": [
    "decision_tree_model.get_n_leaves()"
   ]
  },
  {
   "cell_type": "code",
   "execution_count": 104,
   "id": "3ad2443b",
   "metadata": {},
   "outputs": [
    {
     "data": {
      "text/plain": [
       "{'ccp_alpha': 0.0,\n",
       " 'class_weight': None,\n",
       " 'criterion': 'gini',\n",
       " 'max_depth': 7,\n",
       " 'max_features': None,\n",
       " 'max_leaf_nodes': None,\n",
       " 'min_impurity_decrease': 0.0,\n",
       " 'min_samples_leaf': 1,\n",
       " 'min_samples_split': 165,\n",
       " 'min_weight_fraction_leaf': 0.0,\n",
       " 'random_state': 123,\n",
       " 'splitter': 'best'}"
      ]
     },
     "execution_count": 104,
     "metadata": {},
     "output_type": "execute_result"
    }
   ],
   "source": [
    "decision_tree_model.get_params()"
   ]
  },
  {
   "cell_type": "code",
   "execution_count": null,
   "id": "d9eaa9a0",
   "metadata": {},
   "outputs": [],
   "source": []
  },
  {
   "cell_type": "code",
   "execution_count": null,
   "id": "2606e57c",
   "metadata": {},
   "outputs": [],
   "source": []
  },
  {
   "cell_type": "code",
   "execution_count": null,
   "id": "85c19465",
   "metadata": {},
   "outputs": [],
   "source": []
  },
  {
   "cell_type": "code",
   "execution_count": 105,
   "id": "cd1be1fe",
   "metadata": {},
   "outputs": [],
   "source": [
    "from sklearn.ensemble import RandomForestClassifier"
   ]
  },
  {
   "cell_type": "code",
   "execution_count": 106,
   "id": "794e8835",
   "metadata": {},
   "outputs": [],
   "source": [
    "min_samples_split_list = [2,10, 30, 50, 100, 200, 300, 700]"
   ]
  },
  {
   "cell_type": "code",
   "execution_count": 107,
   "id": "c00b36cc",
   "metadata": {},
   "outputs": [
    {
     "data": {
      "image/png": "[encoded data removed]",
      "text/plain": [
       "<Figure size 640x480 with 1 Axes>"
      ]
     },
     "metadata": {},
     "output_type": "display_data"
    }
   ],
   "source": [
    "accuracy_list_train = []\n",
    "f1_list_train = []\n",
    "accuracy_list_val = []\n",
    "f1_list_val = []\n",
    "for min_samples_split in min_samples_split_list:\n",
    "    # You can fit the model at the same time you define it, because the fit function returns the fitted estimator.\n",
    "    model = RandomForestClassifier(min_samples_split = min_samples_split,\n",
    "                                   random_state = 123).fit(X_train,y_train) \n",
    "    predictions_train = model.predict(X_train) ## The predicted values for the train dataset\n",
    "    predictions_val = model.predict(X_val) ## The predicted values for the test dataset\n",
    "    accuracy_train = accuracy_score(predictions_train,y_train)\n",
    "    f1_train = f1_score(predictions_train,y_train)\n",
    "    accuracy_val = accuracy_score(predictions_val,y_val)\n",
    "    f1_val = f1_score(predictions_val,y_val)\n",
    "    accuracy_list_train.append(accuracy_train)\n",
    "    f1_list_train.append(f1_train)\n",
    "    accuracy_list_val.append(accuracy_val)\n",
    "    f1_list_val.append(f1_val)\n",
    "\n",
    "plt.title('Train x Validation metrics')\n",
    "plt.xlabel('min_samples_split')\n",
    "plt.ylabel('accuracy')\n",
    "plt.xticks(ticks = range(len(min_samples_split_list )),labels=min_samples_split_list) \n",
    "plt.plot(accuracy_list_train)\n",
    "plt.plot(accuracy_list_val)\n",
    "plt.legend(['Train','Validation']);"
   ]
  },
  {
   "cell_type": "code",
   "execution_count": 108,
   "id": "b061a469",
   "metadata": {},
   "outputs": [
    {
     "data": {
      "text/plain": [
       "[1.0,\n",
       " 0.9937810945273632,\n",
       " 0.8855721393034826,\n",
       " 0.8264925373134329,\n",
       " 0.7419154228855721,\n",
       " 0.6803482587064676,\n",
       " 0.6536069651741293,\n",
       " 0.6281094527363185]"
      ]
     },
     "execution_count": 108,
     "metadata": {},
     "output_type": "execute_result"
    }
   ],
   "source": [
    "accuracy_list_train"
   ]
  },
  {
   "cell_type": "code",
   "execution_count": 109,
   "id": "6d9b2f00",
   "metadata": {},
   "outputs": [
    {
     "data": {
      "text/plain": [
       "[1.0,\n",
       " 0.9924471299093656,\n",
       " 0.8440677966101695,\n",
       " 0.751115075825156,\n",
       " 0.5862412761714855,\n",
       " 0.43886462882096067,\n",
       " 0.35903337169159955,\n",
       " 0.23333333333333336]"
      ]
     },
     "execution_count": 109,
     "metadata": {},
     "output_type": "execute_result"
    }
   ],
   "source": [
    "f1_list_train"
   ]
  },
  {
   "cell_type": "code",
   "execution_count": 110,
   "id": "ec3c6c02",
   "metadata": {},
   "outputs": [
    {
     "data": {
      "text/plain": [
       "[0.7096774193548387,\n",
       " 0.71712158808933,\n",
       " 0.7220843672456576,\n",
       " 0.707196029776675,\n",
       " 0.6799007444168734,\n",
       " 0.6674937965260546,\n",
       " 0.6625310173697271,\n",
       " 0.6550868486352357]"
      ]
     },
     "execution_count": 110,
     "metadata": {},
     "output_type": "execute_result"
    }
   ],
   "source": [
    "accuracy_list_val"
   ]
  },
  {
   "cell_type": "code",
   "execution_count": 111,
   "id": "441748b8",
   "metadata": {},
   "outputs": [
    {
     "data": {
      "text/plain": [
       "[0.5063291139240507,\n",
       " 0.5365853658536586,\n",
       " 0.5213675213675214,\n",
       " 0.4778761061946903,\n",
       " 0.4,\n",
       " 0.3495145631067961,\n",
       " 0.29166666666666663,\n",
       " 0.22346368715083798]"
      ]
     },
     "execution_count": 111,
     "metadata": {},
     "output_type": "execute_result"
    }
   ],
   "source": [
    "f1_list_val"
   ]
  },
  {
   "cell_type": "code",
   "execution_count": 119,
   "id": "437a80f0",
   "metadata": {},
   "outputs": [],
   "source": [
    "min_samples_split_list = np.arange(10,55,5)"
   ]
  },
  {
   "cell_type": "code",
   "execution_count": 120,
   "id": "ee907383",
   "metadata": {},
   "outputs": [
    {
     "data": {
      "image/png": "[encoded data removed]",
      "text/plain": [
       "<Figure size 640x480 with 1 Axes>"
      ]
     },
     "metadata": {},
     "output_type": "display_data"
    }
   ],
   "source": [
    "accuracy_list_train = []\n",
    "f1_list_train = []\n",
    "accuracy_list_val = []\n",
    "f1_list_val = []\n",
    "for min_samples_split in min_samples_split_list:\n",
    "    # You can fit the model at the same time you define it, because the fit function returns the fitted estimator.\n",
    "    model = RandomForestClassifier(min_samples_split = min_samples_split,\n",
    "                                   random_state = 123).fit(X_train,y_train) \n",
    "    predictions_train = model.predict(X_train) ## The predicted values for the train dataset\n",
    "    predictions_val = model.predict(X_val) ## The predicted values for the test dataset\n",
    "    accuracy_train = accuracy_score(predictions_train,y_train)\n",
    "    f1_train = f1_score(predictions_train,y_train)\n",
    "    accuracy_val = accuracy_score(predictions_val,y_val)\n",
    "    f1_val = f1_score(predictions_val,y_val)\n",
    "    accuracy_list_train.append(accuracy_train)\n",
    "    f1_list_train.append(f1_train)\n",
    "    accuracy_list_val.append(accuracy_val)\n",
    "    f1_list_val.append(f1_val)\n",
    "\n",
    "plt.title('Train x Validation metrics')\n",
    "plt.xlabel('min_samples_split')\n",
    "plt.ylabel('accuracy')\n",
    "plt.xticks(ticks = range(len(min_samples_split_list )),labels=min_samples_split_list) \n",
    "plt.plot(accuracy_list_train)\n",
    "plt.plot(accuracy_list_val)\n",
    "plt.legend(['Train','Validation']);"
   ]
  },
  {
   "cell_type": "code",
   "execution_count": 121,
   "id": "b6a77142",
   "metadata": {},
   "outputs": [
    {
     "data": {
      "text/plain": [
       "[0.9937810945273632,\n",
       " 0.970771144278607,\n",
       " 0.9396766169154229,\n",
       " 0.9048507462686567,\n",
       " 0.8855721393034826,\n",
       " 0.8619402985074627,\n",
       " 0.845771144278607,\n",
       " 0.8327114427860697,\n",
       " 0.8264925373134329]"
      ]
     },
     "execution_count": 121,
     "metadata": {},
     "output_type": "execute_result"
    }
   ],
   "source": [
    "accuracy_list_train"
   ]
  },
  {
   "cell_type": "code",
   "execution_count": 122,
   "id": "4b9ba55e",
   "metadata": {},
   "outputs": [
    {
     "data": {
      "text/plain": [
       "[0.9924471299093656,\n",
       " 0.9635941130906274,\n",
       " 0.9225857940941741,\n",
       " 0.8730290456431535,\n",
       " 0.8440677966101695,\n",
       " 0.8059440559440559,\n",
       " 0.7820738137082601,\n",
       " 0.7608888888888887,\n",
       " 0.751115075825156]"
      ]
     },
     "execution_count": 122,
     "metadata": {},
     "output_type": "execute_result"
    }
   ],
   "source": [
    "f1_list_train"
   ]
  },
  {
   "cell_type": "code",
   "execution_count": 123,
   "id": "afcd0b52",
   "metadata": {},
   "outputs": [
    {
     "data": {
      "text/plain": [
       "[0.71712158808933,\n",
       " 0.7096774193548387,\n",
       " 0.6972704714640199,\n",
       " 0.7096774193548387,\n",
       " 0.7220843672456576,\n",
       " 0.7022332506203474,\n",
       " 0.6923076923076923,\n",
       " 0.707196029776675,\n",
       " 0.707196029776675]"
      ]
     },
     "execution_count": 123,
     "metadata": {},
     "output_type": "execute_result"
    }
   ],
   "source": [
    "accuracy_list_val"
   ]
  },
  {
   "cell_type": "code",
   "execution_count": 124,
   "id": "68b001c7",
   "metadata": {},
   "outputs": [
    {
     "data": {
      "text/plain": [
       "[0.5365853658536586,\n",
       " 0.4978540772532189,\n",
       " 0.4830508474576271,\n",
       " 0.5063291139240507,\n",
       " 0.5213675213675214,\n",
       " 0.47826086956521735,\n",
       " 0.4700854700854701,\n",
       " 0.4913793103448276,\n",
       " 0.4778761061946903]"
      ]
     },
     "execution_count": 124,
     "metadata": {},
     "output_type": "execute_result"
    }
   ],
   "source": [
    "f1_list_val"
   ]
  },
  {
   "cell_type": "code",
   "execution_count": 125,
   "id": "f5ef0e66",
   "metadata": {},
   "outputs": [],
   "source": [
    "min_samples_split_list = np.arange(25,36)"
   ]
  },
  {
   "cell_type": "code",
   "execution_count": 126,
   "id": "eb34ca65",
   "metadata": {},
   "outputs": [
    {
     "data": {
      "image/png": "[encoded data removed]",
      "text/plain": [
       "<Figure size 640x480 with 1 Axes>"
      ]
     },
     "metadata": {},
     "output_type": "display_data"
    }
   ],
   "source": [
    "accuracy_list_train = []\n",
    "f1_list_train = []\n",
    "accuracy_list_val = []\n",
    "f1_list_val = []\n",
    "for min_samples_split in min_samples_split_list:\n",
    "    # You can fit the model at the same time you define it, because the fit function returns the fitted estimator.\n",
    "    model = RandomForestClassifier(min_samples_split = min_samples_split,\n",
    "                                   random_state = 123).fit(X_train,y_train) \n",
    "    predictions_train = model.predict(X_train) ## The predicted values for the train dataset\n",
    "    predictions_val = model.predict(X_val) ## The predicted values for the test dataset\n",
    "    accuracy_train = accuracy_score(predictions_train,y_train)\n",
    "    f1_train = f1_score(predictions_train,y_train)\n",
    "    accuracy_val = accuracy_score(predictions_val,y_val)\n",
    "    f1_val = f1_score(predictions_val,y_val)\n",
    "    accuracy_list_train.append(accuracy_train)\n",
    "    f1_list_train.append(f1_train)\n",
    "    accuracy_list_val.append(accuracy_val)\n",
    "    f1_list_val.append(f1_val)\n",
    "\n",
    "plt.title('Train x Validation metrics')\n",
    "plt.xlabel('min_samples_split')\n",
    "plt.ylabel('accuracy')\n",
    "plt.xticks(ticks = range(len(min_samples_split_list )),labels=min_samples_split_list) \n",
    "plt.plot(accuracy_list_train)\n",
    "plt.plot(accuracy_list_val)\n",
    "plt.legend(['Train','Validation']);"
   ]
  },
  {
   "cell_type": "code",
   "execution_count": 131,
   "id": "6af4ce1f",
   "metadata": {},
   "outputs": [
    {
     "data": {
      "image/png": "[encoded data removed]",
      "text/plain": [
       "<Figure size 640x480 with 1 Axes>"
      ]
     },
     "metadata": {},
     "output_type": "display_data"
    }
   ],
   "source": [
    "plt.title('Train x Validation metrics')\n",
    "plt.xlabel('min_samples_split')\n",
    "plt.ylabel('accuracy')\n",
    "plt.xticks(ticks = range(len(min_samples_split_list )),labels=min_samples_split_list) \n",
    "plt.plot(f1_list_train)\n",
    "plt.plot(f1_list_val)\n",
    "plt.legend(['Train','Validation']);"
   ]
  },
  {
   "cell_type": "code",
   "execution_count": 132,
   "id": "d3ce77cc",
   "metadata": {},
   "outputs": [
    {
     "data": {
      "text/plain": [
       "[0.9048507462686567,\n",
       " 0.8986318407960199,\n",
       " 0.9011194029850746,\n",
       " 0.8980099502487562,\n",
       " 0.888681592039801,\n",
       " 0.8855721393034826,\n",
       " 0.8805970149253731,\n",
       " 0.8812189054726368,\n",
       " 0.8737562189054726,\n",
       " 0.8675373134328358,\n",
       " 0.8619402985074627]"
      ]
     },
     "execution_count": 132,
     "metadata": {},
     "output_type": "execute_result"
    }
   ],
   "source": [
    "accuracy_list_train"
   ]
  },
  {
   "cell_type": "code",
   "execution_count": 133,
   "id": "ac027ca9",
   "metadata": {},
   "outputs": [
    {
     "data": {
      "text/plain": [
       "[0.8730290456431535,\n",
       " 0.8645054031587698,\n",
       " 0.8676103247293921,\n",
       " 0.8631051752921536,\n",
       " 0.8494533221194281,\n",
       " 0.8440677966101695,\n",
       " 0.837011884550085,\n",
       " 0.8374468085106384,\n",
       " 0.8260497000856898,\n",
       " 0.8159031979256698,\n",
       " 0.8059440559440559]"
      ]
     },
     "execution_count": 133,
     "metadata": {},
     "output_type": "execute_result"
    }
   ],
   "source": [
    "f1_list_train"
   ]
  },
  {
   "cell_type": "code",
   "execution_count": 134,
   "id": "262deb99",
   "metadata": {},
   "outputs": [
    {
     "data": {
      "text/plain": [
       "[0.7096774193548387,\n",
       " 0.7220843672456576,\n",
       " 0.7096774193548387,\n",
       " 0.7196029776674938,\n",
       " 0.71712158808933,\n",
       " 0.7220843672456576,\n",
       " 0.7196029776674938,\n",
       " 0.7022332506203474,\n",
       " 0.7220843672456576,\n",
       " 0.7121588089330024,\n",
       " 0.7022332506203474]"
      ]
     },
     "execution_count": 134,
     "metadata": {},
     "output_type": "execute_result"
    }
   ],
   "source": [
    "accuracy_list_val"
   ]
  },
  {
   "cell_type": "code",
   "execution_count": 135,
   "id": "f6a9dd21",
   "metadata": {},
   "outputs": [
    {
     "data": {
      "text/plain": [
       "[0.5063291139240507,\n",
       " 0.5213675213675214,\n",
       " 0.4978540772532189,\n",
       " 0.5232067510548523,\n",
       " 0.516949152542373,\n",
       " 0.5213675213675214,\n",
       " 0.5150214592274678,\n",
       " 0.48275862068965514,\n",
       " 0.5087719298245613,\n",
       " 0.48672566371681425,\n",
       " 0.47826086956521735]"
      ]
     },
     "execution_count": 135,
     "metadata": {},
     "output_type": "execute_result"
    }
   ],
   "source": [
    "f1_list_val"
   ]
  },
  {
   "cell_type": "code",
   "execution_count": null,
   "id": "c778e944",
   "metadata": {},
   "outputs": [],
   "source": []
  },
  {
   "cell_type": "code",
   "execution_count": null,
   "id": "e428fb12",
   "metadata": {},
   "outputs": [],
   "source": []
  },
  {
   "cell_type": "code",
   "execution_count": 136,
   "id": "a39a0ff6",
   "metadata": {},
   "outputs": [],
   "source": [
    "max_depth_list = [2, 4, 8, 16, 32, 64, None]"
   ]
  },
  {
   "cell_type": "code",
   "execution_count": 137,
   "id": "e74f9b3d",
   "metadata": {},
   "outputs": [
    {
     "data": {
      "image/png": "[encoded data removed]",
      "text/plain": [
       "<Figure size 640x480 with 1 Axes>"
      ]
     },
     "metadata": {},
     "output_type": "display_data"
    }
   ],
   "source": [
    "accuracy_list_train = []\n",
    "f1_list_train = []\n",
    "accuracy_list_val = []\n",
    "f1_list_val = []\n",
    "for max_depth in max_depth_list:\n",
    "    # You can fit the model at the same time you define it, because the fit function returns the fitted estimator.\n",
    "    model = RandomForestClassifier(max_depth = max_depth,\n",
    "                                   random_state = 123).fit(X_train,y_train) \n",
    "    predictions_train = model.predict(X_train) ## The predicted values for the train dataset\n",
    "    predictions_val = model.predict(X_val) ## The predicted values for the test dataset\n",
    "    accuracy_train = accuracy_score(predictions_train,y_train)\n",
    "    f1_train = f1_score(predictions_train,y_train)\n",
    "    accuracy_val = accuracy_score(predictions_val,y_val)\n",
    "    f1_val = f1_score(predictions_val,y_val)\n",
    "    accuracy_list_train.append(accuracy_train)\n",
    "    f1_list_train.append(f1_train)\n",
    "    accuracy_list_val.append(accuracy_val)\n",
    "    f1_list_val.append(f1_val)\n",
    "\n",
    "plt.title('Train x Validation metrics')\n",
    "plt.xlabel('max_depth')\n",
    "plt.ylabel('accuracy')\n",
    "plt.xticks(ticks = range(len(max_depth_list )),labels=max_depth_list)\n",
    "plt.plot(accuracy_list_train)\n",
    "plt.plot(accuracy_list_val)\n",
    "plt.legend(['Train','Validation']);"
   ]
  },
  {
   "cell_type": "code",
   "execution_count": 138,
   "id": "de033ac9",
   "metadata": {},
   "outputs": [
    {
     "data": {
      "text/plain": [
       "[0.6125621890547264,\n",
       " 0.6560945273631841,\n",
       " 0.8009950248756219,\n",
       " 0.9950248756218906,\n",
       " 1.0,\n",
       " 1.0,\n",
       " 1.0]"
      ]
     },
     "execution_count": 138,
     "metadata": {},
     "output_type": "execute_result"
    }
   ],
   "source": [
    "accuracy_list_train"
   ]
  },
  {
   "cell_type": "code",
   "execution_count": 139,
   "id": "76ed1cc1",
   "metadata": {},
   "outputs": [
    {
     "data": {
      "text/plain": [
       "[0.15006821282401092,\n",
       " 0.3026481715006305,\n",
       " 0.683794466403162,\n",
       " 0.9939485627836611,\n",
       " 1.0,\n",
       " 1.0,\n",
       " 1.0]"
      ]
     },
     "execution_count": 139,
     "metadata": {},
     "output_type": "execute_result"
    }
   ],
   "source": [
    "f1_list_train"
   ]
  },
  {
   "cell_type": "code",
   "execution_count": 140,
   "id": "c4adb64f",
   "metadata": {},
   "outputs": [
    {
     "data": {
      "text/plain": [
       "[0.6501240694789082,\n",
       " 0.6625310173697271,\n",
       " 0.6997518610421837,\n",
       " 0.7121588089330024,\n",
       " 0.7121588089330024,\n",
       " 0.7096774193548387,\n",
       " 0.7096774193548387]"
      ]
     },
     "execution_count": 140,
     "metadata": {},
     "output_type": "execute_result"
    }
   ],
   "source": [
    "accuracy_list_val"
   ]
  },
  {
   "cell_type": "code",
   "execution_count": 141,
   "id": "6a42b46f",
   "metadata": {},
   "outputs": [
    {
     "data": {
      "text/plain": [
       "[0.12422360248447206,\n",
       " 0.2,\n",
       " 0.4097560975609756,\n",
       " 0.5166666666666666,\n",
       " 0.5084745762711864,\n",
       " 0.5063291139240507,\n",
       " 0.5063291139240507]"
      ]
     },
     "execution_count": 141,
     "metadata": {},
     "output_type": "execute_result"
    }
   ],
   "source": [
    "f1_list_val"
   ]
  },
  {
   "cell_type": "code",
   "execution_count": 142,
   "id": "897c6393",
   "metadata": {},
   "outputs": [],
   "source": [
    "max_depth_list = np.arange(8,33)"
   ]
  },
  {
   "cell_type": "code",
   "execution_count": 143,
   "id": "525cc084",
   "metadata": {},
   "outputs": [
    {
     "data": {
      "image/png": "[encoded data removed]",
      "text/plain": [
       "<Figure size 640x480 with 1 Axes>"
      ]
     },
     "metadata": {},
     "output_type": "display_data"
    }
   ],
   "source": [
    "accuracy_list_train = []\n",
    "f1_list_train = []\n",
    "accuracy_list_val = []\n",
    "f1_list_val = []\n",
    "for max_depth in max_depth_list:\n",
    "    # You can fit the model at the same time you define it, because the fit function returns the fitted estimator.\n",
    "    model = RandomForestClassifier(max_depth = max_depth,\n",
    "                                   random_state = 123).fit(X_train,y_train) \n",
    "    predictions_train = model.predict(X_train) ## The predicted values for the train dataset\n",
    "    predictions_val = model.predict(X_val) ## The predicted values for the test dataset\n",
    "    accuracy_train = accuracy_score(predictions_train,y_train)\n",
    "    f1_train = f1_score(predictions_train,y_train)\n",
    "    accuracy_val = accuracy_score(predictions_val,y_val)\n",
    "    f1_val = f1_score(predictions_val,y_val)\n",
    "    accuracy_list_train.append(accuracy_train)\n",
    "    f1_list_train.append(f1_train)\n",
    "    accuracy_list_val.append(accuracy_val)\n",
    "    f1_list_val.append(f1_val)\n",
    "\n",
    "plt.title('Train x Validation metrics')\n",
    "plt.xlabel('max_depth')\n",
    "plt.ylabel('accuracy')\n",
    "plt.xticks(ticks = range(len(max_depth_list )),labels=max_depth_list)\n",
    "plt.plot(accuracy_list_train)\n",
    "plt.plot(accuracy_list_val)\n",
    "plt.legend(['Train','Validation']);"
   ]
  },
  {
   "cell_type": "code",
   "execution_count": 148,
   "id": "362338a2",
   "metadata": {},
   "outputs": [
    {
     "data": {
      "image/png": "[encoded data removed]",
      "text/plain": [
       "<Figure size 640x480 with 1 Axes>"
      ]
     },
     "metadata": {},
     "output_type": "display_data"
    }
   ],
   "source": [
    "plt.title('Train x Validation metrics')\n",
    "plt.xlabel('max_depth')\n",
    "plt.ylabel('accuracy')\n",
    "plt.xticks(ticks = range(len(max_depth_list )),labels=max_depth_list)\n",
    "plt.plot(f1_list_train)\n",
    "plt.plot(f1_list_val)\n",
    "plt.legend(['Train','Validation']);"
   ]
  },
  {
   "cell_type": "code",
   "execution_count": 144,
   "id": "b0d0ab0c",
   "metadata": {},
   "outputs": [
    {
     "data": {
      "text/plain": [
       "[0.8009950248756219,\n",
       " 0.8258706467661692,\n",
       " 0.8706467661691543,\n",
       " 0.900497512437811,\n",
       " 0.931592039800995,\n",
       " 0.9552238805970149,\n",
       " 0.974502487562189,\n",
       " 0.9894278606965174,\n",
       " 0.9950248756218906,\n",
       " 1.0,\n",
       " 1.0,\n",
       " 1.0,\n",
       " 1.0,\n",
       " 1.0,\n",
       " 1.0,\n",
       " 1.0,\n",
       " 1.0,\n",
       " 1.0,\n",
       " 1.0,\n",
       " 1.0,\n",
       " 1.0,\n",
       " 1.0,\n",
       " 1.0,\n",
       " 1.0,\n",
       " 1.0]"
      ]
     },
     "execution_count": 144,
     "metadata": {},
     "output_type": "execute_result"
    }
   ],
   "source": [
    "accuracy_list_train"
   ]
  },
  {
   "cell_type": "code",
   "execution_count": 145,
   "id": "5da449b9",
   "metadata": {},
   "outputs": [
    {
     "data": {
      "text/plain": [
       "[0.683794466403162,\n",
       " 0.7338403041825096,\n",
       " 0.8146167557932263,\n",
       " 0.8632478632478633,\n",
       " 0.9098360655737704,\n",
       " 0.9427662957074723,\n",
       " 0.9681923972071372,\n",
       " 0.9870525514089871,\n",
       " 0.9939485627836611,\n",
       " 1.0,\n",
       " 1.0,\n",
       " 1.0,\n",
       " 1.0,\n",
       " 1.0,\n",
       " 1.0,\n",
       " 1.0,\n",
       " 1.0,\n",
       " 1.0,\n",
       " 1.0,\n",
       " 1.0,\n",
       " 1.0,\n",
       " 1.0,\n",
       " 1.0,\n",
       " 1.0,\n",
       " 1.0]"
      ]
     },
     "execution_count": 145,
     "metadata": {},
     "output_type": "execute_result"
    }
   ],
   "source": [
    "f1_list_train"
   ]
  },
  {
   "cell_type": "code",
   "execution_count": 146,
   "id": "afe854e1",
   "metadata": {},
   "outputs": [
    {
     "data": {
      "text/plain": [
       "[0.6997518610421837,\n",
       " 0.7096774193548387,\n",
       " 0.7196029776674938,\n",
       " 0.7022332506203474,\n",
       " 0.7121588089330024,\n",
       " 0.7121588089330024,\n",
       " 0.7270471464019851,\n",
       " 0.7121588089330024,\n",
       " 0.7121588089330024,\n",
       " 0.7096774193548387,\n",
       " 0.6972704714640199,\n",
       " 0.7121588089330024,\n",
       " 0.7047146401985112,\n",
       " 0.707196029776675,\n",
       " 0.7022332506203474,\n",
       " 0.71712158808933,\n",
       " 0.6997518610421837,\n",
       " 0.707196029776675,\n",
       " 0.7096774193548387,\n",
       " 0.7146401985111662,\n",
       " 0.7220843672456576,\n",
       " 0.7121588089330024,\n",
       " 0.7146401985111662,\n",
       " 0.7121588089330024,\n",
       " 0.7121588089330024]"
      ]
     },
     "execution_count": 146,
     "metadata": {},
     "output_type": "execute_result"
    }
   ],
   "source": [
    "accuracy_list_val"
   ]
  },
  {
   "cell_type": "code",
   "execution_count": 147,
   "id": "0cff2799",
   "metadata": {},
   "outputs": [
    {
     "data": {
      "text/plain": [
       "[0.4097560975609756,\n",
       " 0.4347826086956522,\n",
       " 0.4744186046511628,\n",
       " 0.4690265486725664,\n",
       " 0.48672566371681425,\n",
       " 0.5042735042735043,\n",
       " 0.5338983050847458,\n",
       " 0.4912280701754387,\n",
       " 0.5166666666666666,\n",
       " 0.5063291139240507,\n",
       " 0.4916666666666666,\n",
       " 0.5245901639344263,\n",
       " 0.5062240663900416,\n",
       " 0.5083333333333333,\n",
       " 0.4915254237288136,\n",
       " 0.516949152542373,\n",
       " 0.493723849372385,\n",
       " 0.5042016806722688,\n",
       " 0.5104602510460251,\n",
       " 0.5188284518828452,\n",
       " 0.5294117647058824,\n",
       " 0.5166666666666666,\n",
       " 0.5188284518828452,\n",
       " 0.5084745762711864,\n",
       " 0.5084745762711864]"
      ]
     },
     "execution_count": 147,
     "metadata": {},
     "output_type": "execute_result"
    }
   ],
   "source": [
    "f1_list_val"
   ]
  },
  {
   "cell_type": "code",
   "execution_count": 149,
   "id": "7636ac6a",
   "metadata": {},
   "outputs": [],
   "source": [
    "n_estimators_list = [10,50,100,500,1000,2000]"
   ]
  },
  {
   "cell_type": "code",
   "execution_count": 150,
   "id": "c4639152",
   "metadata": {},
   "outputs": [
    {
     "data": {
      "image/png": "[encoded data removed]",
      "text/plain": [
       "<Figure size 640x480 with 1 Axes>"
      ]
     },
     "metadata": {},
     "output_type": "display_data"
    }
   ],
   "source": [
    "accuracy_list_train = []\n",
    "f1_list_train = []\n",
    "accuracy_list_val = []\n",
    "f1_list_val = []\n",
    "for n_estimators in n_estimators_list:\n",
    "    # You can fit the model at the same time you define it, because the fit function returns the fitted estimator.\n",
    "    model = RandomForestClassifier(n_estimators = n_estimators,\n",
    "                                   random_state = 123).fit(X_train,y_train) \n",
    "    predictions_train = model.predict(X_train) ## The predicted values for the train dataset\n",
    "    predictions_val = model.predict(X_val) ## The predicted values for the test dataset\n",
    "    accuracy_train = accuracy_score(predictions_train,y_train)\n",
    "    f1_train = f1_score(predictions_train,y_train)\n",
    "    accuracy_val = accuracy_score(predictions_val,y_val)\n",
    "    f1_val = f1_score(predictions_val,y_val)\n",
    "    accuracy_list_train.append(accuracy_train)\n",
    "    f1_list_train.append(f1_train)\n",
    "    accuracy_list_val.append(accuracy_val)\n",
    "    f1_list_val.append(f1_val)\n",
    "\n",
    "plt.title('Train x Validation metrics')\n",
    "plt.xlabel('n_estimators')\n",
    "plt.ylabel('accuracy')\n",
    "plt.xticks(ticks = range(len(n_estimators_list )),labels=n_estimators_list)\n",
    "plt.plot(accuracy_list_train)\n",
    "plt.plot(accuracy_list_val)\n",
    "plt.legend(['Train','Validation']);"
   ]
  },
  {
   "cell_type": "code",
   "execution_count": 151,
   "id": "44337ab4",
   "metadata": {},
   "outputs": [
    {
     "data": {
      "text/plain": [
       "[0.9794776119402985, 1.0, 1.0, 1.0, 1.0, 1.0]"
      ]
     },
     "execution_count": 151,
     "metadata": {},
     "output_type": "execute_result"
    }
   ],
   "source": [
    "accuracy_list_train"
   ]
  },
  {
   "cell_type": "code",
   "execution_count": 152,
   "id": "94f13d42",
   "metadata": {},
   "outputs": [
    {
     "data": {
      "text/plain": [
       "[0.9746348962336664, 1.0, 1.0, 1.0, 1.0, 1.0]"
      ]
     },
     "execution_count": 152,
     "metadata": {},
     "output_type": "execute_result"
    }
   ],
   "source": [
    "f1_list_train"
   ]
  },
  {
   "cell_type": "code",
   "execution_count": 153,
   "id": "b1c4b210",
   "metadata": {},
   "outputs": [
    {
     "data": {
      "text/plain": [
       "[0.6774193548387096,\n",
       " 0.7022332506203474,\n",
       " 0.7096774193548387,\n",
       " 0.7146401985111662,\n",
       " 0.71712158808933,\n",
       " 0.7146401985111662]"
      ]
     },
     "execution_count": 153,
     "metadata": {},
     "output_type": "execute_result"
    }
   ],
   "source": [
    "accuracy_list_val"
   ]
  },
  {
   "cell_type": "code",
   "execution_count": 154,
   "id": "853b604d",
   "metadata": {},
   "outputs": [
    {
     "data": {
      "text/plain": [
       "[0.4628099173553719,\n",
       " 0.49579831932773105,\n",
       " 0.5063291139240507,\n",
       " 0.5147679324894514,\n",
       " 0.5210084033613445,\n",
       " 0.5147679324894514]"
      ]
     },
     "execution_count": 154,
     "metadata": {},
     "output_type": "execute_result"
    }
   ],
   "source": [
    "f1_list_val"
   ]
  },
  {
   "cell_type": "code",
   "execution_count": 155,
   "id": "7be54f63",
   "metadata": {},
   "outputs": [],
   "source": [
    "n_estimators_list = np.arange(500,2000,100)"
   ]
  },
  {
   "cell_type": "code",
   "execution_count": 156,
   "id": "cf9a6a00",
   "metadata": {},
   "outputs": [
    {
     "data": {
      "image/png": "[encoded data removed]",
      "text/plain": [
       "<Figure size 640x480 with 1 Axes>"
      ]
     },
     "metadata": {},
     "output_type": "display_data"
    }
   ],
   "source": [
    "accuracy_list_train = []\n",
    "f1_list_train = []\n",
    "accuracy_list_val = []\n",
    "f1_list_val = []\n",
    "for n_estimators in n_estimators_list:\n",
    "    # You can fit the model at the same time you define it, because the fit function returns the fitted estimator.\n",
    "    model = RandomForestClassifier(n_estimators = n_estimators,\n",
    "                                   random_state = 123).fit(X_train,y_train) \n",
    "    predictions_train = model.predict(X_train) ## The predicted values for the train dataset\n",
    "    predictions_val = model.predict(X_val) ## The predicted values for the test dataset\n",
    "    accuracy_train = accuracy_score(predictions_train,y_train)\n",
    "    f1_train = f1_score(predictions_train,y_train)\n",
    "    accuracy_val = accuracy_score(predictions_val,y_val)\n",
    "    f1_val = f1_score(predictions_val,y_val)\n",
    "    accuracy_list_train.append(accuracy_train)\n",
    "    f1_list_train.append(f1_train)\n",
    "    accuracy_list_val.append(accuracy_val)\n",
    "    f1_list_val.append(f1_val)\n",
    "\n",
    "plt.title('Train x Validation metrics')\n",
    "plt.xlabel('n_estimators')\n",
    "plt.ylabel('accuracy')\n",
    "plt.xticks(ticks = range(len(n_estimators_list )),labels=n_estimators_list)\n",
    "plt.plot(accuracy_list_train)\n",
    "plt.plot(accuracy_list_val)\n",
    "plt.legend(['Train','Validation']);"
   ]
  },
  {
   "cell_type": "code",
   "execution_count": 157,
   "id": "ddcb96ce",
   "metadata": {},
   "outputs": [
    {
     "data": {
      "text/plain": [
       "[1.0, 1.0, 1.0, 1.0, 1.0, 1.0, 1.0, 1.0, 1.0, 1.0, 1.0, 1.0, 1.0, 1.0, 1.0]"
      ]
     },
     "execution_count": 157,
     "metadata": {},
     "output_type": "execute_result"
    }
   ],
   "source": [
    "accuracy_list_train"
   ]
  },
  {
   "cell_type": "code",
   "execution_count": 158,
   "id": "45c69167",
   "metadata": {},
   "outputs": [
    {
     "data": {
      "text/plain": [
       "[1.0, 1.0, 1.0, 1.0, 1.0, 1.0, 1.0, 1.0, 1.0, 1.0, 1.0, 1.0, 1.0, 1.0, 1.0]"
      ]
     },
     "execution_count": 158,
     "metadata": {},
     "output_type": "execute_result"
    }
   ],
   "source": [
    "f1_list_train"
   ]
  },
  {
   "cell_type": "code",
   "execution_count": 159,
   "id": "54234f75",
   "metadata": {},
   "outputs": [
    {
     "data": {
      "text/plain": [
       "[0.7146401985111662,\n",
       " 0.7196029776674938,\n",
       " 0.7245657568238213,\n",
       " 0.7196029776674938,\n",
       " 0.7196029776674938,\n",
       " 0.71712158808933,\n",
       " 0.7196029776674938,\n",
       " 0.7146401985111662,\n",
       " 0.71712158808933,\n",
       " 0.7146401985111662,\n",
       " 0.7146401985111662,\n",
       " 0.7146401985111662,\n",
       " 0.7146401985111662,\n",
       " 0.7146401985111662,\n",
       " 0.7146401985111662]"
      ]
     },
     "execution_count": 159,
     "metadata": {},
     "output_type": "execute_result"
    }
   ],
   "source": [
    "accuracy_list_val"
   ]
  },
  {
   "cell_type": "code",
   "execution_count": 160,
   "id": "44824e06",
   "metadata": {},
   "outputs": [
    {
     "data": {
      "text/plain": [
       "[0.5147679324894514,\n",
       " 0.5191489361702127,\n",
       " 0.5316455696202532,\n",
       " 0.5232067510548523,\n",
       " 0.5232067510548523,\n",
       " 0.5210084033613445,\n",
       " 0.5232067510548523,\n",
       " 0.5188284518828452,\n",
       " 0.5210084033613445,\n",
       " 0.5147679324894514,\n",
       " 0.5147679324894514,\n",
       " 0.5147679324894514,\n",
       " 0.5147679324894514,\n",
       " 0.5147679324894514,\n",
       " 0.5147679324894514]"
      ]
     },
     "execution_count": 160,
     "metadata": {},
     "output_type": "execute_result"
    }
   ],
   "source": [
    "f1_list_val"
   ]
  },
  {
   "cell_type": "code",
   "execution_count": null,
   "id": "20248672",
   "metadata": {},
   "outputs": [],
   "source": []
  },
  {
   "cell_type": "code",
   "execution_count": null,
   "id": "61df19d1",
   "metadata": {},
   "outputs": [],
   "source": []
  },
  {
   "cell_type": "code",
   "execution_count": 161,
   "id": "269a9992",
   "metadata": {},
   "outputs": [],
   "source": [
    "n_estimators_list = np.arange(650,750,10)"
   ]
  },
  {
   "cell_type": "code",
   "execution_count": 162,
   "id": "dcda097f",
   "metadata": {},
   "outputs": [
    {
     "data": {
      "image/png": "[encoded data removed]",
      "text/plain": [
       "<Figure size 640x480 with 1 Axes>"
      ]
     },
     "metadata": {},
     "output_type": "display_data"
    }
   ],
   "source": [
    "accuracy_list_train = []\n",
    "f1_list_train = []\n",
    "accuracy_list_val = []\n",
    "f1_list_val = []\n",
    "for n_estimators in n_estimators_list:\n",
    "    # You can fit the model at the same time you define it, because the fit function returns the fitted estimator.\n",
    "    model = RandomForestClassifier(n_estimators = n_estimators,\n",
    "                                   random_state = 123).fit(X_train,y_train) \n",
    "    predictions_train = model.predict(X_train) ## The predicted values for the train dataset\n",
    "    predictions_val = model.predict(X_val) ## The predicted values for the test dataset\n",
    "    accuracy_train = accuracy_score(predictions_train,y_train)\n",
    "    f1_train = f1_score(predictions_train,y_train)\n",
    "    accuracy_val = accuracy_score(predictions_val,y_val)\n",
    "    f1_val = f1_score(predictions_val,y_val)\n",
    "    accuracy_list_train.append(accuracy_train)\n",
    "    f1_list_train.append(f1_train)\n",
    "    accuracy_list_val.append(accuracy_val)\n",
    "    f1_list_val.append(f1_val)\n",
    "\n",
    "plt.title('Train x Validation metrics')\n",
    "plt.xlabel('n_estimators')\n",
    "plt.ylabel('accuracy')\n",
    "plt.xticks(ticks = range(len(n_estimators_list )),labels=n_estimators_list)\n",
    "plt.plot(accuracy_list_train)\n",
    "plt.plot(accuracy_list_val)\n",
    "plt.legend(['Train','Validation']);"
   ]
  },
  {
   "cell_type": "code",
   "execution_count": 163,
   "id": "77b65c44",
   "metadata": {},
   "outputs": [
    {
     "data": {
      "text/plain": [
       "[1.0, 1.0, 1.0, 1.0, 1.0, 1.0, 1.0, 1.0, 1.0, 1.0]"
      ]
     },
     "execution_count": 163,
     "metadata": {},
     "output_type": "execute_result"
    }
   ],
   "source": [
    "accuracy_list_train"
   ]
  },
  {
   "cell_type": "code",
   "execution_count": 164,
   "id": "a029b210",
   "metadata": {},
   "outputs": [
    {
     "data": {
      "text/plain": [
       "[1.0, 1.0, 1.0, 1.0, 1.0, 1.0, 1.0, 1.0, 1.0, 1.0]"
      ]
     },
     "execution_count": 164,
     "metadata": {},
     "output_type": "execute_result"
    }
   ],
   "source": [
    "f1_list_train"
   ]
  },
  {
   "cell_type": "code",
   "execution_count": 165,
   "id": "47d122cc",
   "metadata": {},
   "outputs": [
    {
     "data": {
      "text/plain": [
       "[0.7220843672456576,\n",
       " 0.7196029776674938,\n",
       " 0.7196029776674938,\n",
       " 0.7220843672456576,\n",
       " 0.7220843672456576,\n",
       " 0.7245657568238213,\n",
       " 0.7220843672456576,\n",
       " 0.7196029776674938,\n",
       " 0.7220843672456576,\n",
       " 0.7196029776674938]"
      ]
     },
     "execution_count": 165,
     "metadata": {},
     "output_type": "execute_result"
    }
   ],
   "source": [
    "accuracy_list_val"
   ]
  },
  {
   "cell_type": "code",
   "execution_count": 166,
   "id": "0a722029",
   "metadata": {},
   "outputs": [
    {
     "data": {
      "text/plain": [
       "[0.5254237288135594,\n",
       " 0.5232067510548523,\n",
       " 0.5232067510548523,\n",
       " 0.5254237288135594,\n",
       " 0.5254237288135594,\n",
       " 0.5316455696202532,\n",
       " 0.5254237288135594,\n",
       " 0.5232067510548523,\n",
       " 0.5254237288135594,\n",
       " 0.5232067510548523]"
      ]
     },
     "execution_count": 166,
     "metadata": {},
     "output_type": "execute_result"
    }
   ],
   "source": [
    "f1_list_val"
   ]
  },
  {
   "cell_type": "markdown",
   "id": "0ab90601",
   "metadata": {},
   "source": [
    "    Chosen max_depth = 14\n",
    "    Chosen n_estimators = 700\n",
    "    Chosen min_samples_split = 26"
   ]
  },
  {
   "cell_type": "code",
   "execution_count": 167,
   "id": "df76d359",
   "metadata": {},
   "outputs": [],
   "source": [
    "random_forest_model = RandomForestClassifier(n_estimators = 700,\n",
    "                                             max_depth = 14, \n",
    "                                             min_samples_split = 26).fit(X_train,y_train)"
   ]
  },
  {
   "cell_type": "code",
   "execution_count": 168,
   "id": "9355a764",
   "metadata": {},
   "outputs": [
    {
     "name": "stdout",
     "output_type": "stream",
     "text": [
      "Accuracy for train:\n",
      "\tAccuracy score: 0.8669\n",
      "f1 for train:\n",
      "\tf1 score: 0.8123\n",
      "Accuracy for validation:\n",
      "\tAccuracy score: 0.7246\n",
      "f1 for validation:\n",
      "\tf1 score: 0.5110\n"
     ]
    }
   ],
   "source": [
    "print(f\"Accuracy for train:\\n\\tAccuracy score: {accuracy_score(random_forest_model.predict(X_train),y_train):.4f}\")\n",
    "print(f\"f1 for train:\\n\\tf1 score: {f1_score(random_forest_model.predict(X_train),y_train):.4f}\")\n",
    "print(f\"Accuracy for validation:\\n\\tAccuracy score: {accuracy_score(random_forest_model.predict(X_val),y_val):.4f}\")\n",
    "print(f\"f1 for validation:\\n\\tf1 score: {f1_score(random_forest_model.predict(X_val),y_val):.4f}\")"
   ]
  },
  {
   "cell_type": "code",
   "execution_count": 169,
   "id": "05a18b14",
   "metadata": {},
   "outputs": [],
   "source": [
    "from xgboost import XGBClassifier"
   ]
  },
  {
   "cell_type": "code",
   "execution_count": 170,
   "id": "5329b206",
   "metadata": {},
   "outputs": [],
   "source": [
    "n = int(len(X_train)*0.8) ## Let's use 80% to train and 20% to eval"
   ]
  },
  {
   "cell_type": "code",
   "execution_count": 171,
   "id": "d88c6d9e",
   "metadata": {},
   "outputs": [],
   "source": [
    "X_train_fit, X_train_eval, y_train_fit, y_train_eval = X_train[:n], X_train[n:], y_train[:n], y_train[n:]"
   ]
  },
  {
   "cell_type": "code",
   "execution_count": 172,
   "id": "d8d217cd",
   "metadata": {
    "scrolled": true
   },
   "outputs": [
    {
     "name": "stdout",
     "output_type": "stream",
     "text": [
      "[0]\tvalidation_0-logloss:0.67786\n",
      "[1]\tvalidation_0-logloss:0.67046\n",
      "[2]\tvalidation_0-logloss:0.66326\n",
      "[3]\tvalidation_0-logloss:0.65562\n",
      "[4]\tvalidation_0-logloss:0.64963\n",
      "[5]\tvalidation_0-logloss:0.64179\n",
      "[6]\tvalidation_0-logloss:0.63885\n",
      "[7]\tvalidation_0-logloss:0.63344\n",
      "[8]\tvalidation_0-logloss:0.63096\n",
      "[9]\tvalidation_0-logloss:0.63126\n",
      "[10]\tvalidation_0-logloss:0.62911\n",
      "[11]\tvalidation_0-logloss:0.62722\n",
      "[12]\tvalidation_0-logloss:0.62324\n",
      "[13]\tvalidation_0-logloss:0.62222\n",
      "[14]\tvalidation_0-logloss:0.62382\n",
      "[15]\tvalidation_0-logloss:0.62088\n",
      "[16]\tvalidation_0-logloss:0.62185\n",
      "[17]\tvalidation_0-logloss:0.62139\n",
      "[18]\tvalidation_0-logloss:0.61912\n",
      "[19]\tvalidation_0-logloss:0.62051\n",
      "[20]\tvalidation_0-logloss:0.62074\n",
      "[21]\tvalidation_0-logloss:0.61924\n",
      "[22]\tvalidation_0-logloss:0.61949\n",
      "[23]\tvalidation_0-logloss:0.61835\n",
      "[24]\tvalidation_0-logloss:0.61774\n",
      "[25]\tvalidation_0-logloss:0.61828\n",
      "[26]\tvalidation_0-logloss:0.61803\n",
      "[27]\tvalidation_0-logloss:0.61752\n",
      "[28]\tvalidation_0-logloss:0.61845\n",
      "[29]\tvalidation_0-logloss:0.61540\n",
      "[30]\tvalidation_0-logloss:0.61457\n",
      "[31]\tvalidation_0-logloss:0.61552\n",
      "[32]\tvalidation_0-logloss:0.61687\n",
      "[33]\tvalidation_0-logloss:0.61620\n",
      "[34]\tvalidation_0-logloss:0.61715\n",
      "[35]\tvalidation_0-logloss:0.61744\n",
      "[36]\tvalidation_0-logloss:0.61774\n",
      "[37]\tvalidation_0-logloss:0.61773\n",
      "[38]\tvalidation_0-logloss:0.61826\n",
      "[39]\tvalidation_0-logloss:0.61749\n",
      "[40]\tvalidation_0-logloss:0.61755\n",
      "[41]\tvalidation_0-logloss:0.61748\n",
      "[42]\tvalidation_0-logloss:0.61912\n",
      "[43]\tvalidation_0-logloss:0.61656\n",
      "[44]\tvalidation_0-logloss:0.61600\n",
      "[45]\tvalidation_0-logloss:0.61567\n",
      "[46]\tvalidation_0-logloss:0.61596\n",
      "[47]\tvalidation_0-logloss:0.61581\n",
      "[48]\tvalidation_0-logloss:0.61555\n",
      "[49]\tvalidation_0-logloss:0.61440\n",
      "[50]\tvalidation_0-logloss:0.61531\n",
      "[51]\tvalidation_0-logloss:0.61768\n",
      "[52]\tvalidation_0-logloss:0.61606\n",
      "[53]\tvalidation_0-logloss:0.61551\n",
      "[54]\tvalidation_0-logloss:0.61505\n",
      "[55]\tvalidation_0-logloss:0.61503\n",
      "[56]\tvalidation_0-logloss:0.61617\n",
      "[57]\tvalidation_0-logloss:0.61839\n",
      "[58]\tvalidation_0-logloss:0.61796\n",
      "[59]\tvalidation_0-logloss:0.61754\n",
      "[60]\tvalidation_0-logloss:0.61788\n",
      "[61]\tvalidation_0-logloss:0.62033\n",
      "[62]\tvalidation_0-logloss:0.62346\n",
      "[63]\tvalidation_0-logloss:0.62631\n",
      "[64]\tvalidation_0-logloss:0.62601\n",
      "[65]\tvalidation_0-logloss:0.62936\n",
      "[66]\tvalidation_0-logloss:0.63045\n",
      "[67]\tvalidation_0-logloss:0.63144\n",
      "[68]\tvalidation_0-logloss:0.63111\n",
      "[69]\tvalidation_0-logloss:0.63409\n",
      "[70]\tvalidation_0-logloss:0.63276\n",
      "[71]\tvalidation_0-logloss:0.63394\n",
      "[72]\tvalidation_0-logloss:0.63510\n",
      "[73]\tvalidation_0-logloss:0.63629\n",
      "[74]\tvalidation_0-logloss:0.63638\n",
      "[75]\tvalidation_0-logloss:0.63617\n",
      "[76]\tvalidation_0-logloss:0.63638\n",
      "[77]\tvalidation_0-logloss:0.63617\n",
      "[78]\tvalidation_0-logloss:0.63616\n",
      "[79]\tvalidation_0-logloss:0.63699\n",
      "[80]\tvalidation_0-logloss:0.63756\n",
      "[81]\tvalidation_0-logloss:0.63876\n",
      "[82]\tvalidation_0-logloss:0.63948\n",
      "[83]\tvalidation_0-logloss:0.64008\n",
      "[84]\tvalidation_0-logloss:0.64031\n",
      "[85]\tvalidation_0-logloss:0.64173\n",
      "[86]\tvalidation_0-logloss:0.64221\n",
      "[87]\tvalidation_0-logloss:0.64262\n",
      "[88]\tvalidation_0-logloss:0.64368\n",
      "[89]\tvalidation_0-logloss:0.64345\n",
      "[90]\tvalidation_0-logloss:0.64349\n",
      "[91]\tvalidation_0-logloss:0.64338\n",
      "[92]\tvalidation_0-logloss:0.64352\n",
      "[93]\tvalidation_0-logloss:0.64405\n",
      "[94]\tvalidation_0-logloss:0.64231\n",
      "[95]\tvalidation_0-logloss:0.64193\n",
      "[96]\tvalidation_0-logloss:0.64162\n",
      "[97]\tvalidation_0-logloss:0.64352\n",
      "[98]\tvalidation_0-logloss:0.64398\n",
      "[99]\tvalidation_0-logloss:0.64511\n",
      "[100]\tvalidation_0-logloss:0.64694\n",
      "[101]\tvalidation_0-logloss:0.64806\n",
      "[102]\tvalidation_0-logloss:0.64884\n",
      "[103]\tvalidation_0-logloss:0.64806\n",
      "[104]\tvalidation_0-logloss:0.65066\n",
      "[105]\tvalidation_0-logloss:0.65070\n",
      "[106]\tvalidation_0-logloss:0.65157\n",
      "[107]\tvalidation_0-logloss:0.64957\n",
      "[108]\tvalidation_0-logloss:0.65046\n",
      "[109]\tvalidation_0-logloss:0.65048\n",
      "[110]\tvalidation_0-logloss:0.65085\n",
      "[111]\tvalidation_0-logloss:0.65250\n",
      "[112]\tvalidation_0-logloss:0.65274\n",
      "[113]\tvalidation_0-logloss:0.65366\n",
      "[114]\tvalidation_0-logloss:0.65591\n",
      "[115]\tvalidation_0-logloss:0.65627\n",
      "[116]\tvalidation_0-logloss:0.65680\n",
      "[117]\tvalidation_0-logloss:0.65743\n",
      "[118]\tvalidation_0-logloss:0.65738\n",
      "[119]\tvalidation_0-logloss:0.65729\n",
      "[120]\tvalidation_0-logloss:0.65719\n",
      "[121]\tvalidation_0-logloss:0.65737\n",
      "[122]\tvalidation_0-logloss:0.65831\n",
      "[123]\tvalidation_0-logloss:0.65957\n",
      "[124]\tvalidation_0-logloss:0.65825\n",
      "[125]\tvalidation_0-logloss:0.65722\n",
      "[126]\tvalidation_0-logloss:0.65967\n",
      "[127]\tvalidation_0-logloss:0.65874\n",
      "[128]\tvalidation_0-logloss:0.65843\n",
      "[129]\tvalidation_0-logloss:0.65994\n",
      "[130]\tvalidation_0-logloss:0.66033\n",
      "[131]\tvalidation_0-logloss:0.66310\n",
      "[132]\tvalidation_0-logloss:0.66462\n",
      "[133]\tvalidation_0-logloss:0.66758\n",
      "[134]\tvalidation_0-logloss:0.66870\n",
      "[135]\tvalidation_0-logloss:0.66831\n",
      "[136]\tvalidation_0-logloss:0.67123\n",
      "[137]\tvalidation_0-logloss:0.67047\n",
      "[138]\tvalidation_0-logloss:0.67174\n",
      "[139]\tvalidation_0-logloss:0.67086\n",
      "[140]\tvalidation_0-logloss:0.67132\n",
      "[141]\tvalidation_0-logloss:0.67219\n",
      "[142]\tvalidation_0-logloss:0.67301\n",
      "[143]\tvalidation_0-logloss:0.67326\n",
      "[144]\tvalidation_0-logloss:0.67299\n",
      "[145]\tvalidation_0-logloss:0.67326\n",
      "[146]\tvalidation_0-logloss:0.67244\n",
      "[147]\tvalidation_0-logloss:0.67290\n",
      "[148]\tvalidation_0-logloss:0.67399\n",
      "[149]\tvalidation_0-logloss:0.67488\n",
      "[150]\tvalidation_0-logloss:0.67466\n",
      "[151]\tvalidation_0-logloss:0.67616\n",
      "[152]\tvalidation_0-logloss:0.68074\n",
      "[153]\tvalidation_0-logloss:0.68117\n",
      "[154]\tvalidation_0-logloss:0.68261\n",
      "[155]\tvalidation_0-logloss:0.68264\n",
      "[156]\tvalidation_0-logloss:0.68313\n",
      "[157]\tvalidation_0-logloss:0.68280\n",
      "[158]\tvalidation_0-logloss:0.68307\n",
      "[159]\tvalidation_0-logloss:0.68252\n",
      "[160]\tvalidation_0-logloss:0.68235\n",
      "[161]\tvalidation_0-logloss:0.68481\n",
      "[162]\tvalidation_0-logloss:0.68708\n",
      "[163]\tvalidation_0-logloss:0.68739\n",
      "[164]\tvalidation_0-logloss:0.68633\n",
      "[165]\tvalidation_0-logloss:0.68655\n",
      "[166]\tvalidation_0-logloss:0.68676\n",
      "[167]\tvalidation_0-logloss:0.68571\n",
      "[168]\tvalidation_0-logloss:0.68898\n",
      "[169]\tvalidation_0-logloss:0.68913\n",
      "[170]\tvalidation_0-logloss:0.69019\n",
      "[171]\tvalidation_0-logloss:0.69095\n",
      "[172]\tvalidation_0-logloss:0.69133\n",
      "[173]\tvalidation_0-logloss:0.69167\n",
      "[174]\tvalidation_0-logloss:0.69215\n",
      "[175]\tvalidation_0-logloss:0.69292\n",
      "[176]\tvalidation_0-logloss:0.69242\n",
      "[177]\tvalidation_0-logloss:0.69200\n",
      "[178]\tvalidation_0-logloss:0.69332\n",
      "[179]\tvalidation_0-logloss:0.69351\n",
      "[180]\tvalidation_0-logloss:0.69287\n",
      "[181]\tvalidation_0-logloss:0.69207\n",
      "[182]\tvalidation_0-logloss:0.69199\n",
      "[183]\tvalidation_0-logloss:0.69384\n",
      "[184]\tvalidation_0-logloss:0.69495\n",
      "[185]\tvalidation_0-logloss:0.69575\n",
      "[186]\tvalidation_0-logloss:0.69418\n",
      "[187]\tvalidation_0-logloss:0.69490\n",
      "[188]\tvalidation_0-logloss:0.69473\n",
      "[189]\tvalidation_0-logloss:0.69421\n",
      "[190]\tvalidation_0-logloss:0.69428\n",
      "[191]\tvalidation_0-logloss:0.69392\n",
      "[192]\tvalidation_0-logloss:0.69428\n",
      "[193]\tvalidation_0-logloss:0.69411\n",
      "[194]\tvalidation_0-logloss:0.69641\n",
      "[195]\tvalidation_0-logloss:0.69768\n",
      "[196]\tvalidation_0-logloss:0.69762\n",
      "[197]\tvalidation_0-logloss:0.69734\n",
      "[198]\tvalidation_0-logloss:0.69849\n",
      "[199]\tvalidation_0-logloss:0.69843\n",
      "[200]\tvalidation_0-logloss:0.69832\n",
      "[201]\tvalidation_0-logloss:0.69864\n",
      "[202]\tvalidation_0-logloss:0.70011\n",
      "[203]\tvalidation_0-logloss:0.69961\n",
      "[204]\tvalidation_0-logloss:0.70066\n",
      "[205]\tvalidation_0-logloss:0.70121\n",
      "[206]\tvalidation_0-logloss:0.70181\n",
      "[207]\tvalidation_0-logloss:0.70279\n",
      "[208]\tvalidation_0-logloss:0.70242\n",
      "[209]\tvalidation_0-logloss:0.70300\n",
      "[210]\tvalidation_0-logloss:0.70276\n",
      "[211]\tvalidation_0-logloss:0.70450\n",
      "[212]\tvalidation_0-logloss:0.70575\n",
      "[213]\tvalidation_0-logloss:0.70624\n",
      "[214]\tvalidation_0-logloss:0.70637\n",
      "[215]\tvalidation_0-logloss:0.70683\n",
      "[216]\tvalidation_0-logloss:0.70917\n",
      "[217]\tvalidation_0-logloss:0.70971\n",
      "[218]\tvalidation_0-logloss:0.70956\n",
      "[219]\tvalidation_0-logloss:0.70964\n",
      "[220]\tvalidation_0-logloss:0.71100\n",
      "[221]\tvalidation_0-logloss:0.71113\n",
      "[222]\tvalidation_0-logloss:0.71065\n",
      "[223]\tvalidation_0-logloss:0.71098\n",
      "[224]\tvalidation_0-logloss:0.71119\n",
      "[225]\tvalidation_0-logloss:0.71152\n",
      "[226]\tvalidation_0-logloss:0.71114\n",
      "[227]\tvalidation_0-logloss:0.71202\n",
      "[228]\tvalidation_0-logloss:0.71227\n",
      "[229]\tvalidation_0-logloss:0.71226\n",
      "[230]\tvalidation_0-logloss:0.71222\n",
      "[231]\tvalidation_0-logloss:0.71440\n",
      "[232]\tvalidation_0-logloss:0.71437\n",
      "[233]\tvalidation_0-logloss:0.71495\n",
      "[234]\tvalidation_0-logloss:0.71451\n",
      "[235]\tvalidation_0-logloss:0.71641\n",
      "[236]\tvalidation_0-logloss:0.71714\n",
      "[237]\tvalidation_0-logloss:0.71899\n"
     ]
    },
    {
     "name": "stdout",
     "output_type": "stream",
     "text": [
      "[238]\tvalidation_0-logloss:0.71912\n",
      "[239]\tvalidation_0-logloss:0.71885\n",
      "[240]\tvalidation_0-logloss:0.72066\n",
      "[241]\tvalidation_0-logloss:0.72102\n",
      "[242]\tvalidation_0-logloss:0.72083\n",
      "[243]\tvalidation_0-logloss:0.72191\n",
      "[244]\tvalidation_0-logloss:0.72304\n",
      "[245]\tvalidation_0-logloss:0.72407\n",
      "[246]\tvalidation_0-logloss:0.72567\n",
      "[247]\tvalidation_0-logloss:0.72655\n",
      "[248]\tvalidation_0-logloss:0.72637\n",
      "[249]\tvalidation_0-logloss:0.72697\n",
      "[250]\tvalidation_0-logloss:0.72750\n",
      "[251]\tvalidation_0-logloss:0.72742\n",
      "[252]\tvalidation_0-logloss:0.72826\n",
      "[253]\tvalidation_0-logloss:0.72832\n",
      "[254]\tvalidation_0-logloss:0.72651\n",
      "[255]\tvalidation_0-logloss:0.72682\n",
      "[256]\tvalidation_0-logloss:0.72689\n",
      "[257]\tvalidation_0-logloss:0.72587\n",
      "[258]\tvalidation_0-logloss:0.72695\n",
      "[259]\tvalidation_0-logloss:0.72749\n",
      "[260]\tvalidation_0-logloss:0.72888\n",
      "[261]\tvalidation_0-logloss:0.72889\n",
      "[262]\tvalidation_0-logloss:0.72878\n",
      "[263]\tvalidation_0-logloss:0.72887\n",
      "[264]\tvalidation_0-logloss:0.72872\n",
      "[265]\tvalidation_0-logloss:0.72982\n",
      "[266]\tvalidation_0-logloss:0.73044\n",
      "[267]\tvalidation_0-logloss:0.73098\n",
      "[268]\tvalidation_0-logloss:0.73070\n",
      "[269]\tvalidation_0-logloss:0.73138\n",
      "[270]\tvalidation_0-logloss:0.73166\n",
      "[271]\tvalidation_0-logloss:0.73213\n",
      "[272]\tvalidation_0-logloss:0.73247\n",
      "[273]\tvalidation_0-logloss:0.73256\n",
      "[274]\tvalidation_0-logloss:0.73293\n",
      "[275]\tvalidation_0-logloss:0.73461\n",
      "[276]\tvalidation_0-logloss:0.73457\n",
      "[277]\tvalidation_0-logloss:0.73391\n",
      "[278]\tvalidation_0-logloss:0.73408\n",
      "[279]\tvalidation_0-logloss:0.73515\n",
      "[280]\tvalidation_0-logloss:0.73566\n",
      "[281]\tvalidation_0-logloss:0.73668\n",
      "[282]\tvalidation_0-logloss:0.73649\n",
      "[283]\tvalidation_0-logloss:0.73790\n",
      "[284]\tvalidation_0-logloss:0.73779\n",
      "[285]\tvalidation_0-logloss:0.73887\n",
      "[286]\tvalidation_0-logloss:0.73875\n",
      "[287]\tvalidation_0-logloss:0.73884\n",
      "[288]\tvalidation_0-logloss:0.73923\n",
      "[289]\tvalidation_0-logloss:0.73966\n",
      "[290]\tvalidation_0-logloss:0.73935\n",
      "[291]\tvalidation_0-logloss:0.74016\n",
      "[292]\tvalidation_0-logloss:0.74095\n",
      "[293]\tvalidation_0-logloss:0.74202\n",
      "[294]\tvalidation_0-logloss:0.74274\n",
      "[295]\tvalidation_0-logloss:0.74264\n",
      "[296]\tvalidation_0-logloss:0.74407\n",
      "[297]\tvalidation_0-logloss:0.74425\n",
      "[298]\tvalidation_0-logloss:0.74382\n",
      "[299]\tvalidation_0-logloss:0.74333\n",
      "[300]\tvalidation_0-logloss:0.74361\n",
      "[301]\tvalidation_0-logloss:0.74343\n",
      "[302]\tvalidation_0-logloss:0.74523\n",
      "[303]\tvalidation_0-logloss:0.74548\n",
      "[304]\tvalidation_0-logloss:0.74480\n",
      "[305]\tvalidation_0-logloss:0.74500\n",
      "[306]\tvalidation_0-logloss:0.74617\n",
      "[307]\tvalidation_0-logloss:0.74574\n",
      "[308]\tvalidation_0-logloss:0.74683\n",
      "[309]\tvalidation_0-logloss:0.74711\n",
      "[310]\tvalidation_0-logloss:0.74721\n",
      "[311]\tvalidation_0-logloss:0.74724\n",
      "[312]\tvalidation_0-logloss:0.74743\n",
      "[313]\tvalidation_0-logloss:0.74771\n",
      "[314]\tvalidation_0-logloss:0.74840\n",
      "[315]\tvalidation_0-logloss:0.74831\n",
      "[316]\tvalidation_0-logloss:0.74856\n",
      "[317]\tvalidation_0-logloss:0.74866\n",
      "[318]\tvalidation_0-logloss:0.74989\n",
      "[319]\tvalidation_0-logloss:0.75035\n",
      "[320]\tvalidation_0-logloss:0.75094\n",
      "[321]\tvalidation_0-logloss:0.75207\n",
      "[322]\tvalidation_0-logloss:0.75233\n",
      "[323]\tvalidation_0-logloss:0.75445\n",
      "[324]\tvalidation_0-logloss:0.75517\n",
      "[325]\tvalidation_0-logloss:0.75587\n",
      "[326]\tvalidation_0-logloss:0.75757\n",
      "[327]\tvalidation_0-logloss:0.75792\n",
      "[328]\tvalidation_0-logloss:0.75735\n",
      "[329]\tvalidation_0-logloss:0.75729\n",
      "[330]\tvalidation_0-logloss:0.75685\n",
      "[331]\tvalidation_0-logloss:0.75707\n",
      "[332]\tvalidation_0-logloss:0.75746\n",
      "[333]\tvalidation_0-logloss:0.75804\n",
      "[334]\tvalidation_0-logloss:0.75852\n",
      "[335]\tvalidation_0-logloss:0.75981\n",
      "[336]\tvalidation_0-logloss:0.76053\n",
      "[337]\tvalidation_0-logloss:0.76102\n",
      "[338]\tvalidation_0-logloss:0.76056\n",
      "[339]\tvalidation_0-logloss:0.76161\n",
      "[340]\tvalidation_0-logloss:0.76133\n",
      "[341]\tvalidation_0-logloss:0.76247\n",
      "[342]\tvalidation_0-logloss:0.76312\n",
      "[343]\tvalidation_0-logloss:0.76353\n",
      "[344]\tvalidation_0-logloss:0.76360\n",
      "[345]\tvalidation_0-logloss:0.76419\n",
      "[346]\tvalidation_0-logloss:0.76392\n",
      "[347]\tvalidation_0-logloss:0.76441\n",
      "[348]\tvalidation_0-logloss:0.76451\n",
      "[349]\tvalidation_0-logloss:0.76575\n",
      "[350]\tvalidation_0-logloss:0.76597\n",
      "[351]\tvalidation_0-logloss:0.76617\n",
      "[352]\tvalidation_0-logloss:0.76748\n",
      "[353]\tvalidation_0-logloss:0.76717\n",
      "[354]\tvalidation_0-logloss:0.76770\n",
      "[355]\tvalidation_0-logloss:0.76728\n",
      "[356]\tvalidation_0-logloss:0.76767\n",
      "[357]\tvalidation_0-logloss:0.76740\n",
      "[358]\tvalidation_0-logloss:0.76746\n",
      "[359]\tvalidation_0-logloss:0.76733\n",
      "[360]\tvalidation_0-logloss:0.76777\n",
      "[361]\tvalidation_0-logloss:0.76796\n",
      "[362]\tvalidation_0-logloss:0.76838\n",
      "[363]\tvalidation_0-logloss:0.76786\n",
      "[364]\tvalidation_0-logloss:0.76837\n",
      "[365]\tvalidation_0-logloss:0.76856\n",
      "[366]\tvalidation_0-logloss:0.77023\n",
      "[367]\tvalidation_0-logloss:0.77130\n",
      "[368]\tvalidation_0-logloss:0.77193\n",
      "[369]\tvalidation_0-logloss:0.77319\n",
      "[370]\tvalidation_0-logloss:0.77385\n",
      "[371]\tvalidation_0-logloss:0.77457\n",
      "[372]\tvalidation_0-logloss:0.77497\n",
      "[373]\tvalidation_0-logloss:0.77530\n",
      "[374]\tvalidation_0-logloss:0.77549\n",
      "[375]\tvalidation_0-logloss:0.77561\n",
      "[376]\tvalidation_0-logloss:0.77634\n",
      "[377]\tvalidation_0-logloss:0.77676\n",
      "[378]\tvalidation_0-logloss:0.77693\n",
      "[379]\tvalidation_0-logloss:0.77822\n",
      "[380]\tvalidation_0-logloss:0.77935\n",
      "[381]\tvalidation_0-logloss:0.77894\n",
      "[382]\tvalidation_0-logloss:0.77923\n",
      "[383]\tvalidation_0-logloss:0.77947\n",
      "[384]\tvalidation_0-logloss:0.78076\n",
      "[385]\tvalidation_0-logloss:0.78090\n",
      "[386]\tvalidation_0-logloss:0.78073\n",
      "[387]\tvalidation_0-logloss:0.78165\n",
      "[388]\tvalidation_0-logloss:0.78171\n",
      "[389]\tvalidation_0-logloss:0.78275\n",
      "[390]\tvalidation_0-logloss:0.78294\n",
      "[391]\tvalidation_0-logloss:0.78405\n",
      "[392]\tvalidation_0-logloss:0.78477\n",
      "[393]\tvalidation_0-logloss:0.78497\n",
      "[394]\tvalidation_0-logloss:0.78660\n",
      "[395]\tvalidation_0-logloss:0.78645\n",
      "[396]\tvalidation_0-logloss:0.78679\n",
      "[397]\tvalidation_0-logloss:0.78687\n",
      "[398]\tvalidation_0-logloss:0.78651\n",
      "[399]\tvalidation_0-logloss:0.78751\n",
      "[400]\tvalidation_0-logloss:0.78800\n",
      "[401]\tvalidation_0-logloss:0.78910\n",
      "[402]\tvalidation_0-logloss:0.79021\n",
      "[403]\tvalidation_0-logloss:0.79045\n",
      "[404]\tvalidation_0-logloss:0.79080\n",
      "[405]\tvalidation_0-logloss:0.79212\n",
      "[406]\tvalidation_0-logloss:0.79319\n",
      "[407]\tvalidation_0-logloss:0.79466\n",
      "[408]\tvalidation_0-logloss:0.79466\n",
      "[409]\tvalidation_0-logloss:0.79532\n",
      "[410]\tvalidation_0-logloss:0.79561\n",
      "[411]\tvalidation_0-logloss:0.79634\n",
      "[412]\tvalidation_0-logloss:0.79661\n",
      "[413]\tvalidation_0-logloss:0.79642\n",
      "[414]\tvalidation_0-logloss:0.79664\n",
      "[415]\tvalidation_0-logloss:0.79704\n",
      "[416]\tvalidation_0-logloss:0.79895\n",
      "[417]\tvalidation_0-logloss:0.79974\n",
      "[418]\tvalidation_0-logloss:0.79976\n",
      "[419]\tvalidation_0-logloss:0.79922\n",
      "[420]\tvalidation_0-logloss:0.80042\n",
      "[421]\tvalidation_0-logloss:0.80033\n",
      "[422]\tvalidation_0-logloss:0.80045\n",
      "[423]\tvalidation_0-logloss:0.79972\n",
      "[424]\tvalidation_0-logloss:0.80022\n",
      "[425]\tvalidation_0-logloss:0.80088\n",
      "[426]\tvalidation_0-logloss:0.80077\n",
      "[427]\tvalidation_0-logloss:0.80166\n",
      "[428]\tvalidation_0-logloss:0.80224\n",
      "[429]\tvalidation_0-logloss:0.80335\n",
      "[430]\tvalidation_0-logloss:0.80375\n",
      "[431]\tvalidation_0-logloss:0.80402\n",
      "[432]\tvalidation_0-logloss:0.80568\n",
      "[433]\tvalidation_0-logloss:0.80610\n",
      "[434]\tvalidation_0-logloss:0.80620\n",
      "[435]\tvalidation_0-logloss:0.80657\n",
      "[436]\tvalidation_0-logloss:0.80689\n",
      "[437]\tvalidation_0-logloss:0.80732\n",
      "[438]\tvalidation_0-logloss:0.80718\n",
      "[439]\tvalidation_0-logloss:0.80838\n",
      "[440]\tvalidation_0-logloss:0.80919\n",
      "[441]\tvalidation_0-logloss:0.80962\n",
      "[442]\tvalidation_0-logloss:0.80977\n",
      "[443]\tvalidation_0-logloss:0.81123\n",
      "[444]\tvalidation_0-logloss:0.81171\n",
      "[445]\tvalidation_0-logloss:0.81217\n",
      "[446]\tvalidation_0-logloss:0.81304\n",
      "[447]\tvalidation_0-logloss:0.81279\n",
      "[448]\tvalidation_0-logloss:0.81280\n",
      "[449]\tvalidation_0-logloss:0.81319\n",
      "[450]\tvalidation_0-logloss:0.81385\n",
      "[451]\tvalidation_0-logloss:0.81436\n",
      "[452]\tvalidation_0-logloss:0.81442\n",
      "[453]\tvalidation_0-logloss:0.81510\n",
      "[454]\tvalidation_0-logloss:0.81524\n",
      "[455]\tvalidation_0-logloss:0.81521\n",
      "[456]\tvalidation_0-logloss:0.81570\n",
      "[457]\tvalidation_0-logloss:0.81618\n",
      "[458]\tvalidation_0-logloss:0.81654\n",
      "[459]\tvalidation_0-logloss:0.81629\n",
      "[460]\tvalidation_0-logloss:0.81684\n",
      "[461]\tvalidation_0-logloss:0.81794\n",
      "[462]\tvalidation_0-logloss:0.81807\n",
      "[463]\tvalidation_0-logloss:0.81800\n",
      "[464]\tvalidation_0-logloss:0.81853\n",
      "[465]\tvalidation_0-logloss:0.81943\n",
      "[466]\tvalidation_0-logloss:0.82026\n",
      "[467]\tvalidation_0-logloss:0.82021\n",
      "[468]\tvalidation_0-logloss:0.82116\n",
      "[469]\tvalidation_0-logloss:0.82137\n",
      "[470]\tvalidation_0-logloss:0.82168\n",
      "[471]\tvalidation_0-logloss:0.82192\n",
      "[472]\tvalidation_0-logloss:0.82296\n"
     ]
    },
    {
     "name": "stdout",
     "output_type": "stream",
     "text": [
      "[473]\tvalidation_0-logloss:0.82346\n",
      "[474]\tvalidation_0-logloss:0.82367\n",
      "[475]\tvalidation_0-logloss:0.82454\n",
      "[476]\tvalidation_0-logloss:0.82492\n",
      "[477]\tvalidation_0-logloss:0.82543\n",
      "[478]\tvalidation_0-logloss:0.82609\n",
      "[479]\tvalidation_0-logloss:0.82646\n",
      "[480]\tvalidation_0-logloss:0.82716\n",
      "[481]\tvalidation_0-logloss:0.82809\n",
      "[482]\tvalidation_0-logloss:0.82826\n",
      "[483]\tvalidation_0-logloss:0.82960\n",
      "[484]\tvalidation_0-logloss:0.83075\n",
      "[485]\tvalidation_0-logloss:0.83098\n",
      "[486]\tvalidation_0-logloss:0.83149\n",
      "[487]\tvalidation_0-logloss:0.83169\n",
      "[488]\tvalidation_0-logloss:0.83243\n",
      "[489]\tvalidation_0-logloss:0.83355\n",
      "[490]\tvalidation_0-logloss:0.83394\n",
      "[491]\tvalidation_0-logloss:0.83515\n",
      "[492]\tvalidation_0-logloss:0.83570\n",
      "[493]\tvalidation_0-logloss:0.83696\n",
      "[494]\tvalidation_0-logloss:0.83877\n",
      "[495]\tvalidation_0-logloss:0.83903\n",
      "[496]\tvalidation_0-logloss:0.83987\n",
      "[497]\tvalidation_0-logloss:0.83988\n",
      "[498]\tvalidation_0-logloss:0.83990\n",
      "[499]\tvalidation_0-logloss:0.84044\n"
     ]
    },
    {
     "data": {
      "text/html": [
       "<style>#sk-container-id-1 {color: black;}#sk-container-id-1 pre{padding: 0;}#sk-container-id-1 div.sk-toggleable {background-color: white;}#sk-container-id-1 label.sk-toggleable__label {cursor: pointer;display: block;width: 100%;margin-bottom: 0;padding: 0.3em;box-sizing: border-box;text-align: center;}#sk-container-id-1 label.sk-toggleable__label-arrow:before {content: \"▸\";float: left;margin-right: 0.25em;color: #696969;}#sk-container-id-1 label.sk-toggleable__label-arrow:hover:before {color: black;}#sk-container-id-1 div.sk-estimator:hover label.sk-toggleable__label-arrow:before {color: black;}#sk-container-id-1 div.sk-toggleable__content {max-height: 0;max-width: 0;overflow: hidden;text-align: left;background-color: #f0f8ff;}#sk-container-id-1 div.sk-toggleable__content pre {margin: 0.2em;color: black;border-radius: 0.25em;background-color: #f0f8ff;}#sk-container-id-1 input.sk-toggleable__control:checked~div.sk-toggleable__content {max-height: 200px;max-width: 100%;overflow: auto;}#sk-container-id-1 input.sk-toggleable__control:checked~label.sk-toggleable__label-arrow:before {content: \"▾\";}#sk-container-id-1 div.sk-estimator input.sk-toggleable__control:checked~label.sk-toggleable__label {background-color: #d4ebff;}#sk-container-id-1 div.sk-label input.sk-toggleable__control:checked~label.sk-toggleable__label {background-color: #d4ebff;}#sk-container-id-1 input.sk-hidden--visually {border: 0;clip: rect(1px 1px 1px 1px);clip: rect(1px, 1px, 1px, 1px);height: 1px;margin: -1px;overflow: hidden;padding: 0;position: absolute;width: 1px;}#sk-container-id-1 div.sk-estimator {font-family: monospace;background-color: #f0f8ff;border: 1px dotted black;border-radius: 0.25em;box-sizing: border-box;margin-bottom: 0.5em;}#sk-container-id-1 div.sk-estimator:hover {background-color: #d4ebff;}#sk-container-id-1 div.sk-parallel-item::after {content: \"\";width: 100%;border-bottom: 1px solid gray;flex-grow: 1;}#sk-container-id-1 div.sk-label:hover label.sk-toggleable__label {background-color: #d4ebff;}#sk-container-id-1 div.sk-serial::before {content: \"\";position: absolute;border-left: 1px solid gray;box-sizing: border-box;top: 0;bottom: 0;left: 50%;z-index: 0;}#sk-container-id-1 div.sk-serial {display: flex;flex-direction: column;align-items: center;background-color: white;padding-right: 0.2em;padding-left: 0.2em;position: relative;}#sk-container-id-1 div.sk-item {position: relative;z-index: 1;}#sk-container-id-1 div.sk-parallel {display: flex;align-items: stretch;justify-content: center;background-color: white;position: relative;}#sk-container-id-1 div.sk-item::before, #sk-container-id-1 div.sk-parallel-item::before {content: \"\";position: absolute;border-left: 1px solid gray;box-sizing: border-box;top: 0;bottom: 0;left: 50%;z-index: -1;}#sk-container-id-1 div.sk-parallel-item {display: flex;flex-direction: column;z-index: 1;position: relative;background-color: white;}#sk-container-id-1 div.sk-parallel-item:first-child::after {align-self: flex-end;width: 50%;}#sk-container-id-1 div.sk-parallel-item:last-child::after {align-self: flex-start;width: 50%;}#sk-container-id-1 div.sk-parallel-item:only-child::after {width: 0;}#sk-container-id-1 div.sk-dashed-wrapped {border: 1px dashed gray;margin: 0 0.4em 0.5em 0.4em;box-sizing: border-box;padding-bottom: 0.4em;background-color: white;}#sk-container-id-1 div.sk-label label {font-family: monospace;font-weight: bold;display: inline-block;line-height: 1.2em;}#sk-container-id-1 div.sk-label-container {text-align: center;}#sk-container-id-1 div.sk-container {/* jupyter's `normalize.less` sets `[hidden] { display: none; }` but bootstrap.min.css set `[hidden] { display: none !important; }` so we also need the `!important` here to be able to override the default hidden behavior on the sphinx rendered scikit-learn.org. See: https://github.com/scikit-learn/scikit-learn/issues/21755 */display: inline-block !important;position: relative;}#sk-container-id-1 div.sk-text-repr-fallback {display: none;}</style><div id=\"sk-container-id-1\" class=\"sk-top-container\"><div class=\"sk-text-repr-fallback\"><pre>XGBClassifier(base_score=None, booster=None, callbacks=None,\n",
       "              colsample_bylevel=None, colsample_bynode=None,\n",
       "              colsample_bytree=None, early_stopping_rounds=None,\n",
       "              enable_categorical=False, eval_metric=None, feature_types=None,\n",
       "              gamma=None, gpu_id=None, grow_policy=None, importance_type=None,\n",
       "              interaction_constraints=None, learning_rate=0.1, max_bin=None,\n",
       "              max_cat_threshold=None, max_cat_to_onehot=None,\n",
       "              max_delta_step=None, max_depth=None, max_leaves=None,\n",
       "              min_child_weight=None, missing=nan, monotone_constraints=None,\n",
       "              n_estimators=500, n_jobs=None, num_parallel_tree=None,\n",
       "              predictor=None, random_state=123, ...)</pre><b>In a Jupyter environment, please rerun this cell to show the HTML representation or trust the notebook. <br />On GitHub, the HTML representation is unable to render, please try loading this page with nbviewer.org.</b></div><div class=\"sk-container\" hidden><div class=\"sk-item\"><div class=\"sk-estimator sk-toggleable\"><input class=\"sk-toggleable__control sk-hidden--visually\" id=\"sk-estimator-id-1\" type=\"checkbox\" checked><label for=\"sk-estimator-id-1\" class=\"sk-toggleable__label sk-toggleable__label-arrow\">XGBClassifier</label><div class=\"sk-toggleable__content\"><pre>XGBClassifier(base_score=None, booster=None, callbacks=None,\n",
       "              colsample_bylevel=None, colsample_bynode=None,\n",
       "              colsample_bytree=None, early_stopping_rounds=None,\n",
       "              enable_categorical=False, eval_metric=None, feature_types=None,\n",
       "              gamma=None, gpu_id=None, grow_policy=None, importance_type=None,\n",
       "              interaction_constraints=None, learning_rate=0.1, max_bin=None,\n",
       "              max_cat_threshold=None, max_cat_to_onehot=None,\n",
       "              max_delta_step=None, max_depth=None, max_leaves=None,\n",
       "              min_child_weight=None, missing=nan, monotone_constraints=None,\n",
       "              n_estimators=500, n_jobs=None, num_parallel_tree=None,\n",
       "              predictor=None, random_state=123, ...)</pre></div></div></div></div></div>"
      ],
      "text/plain": [
       "XGBClassifier(base_score=None, booster=None, callbacks=None,\n",
       "              colsample_bylevel=None, colsample_bynode=None,\n",
       "              colsample_bytree=None, early_stopping_rounds=None,\n",
       "              enable_categorical=False, eval_metric=None, feature_types=None,\n",
       "              gamma=None, gpu_id=None, grow_policy=None, importance_type=None,\n",
       "              interaction_constraints=None, learning_rate=0.1, max_bin=None,\n",
       "              max_cat_threshold=None, max_cat_to_onehot=None,\n",
       "              max_delta_step=None, max_depth=None, max_leaves=None,\n",
       "              min_child_weight=None, missing=nan, monotone_constraints=None,\n",
       "              n_estimators=500, n_jobs=None, num_parallel_tree=None,\n",
       "              predictor=None, random_state=123, ...)"
      ]
     },
     "execution_count": 172,
     "metadata": {},
     "output_type": "execute_result"
    }
   ],
   "source": [
    "xgb_model = XGBClassifier(n_estimators = 500, learning_rate = 0.1,verbosity = 1,random_state = 123)\n",
    "xgb_model.fit(X_train_fit,y_train_fit, eval_set = [(X_train_eval,y_train_eval)])"
   ]
  },
  {
   "cell_type": "code",
   "execution_count": 173,
   "id": "13943e2b",
   "metadata": {},
   "outputs": [
    {
     "data": {
      "text/plain": [
       "499"
      ]
     },
     "execution_count": 173,
     "metadata": {},
     "output_type": "execute_result"
    }
   ],
   "source": [
    "xgb_model.best_iteration"
   ]
  },
  {
   "cell_type": "code",
   "execution_count": 176,
   "id": "0e5691eb",
   "metadata": {},
   "outputs": [
    {
     "name": "stdout",
     "output_type": "stream",
     "text": [
      "Accuracy for train:\n",
      "\tAccuracy score: 0.9210\n",
      "Accuracy for test:\n",
      "\tAccuracy score: 0.6824\n",
      "f1 for train:\n",
      "\tAccuracy score: 0.9036\n",
      "f1 for test:\n",
      "\tAccuracy score: 0.5294\n"
     ]
    }
   ],
   "source": [
    "print(f\"Accuracy for train:\\n\\tAccuracy score: {accuracy_score(xgb_model.predict(X_train),y_train):.4f}\\nAccuracy for test:\\n\\tAccuracy score: {accuracy_score(xgb_model.predict(X_val),y_val):.4f}\")\n",
    "print(f\"f1 for train:\\n\\tAccuracy score: {f1_score(xgb_model.predict(X_train),y_train):.4f}\\nf1 for test:\\n\\tAccuracy score: {f1_score(xgb_model.predict(X_val),y_val):.4f}\")"
   ]
  },
  {
   "cell_type": "code",
   "execution_count": null,
   "id": "ca8312ae",
   "metadata": {},
   "outputs": [],
   "source": []
  },
  {
   "cell_type": "code",
   "execution_count": null,
   "id": "343e9569",
   "metadata": {},
   "outputs": [],
   "source": []
  },
  {
   "cell_type": "code",
   "execution_count": null,
   "id": "91df46c5",
   "metadata": {},
   "outputs": [],
   "source": []
  },
  {
   "cell_type": "code",
   "execution_count": null,
   "id": "8aca15fd",
   "metadata": {},
   "outputs": [],
   "source": []
  },
  {
   "cell_type": "code",
   "execution_count": null,
   "id": "77eb927d",
   "metadata": {},
   "outputs": [],
   "source": []
  },
  {
   "cell_type": "code",
   "execution_count": null,
   "id": "aeea856d",
   "metadata": {},
   "outputs": [],
   "source": []
  },
  {
   "cell_type": "code",
   "execution_count": null,
   "id": "a3b4c956",
   "metadata": {},
   "outputs": [],
   "source": []
  },
  {
   "cell_type": "code",
   "execution_count": null,
   "id": "4bf72c00",
   "metadata": {},
   "outputs": [],
   "source": []
  },
  {
   "cell_type": "code",
   "execution_count": null,
   "id": "5dbd5e09",
   "metadata": {},
   "outputs": [],
   "source": []
  },
  {
   "cell_type": "code",
   "execution_count": null,
   "id": "b167dc43",
   "metadata": {},
   "outputs": [],
   "source": []
  },
  {
   "cell_type": "code",
   "execution_count": null,
   "id": "5893c698",
   "metadata": {},
   "outputs": [],
   "source": []
  },
  {
   "cell_type": "code",
   "execution_count": null,
   "id": "ceb350f0",
   "metadata": {},
   "outputs": [],
   "source": []
  },
  {
   "cell_type": "code",
   "execution_count": null,
   "id": "35026c43",
   "metadata": {},
   "outputs": [],
   "source": []
  },
  {
   "cell_type": "code",
   "execution_count": null,
   "id": "59d8375f",
   "metadata": {},
   "outputs": [],
   "source": []
  },
  {
   "cell_type": "code",
   "execution_count": null,
   "id": "4affb4e8",
   "metadata": {},
   "outputs": [],
   "source": []
  },
  {
   "cell_type": "code",
   "execution_count": null,
   "id": "caced2f9",
   "metadata": {},
   "outputs": [],
   "source": []
  },
  {
   "cell_type": "code",
   "execution_count": null,
   "id": "59232996",
   "metadata": {},
   "outputs": [],
   "source": []
  },
  {
   "cell_type": "code",
   "execution_count": null,
   "id": "06dfd1f9",
   "metadata": {},
   "outputs": [],
   "source": []
  },
  {
   "cell_type": "code",
   "execution_count": null,
   "id": "74e4f4ec",
   "metadata": {},
   "outputs": [],
   "source": []
  },
  {
   "cell_type": "code",
   "execution_count": null,
   "id": "b622f3fe",
   "metadata": {},
   "outputs": [],
   "source": []
  }
 ],
 "metadata": {
  "kernelspec": {
   "display_name": "Python 3 (ipykernel)",
   "language": "python",
   "name": "python3"
  },
  "language_info": {
   "codemirror_mode": {
    "name": "ipython",
    "version": 3
   },
   "file_extension": ".py",
   "mimetype": "text/x-python",
   "name": "python",
   "nbconvert_exporter": "python",
   "pygments_lexer": "ipython3",
   "version": "3.10.12"
  }
 },
 "nbformat": 4,
 "nbformat_minor": 5
}
