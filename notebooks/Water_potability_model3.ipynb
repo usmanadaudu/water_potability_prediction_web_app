{
 "cells": [
  {
   "cell_type": "markdown",
   "id": "eed4e2ea",
   "metadata": {},
   "source": [
    " # WATER POTABILITY PREDICTION MODEL"
   ]
  },
  {
   "cell_type": "markdown",
   "id": "4ef9c019",
   "metadata": {},
   "source": [
    "The dataset used for this model was gotten from https://www.hydroshare.org/resource/4ab43e1b507b496b9b42749701daed5c/"
   ]
  },
  {
   "cell_type": "code",
   "execution_count": 101,
   "id": "5b31709c",
   "metadata": {},
   "outputs": [],
   "source": [
    "import pandas as pd\n",
    "import numpy as np\n",
    "import seaborn as sns\n",
    "import matplotlib.pyplot as plt\n",
    "from sklearn.decomposition import PCA"
   ]
  },
  {
   "cell_type": "code",
   "execution_count": 2,
   "id": "f8ae590c",
   "metadata": {},
   "outputs": [],
   "source": [
    "df = pd.read_excel('Datasets/aquaattributes.xlsx')"
   ]
  },
  {
   "cell_type": "code",
   "execution_count": 3,
   "id": "dc44b5d0",
   "metadata": {},
   "outputs": [
    {
     "data": {
      "text/html": [
       "<div>\n",
       "<style scoped>\n",
       "    .dataframe tbody tr th:only-of-type {\n",
       "        vertical-align: middle;\n",
       "    }\n",
       "\n",
       "    .dataframe tbody tr th {\n",
       "        vertical-align: top;\n",
       "    }\n",
       "\n",
       "    .dataframe thead th {\n",
       "        text-align: right;\n",
       "    }\n",
       "</style>\n",
       "<table border=\"1\" class=\"dataframe\">\n",
       "  <thead>\n",
       "    <tr style=\"text-align: right;\">\n",
       "      <th></th>\n",
       "      <th>Stationcode</th>\n",
       "      <th>Locations</th>\n",
       "      <th>Lat</th>\n",
       "      <th>Lon</th>\n",
       "      <th>Capitalcity</th>\n",
       "      <th>State</th>\n",
       "      <th>Temperature</th>\n",
       "      <th>D.O</th>\n",
       "      <th>pH</th>\n",
       "      <th>Conductivity</th>\n",
       "      <th>B.O.D</th>\n",
       "      <th>Nitrate</th>\n",
       "      <th>Fecalcaliform</th>\n",
       "      <th>Totalcaliform</th>\n",
       "      <th>class</th>\n",
       "    </tr>\n",
       "  </thead>\n",
       "  <tbody>\n",
       "    <tr>\n",
       "      <th>0</th>\n",
       "      <td>1001</td>\n",
       "      <td>BEAS AT U/S MANALI</td>\n",
       "      <td>32.244947</td>\n",
       "      <td>77.191080</td>\n",
       "      <td>Shimla</td>\n",
       "      <td>HIMACHAL PRADESH</td>\n",
       "      <td>9.0</td>\n",
       "      <td>9.0</td>\n",
       "      <td>8.0</td>\n",
       "      <td>85</td>\n",
       "      <td>0.10</td>\n",
       "      <td>0.2</td>\n",
       "      <td>106</td>\n",
       "      <td>397.0</td>\n",
       "      <td>yes</td>\n",
       "    </tr>\n",
       "    <tr>\n",
       "      <th>1</th>\n",
       "      <td>1002</td>\n",
       "      <td>BEAS AT D/S KULU</td>\n",
       "      <td>31.960582</td>\n",
       "      <td>77.114009</td>\n",
       "      <td>Shimla</td>\n",
       "      <td>HIMACHAL PRADESH</td>\n",
       "      <td>10.0</td>\n",
       "      <td>9.0</td>\n",
       "      <td>8.0</td>\n",
       "      <td>102</td>\n",
       "      <td>0.30</td>\n",
       "      <td>0.4</td>\n",
       "      <td>153</td>\n",
       "      <td>954.0</td>\n",
       "      <td>yes</td>\n",
       "    </tr>\n",
       "    <tr>\n",
       "      <th>2</th>\n",
       "      <td>1003</td>\n",
       "      <td>BEAS AT D/S AUT</td>\n",
       "      <td>26.887893</td>\n",
       "      <td>75.811484</td>\n",
       "      <td>Shimla</td>\n",
       "      <td>HIMACHAL PRADESH</td>\n",
       "      <td>11.0</td>\n",
       "      <td>9.0</td>\n",
       "      <td>8.0</td>\n",
       "      <td>96</td>\n",
       "      <td>0.20</td>\n",
       "      <td>0.3</td>\n",
       "      <td>58</td>\n",
       "      <td>653.0</td>\n",
       "      <td>yes</td>\n",
       "    </tr>\n",
       "    <tr>\n",
       "      <th>3</th>\n",
       "      <td>1004</td>\n",
       "      <td>BEAS AT U/S PANDON DAM</td>\n",
       "      <td>47.351943</td>\n",
       "      <td>19.633621</td>\n",
       "      <td>Shimla</td>\n",
       "      <td>HIMACHAL PRADESH</td>\n",
       "      <td>13.0</td>\n",
       "      <td>9.0</td>\n",
       "      <td>8.0</td>\n",
       "      <td>94</td>\n",
       "      <td>0.20</td>\n",
       "      <td>0.4</td>\n",
       "      <td>34</td>\n",
       "      <td>317.0</td>\n",
       "      <td>yes</td>\n",
       "    </tr>\n",
       "    <tr>\n",
       "      <th>4</th>\n",
       "      <td>1005</td>\n",
       "      <td>BEAS AT EXIT OF TUNNEL DEHAL POWER HOUSE</td>\n",
       "      <td>25.992786</td>\n",
       "      <td>91.826111</td>\n",
       "      <td>Shimla</td>\n",
       "      <td>HIMACHAL PRADESH</td>\n",
       "      <td>14.0</td>\n",
       "      <td>10.0</td>\n",
       "      <td>8.0</td>\n",
       "      <td>112</td>\n",
       "      <td>0.20</td>\n",
       "      <td>0.5</td>\n",
       "      <td>213</td>\n",
       "      <td>1072.0</td>\n",
       "      <td>yes</td>\n",
       "    </tr>\n",
       "    <tr>\n",
       "      <th>5</th>\n",
       "      <td>1550</td>\n",
       "      <td>U/S MANDI</td>\n",
       "      <td>31.708165</td>\n",
       "      <td>76.931367</td>\n",
       "      <td>Shimla</td>\n",
       "      <td>HIMACHAL PRADESH</td>\n",
       "      <td>16.0</td>\n",
       "      <td>9.0</td>\n",
       "      <td>8.0</td>\n",
       "      <td>117</td>\n",
       "      <td>0.20</td>\n",
       "      <td>0.5</td>\n",
       "      <td>100</td>\n",
       "      <td>722.0</td>\n",
       "      <td>yes</td>\n",
       "    </tr>\n",
       "    <tr>\n",
       "      <th>6</th>\n",
       "      <td>1006</td>\n",
       "      <td>BEAS AT D/S MANDI</td>\n",
       "      <td>31.708165</td>\n",
       "      <td>76.931367</td>\n",
       "      <td>Shimla</td>\n",
       "      <td>HIMACHAL PRADESH</td>\n",
       "      <td>16.0</td>\n",
       "      <td>9.0</td>\n",
       "      <td>8.0</td>\n",
       "      <td>155</td>\n",
       "      <td>0.50</td>\n",
       "      <td>0.7</td>\n",
       "      <td>445</td>\n",
       "      <td>1855.0</td>\n",
       "      <td>yes</td>\n",
       "    </tr>\n",
       "    <tr>\n",
       "      <th>7</th>\n",
       "      <td>2604</td>\n",
       "      <td>BEAS AT D/S JAISINGHPUR</td>\n",
       "      <td>31.899643</td>\n",
       "      <td>76.597945</td>\n",
       "      <td>Shimla</td>\n",
       "      <td>HIMACHAL PRADESH</td>\n",
       "      <td>19.0</td>\n",
       "      <td>8.0</td>\n",
       "      <td>8.0</td>\n",
       "      <td>211</td>\n",
       "      <td>0.50</td>\n",
       "      <td>0.5</td>\n",
       "      <td>7</td>\n",
       "      <td>72.0</td>\n",
       "      <td>yes</td>\n",
       "    </tr>\n",
       "    <tr>\n",
       "      <th>8</th>\n",
       "      <td>1007</td>\n",
       "      <td>BEAS AT D/S ALAMPUR</td>\n",
       "      <td>15.884349</td>\n",
       "      <td>78.119382</td>\n",
       "      <td>Shimla</td>\n",
       "      <td>HIMACHAL PRADESH</td>\n",
       "      <td>19.0</td>\n",
       "      <td>8.0</td>\n",
       "      <td>8.0</td>\n",
       "      <td>202</td>\n",
       "      <td>0.60</td>\n",
       "      <td>0.4</td>\n",
       "      <td>9</td>\n",
       "      <td>123.0</td>\n",
       "      <td>yes</td>\n",
       "    </tr>\n",
       "    <tr>\n",
       "      <th>9</th>\n",
       "      <td>1008</td>\n",
       "      <td>BEAS AT D/S DEHRAGOPIPUR</td>\n",
       "      <td>31.881756</td>\n",
       "      <td>76.214645</td>\n",
       "      <td>Shimla</td>\n",
       "      <td>HIMACHAL PRADESH</td>\n",
       "      <td>19.0</td>\n",
       "      <td>8.0</td>\n",
       "      <td>8.0</td>\n",
       "      <td>280</td>\n",
       "      <td>0.70</td>\n",
       "      <td>1.1</td>\n",
       "      <td>10</td>\n",
       "      <td>157.0</td>\n",
       "      <td>yes</td>\n",
       "    </tr>\n",
       "    <tr>\n",
       "      <th>10</th>\n",
       "      <td>1009</td>\n",
       "      <td>BEAS AT D/S PONG DAM</td>\n",
       "      <td>31.976579</td>\n",
       "      <td>76.050795</td>\n",
       "      <td>Shimla</td>\n",
       "      <td>HIMACHAL PRADESH</td>\n",
       "      <td>20.0</td>\n",
       "      <td>8.0</td>\n",
       "      <td>8.0</td>\n",
       "      <td>177</td>\n",
       "      <td>0.50</td>\n",
       "      <td>0.4</td>\n",
       "      <td>7</td>\n",
       "      <td>92.0</td>\n",
       "      <td>yes</td>\n",
       "    </tr>\n",
       "    <tr>\n",
       "      <th>11</th>\n",
       "      <td>1693</td>\n",
       "      <td>BEAS AT TALWARA H/W</td>\n",
       "      <td>31.931129</td>\n",
       "      <td>75.894059</td>\n",
       "      <td>Chandigarh</td>\n",
       "      <td>PUNJAB</td>\n",
       "      <td>15.0</td>\n",
       "      <td>8.0</td>\n",
       "      <td>8.0</td>\n",
       "      <td>285</td>\n",
       "      <td>0.00</td>\n",
       "      <td>0.8</td>\n",
       "      <td>3</td>\n",
       "      <td>50.0</td>\n",
       "      <td>yes</td>\n",
       "    </tr>\n",
       "    <tr>\n",
       "      <th>12</th>\n",
       "      <td>1694</td>\n",
       "      <td>U/S PATHANKOT</td>\n",
       "      <td>32.264338</td>\n",
       "      <td>75.642112</td>\n",
       "      <td>Chandigarh</td>\n",
       "      <td>PUNJAB</td>\n",
       "      <td>18.0</td>\n",
       "      <td>7.0</td>\n",
       "      <td>8.0</td>\n",
       "      <td>316</td>\n",
       "      <td>1.00</td>\n",
       "      <td>1.6</td>\n",
       "      <td>95</td>\n",
       "      <td>500.0</td>\n",
       "      <td>yes</td>\n",
       "    </tr>\n",
       "    <tr>\n",
       "      <th>13</th>\n",
       "      <td>1695</td>\n",
       "      <td>U/S PATHANKOT</td>\n",
       "      <td>32.264338</td>\n",
       "      <td>75.642112</td>\n",
       "      <td>Chandigarh</td>\n",
       "      <td>PUNJAB</td>\n",
       "      <td>15.0</td>\n",
       "      <td>7.0</td>\n",
       "      <td>7.0</td>\n",
       "      <td>334</td>\n",
       "      <td>1.00</td>\n",
       "      <td>2</td>\n",
       "      <td>158</td>\n",
       "      <td>600.0</td>\n",
       "      <td>yes</td>\n",
       "    </tr>\n",
       "    <tr>\n",
       "      <th>14</th>\n",
       "      <td>1010</td>\n",
       "      <td>BEAS AT MIRTHAL BRIDGE, GURDASPUR</td>\n",
       "      <td>31.940009</td>\n",
       "      <td>75.247906</td>\n",
       "      <td>Chandigarh</td>\n",
       "      <td>PUNJAB</td>\n",
       "      <td>15.0</td>\n",
       "      <td>8.0</td>\n",
       "      <td>8.0</td>\n",
       "      <td>177</td>\n",
       "      <td>0.50</td>\n",
       "      <td>0.6</td>\n",
       "      <td>66</td>\n",
       "      <td>662.0</td>\n",
       "      <td>yes</td>\n",
       "    </tr>\n",
       "    <tr>\n",
       "      <th>15</th>\n",
       "      <td>1294</td>\n",
       "      <td>BEAS AT 1KM.D/S OF EFFL. DISH. POINT AT MUKERIAN</td>\n",
       "      <td>31.940009</td>\n",
       "      <td>75.247906</td>\n",
       "      <td>Chandigarh</td>\n",
       "      <td>PUNJAB</td>\n",
       "      <td>14.0</td>\n",
       "      <td>7.0</td>\n",
       "      <td>7.0</td>\n",
       "      <td>334</td>\n",
       "      <td>1.00</td>\n",
       "      <td>1</td>\n",
       "      <td>370</td>\n",
       "      <td>738.0</td>\n",
       "      <td>yes</td>\n",
       "    </tr>\n",
       "    <tr>\n",
       "      <th>16</th>\n",
       "      <td>1011</td>\n",
       "      <td>BEAS AT G.T.ROAD UNDER BDG. NEAR KAPURTHALA</td>\n",
       "      <td>31.371480</td>\n",
       "      <td>75.393681</td>\n",
       "      <td>Chandigarh</td>\n",
       "      <td>PUNJAB</td>\n",
       "      <td>14.0</td>\n",
       "      <td>7.0</td>\n",
       "      <td>7.0</td>\n",
       "      <td>317</td>\n",
       "      <td>0.80</td>\n",
       "      <td>1.8</td>\n",
       "      <td>133</td>\n",
       "      <td>567.0</td>\n",
       "      <td>yes</td>\n",
       "    </tr>\n",
       "    <tr>\n",
       "      <th>17</th>\n",
       "      <td>1696</td>\n",
       "      <td>U/S GOINDWAL</td>\n",
       "      <td>31.363840</td>\n",
       "      <td>75.137025</td>\n",
       "      <td>Chandigarh</td>\n",
       "      <td>PUNJAB</td>\n",
       "      <td>16.0</td>\n",
       "      <td>7.0</td>\n",
       "      <td>7.0</td>\n",
       "      <td>310</td>\n",
       "      <td>1.00</td>\n",
       "      <td>2</td>\n",
       "      <td>180</td>\n",
       "      <td>650.0</td>\n",
       "      <td>yes</td>\n",
       "    </tr>\n",
       "    <tr>\n",
       "      <th>18</th>\n",
       "      <td>1012</td>\n",
       "      <td>BEAS AT 100M D/S INDUST. DISCH. GOINDWAL</td>\n",
       "      <td>31.363840</td>\n",
       "      <td>75.137025</td>\n",
       "      <td>Chandigarh</td>\n",
       "      <td>PUNJAB</td>\n",
       "      <td>17.0</td>\n",
       "      <td>7.0</td>\n",
       "      <td>7.0</td>\n",
       "      <td>320</td>\n",
       "      <td>0.65</td>\n",
       "      <td>1.8</td>\n",
       "      <td>185</td>\n",
       "      <td>725.0</td>\n",
       "      <td>yes</td>\n",
       "    </tr>\n",
       "    <tr>\n",
       "      <th>19</th>\n",
       "      <td>1697</td>\n",
       "      <td>BEAS AT HARIKE</td>\n",
       "      <td>31.170000</td>\n",
       "      <td>75.200000</td>\n",
       "      <td>Chandigarh</td>\n",
       "      <td>PUNJAB</td>\n",
       "      <td>16.0</td>\n",
       "      <td>7.0</td>\n",
       "      <td>8.0</td>\n",
       "      <td>304</td>\n",
       "      <td>1.00</td>\n",
       "      <td>1.5</td>\n",
       "      <td>130</td>\n",
       "      <td>550.0</td>\n",
       "      <td>yes</td>\n",
       "    </tr>\n",
       "  </tbody>\n",
       "</table>\n",
       "</div>"
      ],
      "text/plain": [
       "    Stationcode                                         Locations        Lat  \\\n",
       "0          1001                                BEAS AT U/S MANALI  32.244947   \n",
       "1          1002                                  BEAS AT D/S KULU  31.960582   \n",
       "2          1003                                   BEAS AT D/S AUT  26.887893   \n",
       "3          1004                            BEAS AT U/S PANDON DAM  47.351943   \n",
       "4          1005          BEAS AT EXIT OF TUNNEL DEHAL POWER HOUSE  25.992786   \n",
       "5          1550                                         U/S MANDI  31.708165   \n",
       "6          1006                                 BEAS AT D/S MANDI  31.708165   \n",
       "7          2604                           BEAS AT D/S JAISINGHPUR  31.899643   \n",
       "8          1007                               BEAS AT D/S ALAMPUR  15.884349   \n",
       "9          1008                          BEAS AT D/S DEHRAGOPIPUR  31.881756   \n",
       "10         1009                              BEAS AT D/S PONG DAM  31.976579   \n",
       "11         1693                               BEAS AT TALWARA H/W  31.931129   \n",
       "12         1694                                     U/S PATHANKOT  32.264338   \n",
       "13         1695                                     U/S PATHANKOT  32.264338   \n",
       "14         1010                 BEAS AT MIRTHAL BRIDGE, GURDASPUR  31.940009   \n",
       "15         1294  BEAS AT 1KM.D/S OF EFFL. DISH. POINT AT MUKERIAN  31.940009   \n",
       "16         1011       BEAS AT G.T.ROAD UNDER BDG. NEAR KAPURTHALA  31.371480   \n",
       "17         1696                                      U/S GOINDWAL  31.363840   \n",
       "18         1012         BEAS AT 100M D/S INDUST. DISCH. GOINDWAL   31.363840   \n",
       "19         1697                                    BEAS AT HARIKE  31.170000   \n",
       "\n",
       "          Lon Capitalcity             State  Temperature   D.O   pH  \\\n",
       "0   77.191080      Shimla  HIMACHAL PRADESH          9.0   9.0  8.0   \n",
       "1   77.114009      Shimla  HIMACHAL PRADESH         10.0   9.0  8.0   \n",
       "2   75.811484      Shimla  HIMACHAL PRADESH         11.0   9.0  8.0   \n",
       "3   19.633621      Shimla  HIMACHAL PRADESH         13.0   9.0  8.0   \n",
       "4   91.826111      Shimla  HIMACHAL PRADESH         14.0  10.0  8.0   \n",
       "5   76.931367      Shimla  HIMACHAL PRADESH         16.0   9.0  8.0   \n",
       "6   76.931367      Shimla  HIMACHAL PRADESH         16.0   9.0  8.0   \n",
       "7   76.597945      Shimla  HIMACHAL PRADESH         19.0   8.0  8.0   \n",
       "8   78.119382      Shimla  HIMACHAL PRADESH         19.0   8.0  8.0   \n",
       "9   76.214645      Shimla  HIMACHAL PRADESH         19.0   8.0  8.0   \n",
       "10  76.050795      Shimla  HIMACHAL PRADESH         20.0   8.0  8.0   \n",
       "11  75.894059  Chandigarh            PUNJAB         15.0   8.0  8.0   \n",
       "12  75.642112  Chandigarh            PUNJAB         18.0   7.0  8.0   \n",
       "13  75.642112  Chandigarh            PUNJAB         15.0   7.0  7.0   \n",
       "14  75.247906  Chandigarh            PUNJAB         15.0   8.0  8.0   \n",
       "15  75.247906  Chandigarh            PUNJAB         14.0   7.0  7.0   \n",
       "16  75.393681  Chandigarh            PUNJAB         14.0   7.0  7.0   \n",
       "17  75.137025  Chandigarh            PUNJAB         16.0   7.0  7.0   \n",
       "18  75.137025  Chandigarh            PUNJAB         17.0   7.0  7.0   \n",
       "19  75.200000  Chandigarh            PUNJAB         16.0   7.0  8.0   \n",
       "\n",
       "   Conductivity  B.O.D Nitrate Fecalcaliform  Totalcaliform class  \n",
       "0            85   0.10     0.2           106          397.0   yes  \n",
       "1           102   0.30     0.4           153          954.0   yes  \n",
       "2            96   0.20     0.3            58          653.0   yes  \n",
       "3            94   0.20     0.4            34          317.0   yes  \n",
       "4           112   0.20     0.5           213         1072.0   yes  \n",
       "5           117   0.20     0.5           100          722.0   yes  \n",
       "6           155   0.50     0.7           445         1855.0   yes  \n",
       "7           211   0.50     0.5             7           72.0   yes  \n",
       "8           202   0.60     0.4             9          123.0   yes  \n",
       "9           280   0.70     1.1            10          157.0   yes  \n",
       "10          177   0.50     0.4             7           92.0   yes  \n",
       "11          285   0.00     0.8             3           50.0   yes  \n",
       "12          316   1.00     1.6            95          500.0   yes  \n",
       "13          334   1.00       2           158          600.0   yes  \n",
       "14          177   0.50     0.6            66          662.0   yes  \n",
       "15          334   1.00       1           370          738.0   yes  \n",
       "16          317   0.80     1.8           133          567.0   yes  \n",
       "17          310   1.00       2           180          650.0   yes  \n",
       "18          320   0.65     1.8           185          725.0   yes  \n",
       "19          304   1.00     1.5           130          550.0   yes  "
      ]
     },
     "execution_count": 3,
     "metadata": {},
     "output_type": "execute_result"
    }
   ],
   "source": [
    "df.head(20)"
   ]
  },
  {
   "cell_type": "code",
   "execution_count": 4,
   "id": "4281eba2",
   "metadata": {},
   "outputs": [
    {
     "name": "stdout",
     "output_type": "stream",
     "text": [
      "<class 'pandas.core.frame.DataFrame'>\n",
      "RangeIndex: 1361 entries, 0 to 1360\n",
      "Data columns (total 15 columns):\n",
      " #   Column         Non-Null Count  Dtype  \n",
      "---  ------         --------------  -----  \n",
      " 0   Stationcode    1361 non-null   int64  \n",
      " 1   Locations      1361 non-null   object \n",
      " 2   Lat            1294 non-null   float64\n",
      " 3   Lon            1294 non-null   float64\n",
      " 4   Capitalcity    1361 non-null   object \n",
      " 5   State          1360 non-null   object \n",
      " 6   Temperature    1327 non-null   float64\n",
      " 7   D.O            1352 non-null   float64\n",
      " 8   pH             1360 non-null   float64\n",
      " 9   Conductivity   1324 non-null   object \n",
      " 10  B.O.D          1293 non-null   float64\n",
      " 11  Nitrate        1152 non-null   object \n",
      " 12  Fecalcaliform  1173 non-null   object \n",
      " 13  Totalcaliform  1226 non-null   float64\n",
      " 14  class          1361 non-null   object \n",
      "dtypes: float64(7), int64(1), object(7)\n",
      "memory usage: 159.6+ KB\n"
     ]
    }
   ],
   "source": [
    "df.info()"
   ]
  },
  {
   "cell_type": "code",
   "execution_count": 5,
   "id": "7cb27795",
   "metadata": {},
   "outputs": [
    {
     "data": {
      "text/plain": [
       "Stationcode        0\n",
       "Locations          0\n",
       "Lat               67\n",
       "Lon               67\n",
       "Capitalcity        0\n",
       "State              1\n",
       "Temperature       34\n",
       "D.O                9\n",
       "pH                 1\n",
       "Conductivity      37\n",
       "B.O.D             68\n",
       "Nitrate          209\n",
       "Fecalcaliform    188\n",
       "Totalcaliform    135\n",
       "class              0\n",
       "dtype: int64"
      ]
     },
     "execution_count": 5,
     "metadata": {},
     "output_type": "execute_result"
    }
   ],
   "source": [
    "df.isnull().sum()"
   ]
  },
  {
   "cell_type": "code",
   "execution_count": 6,
   "id": "f69567c4",
   "metadata": {},
   "outputs": [],
   "source": [
    "df.dropna(inplace=True)"
   ]
  },
  {
   "cell_type": "code",
   "execution_count": 7,
   "id": "5f42632b",
   "metadata": {},
   "outputs": [
    {
     "data": {
      "text/plain": [
       "Stationcode      0\n",
       "Locations        0\n",
       "Lat              0\n",
       "Lon              0\n",
       "Capitalcity      0\n",
       "State            0\n",
       "Temperature      0\n",
       "D.O              0\n",
       "pH               0\n",
       "Conductivity     0\n",
       "B.O.D            0\n",
       "Nitrate          0\n",
       "Fecalcaliform    0\n",
       "Totalcaliform    0\n",
       "class            0\n",
       "dtype: int64"
      ]
     },
     "execution_count": 7,
     "metadata": {},
     "output_type": "execute_result"
    }
   ],
   "source": [
    "df.isnull().sum()"
   ]
  },
  {
   "cell_type": "code",
   "execution_count": 8,
   "id": "b348fa5b",
   "metadata": {},
   "outputs": [
    {
     "name": "stdout",
     "output_type": "stream",
     "text": [
      "<class 'pandas.core.frame.DataFrame'>\n",
      "Int64Index: 967 entries, 0 to 1360\n",
      "Data columns (total 15 columns):\n",
      " #   Column         Non-Null Count  Dtype  \n",
      "---  ------         --------------  -----  \n",
      " 0   Stationcode    967 non-null    int64  \n",
      " 1   Locations      967 non-null    object \n",
      " 2   Lat            967 non-null    float64\n",
      " 3   Lon            967 non-null    float64\n",
      " 4   Capitalcity    967 non-null    object \n",
      " 5   State          967 non-null    object \n",
      " 6   Temperature    967 non-null    float64\n",
      " 7   D.O            967 non-null    float64\n",
      " 8   pH             967 non-null    float64\n",
      " 9   Conductivity   967 non-null    object \n",
      " 10  B.O.D          967 non-null    float64\n",
      " 11  Nitrate        967 non-null    object \n",
      " 12  Fecalcaliform  967 non-null    object \n",
      " 13  Totalcaliform  967 non-null    float64\n",
      " 14  class          967 non-null    object \n",
      "dtypes: float64(7), int64(1), object(7)\n",
      "memory usage: 120.9+ KB\n"
     ]
    }
   ],
   "source": [
    "df.info()"
   ]
  },
  {
   "cell_type": "code",
   "execution_count": 9,
   "id": "981c7f10",
   "metadata": {},
   "outputs": [],
   "source": [
    "cndt = df['Conductivity']"
   ]
  },
  {
   "cell_type": "code",
   "execution_count": 10,
   "id": "e5e1fa97",
   "metadata": {},
   "outputs": [
    {
     "data": {
      "text/plain": [
       "[int, float]"
      ]
     },
     "execution_count": 10,
     "metadata": {},
     "output_type": "execute_result"
    }
   ],
   "source": [
    "[x for x in cndt.apply(type).unique()]"
   ]
  },
  {
   "cell_type": "code",
   "execution_count": 11,
   "id": "c5fe0b87",
   "metadata": {},
   "outputs": [],
   "source": [
    "df['Conductivity'] = df['Conductivity'].astype(float)"
   ]
  },
  {
   "cell_type": "code",
   "execution_count": 12,
   "id": "b35c800d",
   "metadata": {},
   "outputs": [],
   "source": [
    "nitr = df['Nitrate']"
   ]
  },
  {
   "cell_type": "code",
   "execution_count": 13,
   "id": "4471dd0e",
   "metadata": {},
   "outputs": [
    {
     "data": {
      "text/plain": [
       "[float, int]"
      ]
     },
     "execution_count": 13,
     "metadata": {},
     "output_type": "execute_result"
    }
   ],
   "source": [
    "[x for x in nitr.apply(type).unique()]"
   ]
  },
  {
   "cell_type": "code",
   "execution_count": 14,
   "id": "c42a1e91",
   "metadata": {},
   "outputs": [],
   "source": [
    "df['Nitrate'] = df['Nitrate'].astype(float)"
   ]
  },
  {
   "cell_type": "code",
   "execution_count": 15,
   "id": "0eda73a0",
   "metadata": {},
   "outputs": [],
   "source": [
    "fclf = df['Fecalcaliform']"
   ]
  },
  {
   "cell_type": "code",
   "execution_count": 16,
   "id": "b14ccb62",
   "metadata": {},
   "outputs": [
    {
     "data": {
      "text/plain": [
       "[int, float]"
      ]
     },
     "execution_count": 16,
     "metadata": {},
     "output_type": "execute_result"
    }
   ],
   "source": [
    "[x for x in fclf.apply(type).unique()]"
   ]
  },
  {
   "cell_type": "code",
   "execution_count": 17,
   "id": "b8853487",
   "metadata": {},
   "outputs": [],
   "source": [
    "df['Fecalcaliform'] = df['Fecalcaliform'].astype(float)"
   ]
  },
  {
   "cell_type": "code",
   "execution_count": 18,
   "id": "ac58dbc8",
   "metadata": {},
   "outputs": [
    {
     "name": "stdout",
     "output_type": "stream",
     "text": [
      "<class 'pandas.core.frame.DataFrame'>\n",
      "Int64Index: 967 entries, 0 to 1360\n",
      "Data columns (total 15 columns):\n",
      " #   Column         Non-Null Count  Dtype  \n",
      "---  ------         --------------  -----  \n",
      " 0   Stationcode    967 non-null    int64  \n",
      " 1   Locations      967 non-null    object \n",
      " 2   Lat            967 non-null    float64\n",
      " 3   Lon            967 non-null    float64\n",
      " 4   Capitalcity    967 non-null    object \n",
      " 5   State          967 non-null    object \n",
      " 6   Temperature    967 non-null    float64\n",
      " 7   D.O            967 non-null    float64\n",
      " 8   pH             967 non-null    float64\n",
      " 9   Conductivity   967 non-null    float64\n",
      " 10  B.O.D          967 non-null    float64\n",
      " 11  Nitrate        967 non-null    float64\n",
      " 12  Fecalcaliform  967 non-null    float64\n",
      " 13  Totalcaliform  967 non-null    float64\n",
      " 14  class          967 non-null    object \n",
      "dtypes: float64(10), int64(1), object(4)\n",
      "memory usage: 120.9+ KB\n"
     ]
    }
   ],
   "source": [
    "df.info()"
   ]
  },
  {
   "cell_type": "code",
   "execution_count": 19,
   "id": "95fbc55f",
   "metadata": {},
   "outputs": [
    {
     "data": {
      "text/html": [
       "<div>\n",
       "<style scoped>\n",
       "    .dataframe tbody tr th:only-of-type {\n",
       "        vertical-align: middle;\n",
       "    }\n",
       "\n",
       "    .dataframe tbody tr th {\n",
       "        vertical-align: top;\n",
       "    }\n",
       "\n",
       "    .dataframe thead th {\n",
       "        text-align: right;\n",
       "    }\n",
       "</style>\n",
       "<table border=\"1\" class=\"dataframe\">\n",
       "  <thead>\n",
       "    <tr style=\"text-align: right;\">\n",
       "      <th></th>\n",
       "      <th>Stationcode</th>\n",
       "      <th>Lat</th>\n",
       "      <th>Lon</th>\n",
       "      <th>Temperature</th>\n",
       "      <th>D.O</th>\n",
       "      <th>pH</th>\n",
       "      <th>Conductivity</th>\n",
       "      <th>B.O.D</th>\n",
       "      <th>Nitrate</th>\n",
       "      <th>Fecalcaliform</th>\n",
       "      <th>Totalcaliform</th>\n",
       "    </tr>\n",
       "  </thead>\n",
       "  <tbody>\n",
       "    <tr>\n",
       "      <th>count</th>\n",
       "      <td>967.000000</td>\n",
       "      <td>967.000000</td>\n",
       "      <td>967.000000</td>\n",
       "      <td>967.000000</td>\n",
       "      <td>967.000000</td>\n",
       "      <td>967.000000</td>\n",
       "      <td>967.000000</td>\n",
       "      <td>967.000000</td>\n",
       "      <td>967.000000</td>\n",
       "      <td>9.670000e+02</td>\n",
       "      <td>9.670000e+02</td>\n",
       "    </tr>\n",
       "    <tr>\n",
       "      <th>mean</th>\n",
       "      <td>1899.374354</td>\n",
       "      <td>20.970569</td>\n",
       "      <td>78.364700</td>\n",
       "      <td>25.355714</td>\n",
       "      <td>6.891423</td>\n",
       "      <td>7.668664</td>\n",
       "      <td>1323.534458</td>\n",
       "      <td>3.738066</td>\n",
       "      <td>5.075913</td>\n",
       "      <td>1.773840e+05</td>\n",
       "      <td>5.361407e+05</td>\n",
       "    </tr>\n",
       "    <tr>\n",
       "      <th>std</th>\n",
       "      <td>706.222881</td>\n",
       "      <td>6.459671</td>\n",
       "      <td>6.894196</td>\n",
       "      <td>4.413136</td>\n",
       "      <td>1.674220</td>\n",
       "      <td>0.478087</td>\n",
       "      <td>3703.988886</td>\n",
       "      <td>8.546417</td>\n",
       "      <td>30.069937</td>\n",
       "      <td>3.792506e+06</td>\n",
       "      <td>1.015845e+07</td>\n",
       "    </tr>\n",
       "    <tr>\n",
       "      <th>min</th>\n",
       "      <td>4.000000</td>\n",
       "      <td>8.388518</td>\n",
       "      <td>19.633621</td>\n",
       "      <td>5.000000</td>\n",
       "      <td>0.000000</td>\n",
       "      <td>5.200000</td>\n",
       "      <td>25.250000</td>\n",
       "      <td>0.000000</td>\n",
       "      <td>0.000000</td>\n",
       "      <td>1.400000e+00</td>\n",
       "      <td>5.000000e-03</td>\n",
       "    </tr>\n",
       "    <tr>\n",
       "      <th>25%</th>\n",
       "      <td>1326.500000</td>\n",
       "      <td>17.000538</td>\n",
       "      <td>74.970558</td>\n",
       "      <td>24.000000</td>\n",
       "      <td>6.200000</td>\n",
       "      <td>7.450000</td>\n",
       "      <td>201.500000</td>\n",
       "      <td>1.021250</td>\n",
       "      <td>0.304167</td>\n",
       "      <td>1.579167e+01</td>\n",
       "      <td>5.000000e+01</td>\n",
       "    </tr>\n",
       "    <tr>\n",
       "      <th>50%</th>\n",
       "      <td>1960.000000</td>\n",
       "      <td>21.007658</td>\n",
       "      <td>76.852727</td>\n",
       "      <td>26.458333</td>\n",
       "      <td>7.091667</td>\n",
       "      <td>7.788333</td>\n",
       "      <td>388.000000</td>\n",
       "      <td>2.091667</td>\n",
       "      <td>0.800000</td>\n",
       "      <td>1.441667e+02</td>\n",
       "      <td>4.650000e+02</td>\n",
       "    </tr>\n",
       "    <tr>\n",
       "      <th>75%</th>\n",
       "      <td>2515.500000</td>\n",
       "      <td>26.234941</td>\n",
       "      <td>80.964831</td>\n",
       "      <td>27.908333</td>\n",
       "      <td>7.750000</td>\n",
       "      <td>8.000000</td>\n",
       "      <td>754.333333</td>\n",
       "      <td>3.936667</td>\n",
       "      <td>2.000000</td>\n",
       "      <td>8.245833e+02</td>\n",
       "      <td>1.746665e+03</td>\n",
       "    </tr>\n",
       "    <tr>\n",
       "      <th>max</th>\n",
       "      <td>3029.000000</td>\n",
       "      <td>47.351943</td>\n",
       "      <td>95.999123</td>\n",
       "      <td>37.500000</td>\n",
       "      <td>30.366667</td>\n",
       "      <td>9.575000</td>\n",
       "      <td>36593.000000</td>\n",
       "      <td>158.750000</td>\n",
       "      <td>640.000000</td>\n",
       "      <td>1.100000e+08</td>\n",
       "      <td>2.500000e+08</td>\n",
       "    </tr>\n",
       "  </tbody>\n",
       "</table>\n",
       "</div>"
      ],
      "text/plain": [
       "       Stationcode         Lat         Lon  Temperature         D.O  \\\n",
       "count   967.000000  967.000000  967.000000   967.000000  967.000000   \n",
       "mean   1899.374354   20.970569   78.364700    25.355714    6.891423   \n",
       "std     706.222881    6.459671    6.894196     4.413136    1.674220   \n",
       "min       4.000000    8.388518   19.633621     5.000000    0.000000   \n",
       "25%    1326.500000   17.000538   74.970558    24.000000    6.200000   \n",
       "50%    1960.000000   21.007658   76.852727    26.458333    7.091667   \n",
       "75%    2515.500000   26.234941   80.964831    27.908333    7.750000   \n",
       "max    3029.000000   47.351943   95.999123    37.500000   30.366667   \n",
       "\n",
       "               pH  Conductivity       B.O.D     Nitrate  Fecalcaliform  \\\n",
       "count  967.000000    967.000000  967.000000  967.000000   9.670000e+02   \n",
       "mean     7.668664   1323.534458    3.738066    5.075913   1.773840e+05   \n",
       "std      0.478087   3703.988886    8.546417   30.069937   3.792506e+06   \n",
       "min      5.200000     25.250000    0.000000    0.000000   1.400000e+00   \n",
       "25%      7.450000    201.500000    1.021250    0.304167   1.579167e+01   \n",
       "50%      7.788333    388.000000    2.091667    0.800000   1.441667e+02   \n",
       "75%      8.000000    754.333333    3.936667    2.000000   8.245833e+02   \n",
       "max      9.575000  36593.000000  158.750000  640.000000   1.100000e+08   \n",
       "\n",
       "       Totalcaliform  \n",
       "count   9.670000e+02  \n",
       "mean    5.361407e+05  \n",
       "std     1.015845e+07  \n",
       "min     5.000000e-03  \n",
       "25%     5.000000e+01  \n",
       "50%     4.650000e+02  \n",
       "75%     1.746665e+03  \n",
       "max     2.500000e+08  "
      ]
     },
     "execution_count": 19,
     "metadata": {},
     "output_type": "execute_result"
    }
   ],
   "source": [
    "df.describe()"
   ]
  },
  {
   "cell_type": "code",
   "execution_count": 20,
   "id": "fee3e74f",
   "metadata": {},
   "outputs": [],
   "source": [
    "df_new = df.loc[:,['Temperature','D.O','pH','Conductivity','B.O.D','Nitrate','Fecalcaliform','Totalcaliform','class']]"
   ]
  },
  {
   "cell_type": "code",
   "execution_count": 21,
   "id": "7b881025",
   "metadata": {},
   "outputs": [],
   "source": [
    "df_new['class'] = df_new['class'] == 'yes'"
   ]
  },
  {
   "cell_type": "code",
   "execution_count": 22,
   "id": "3f942a14",
   "metadata": {},
   "outputs": [
    {
     "data": {
      "text/html": [
       "<div>\n",
       "<style scoped>\n",
       "    .dataframe tbody tr th:only-of-type {\n",
       "        vertical-align: middle;\n",
       "    }\n",
       "\n",
       "    .dataframe tbody tr th {\n",
       "        vertical-align: top;\n",
       "    }\n",
       "\n",
       "    .dataframe thead th {\n",
       "        text-align: right;\n",
       "    }\n",
       "</style>\n",
       "<table border=\"1\" class=\"dataframe\">\n",
       "  <thead>\n",
       "    <tr style=\"text-align: right;\">\n",
       "      <th></th>\n",
       "      <th>Temperature</th>\n",
       "      <th>D.O</th>\n",
       "      <th>pH</th>\n",
       "      <th>Conductivity</th>\n",
       "      <th>B.O.D</th>\n",
       "      <th>Nitrate</th>\n",
       "      <th>Fecalcaliform</th>\n",
       "      <th>Totalcaliform</th>\n",
       "      <th>class</th>\n",
       "    </tr>\n",
       "  </thead>\n",
       "  <tbody>\n",
       "    <tr>\n",
       "      <th>0</th>\n",
       "      <td>9.0</td>\n",
       "      <td>9.0</td>\n",
       "      <td>8.0</td>\n",
       "      <td>85.0</td>\n",
       "      <td>0.1</td>\n",
       "      <td>0.2</td>\n",
       "      <td>106.0</td>\n",
       "      <td>397.0</td>\n",
       "      <td>True</td>\n",
       "    </tr>\n",
       "    <tr>\n",
       "      <th>1</th>\n",
       "      <td>10.0</td>\n",
       "      <td>9.0</td>\n",
       "      <td>8.0</td>\n",
       "      <td>102.0</td>\n",
       "      <td>0.3</td>\n",
       "      <td>0.4</td>\n",
       "      <td>153.0</td>\n",
       "      <td>954.0</td>\n",
       "      <td>True</td>\n",
       "    </tr>\n",
       "    <tr>\n",
       "      <th>2</th>\n",
       "      <td>11.0</td>\n",
       "      <td>9.0</td>\n",
       "      <td>8.0</td>\n",
       "      <td>96.0</td>\n",
       "      <td>0.2</td>\n",
       "      <td>0.3</td>\n",
       "      <td>58.0</td>\n",
       "      <td>653.0</td>\n",
       "      <td>True</td>\n",
       "    </tr>\n",
       "    <tr>\n",
       "      <th>3</th>\n",
       "      <td>13.0</td>\n",
       "      <td>9.0</td>\n",
       "      <td>8.0</td>\n",
       "      <td>94.0</td>\n",
       "      <td>0.2</td>\n",
       "      <td>0.4</td>\n",
       "      <td>34.0</td>\n",
       "      <td>317.0</td>\n",
       "      <td>True</td>\n",
       "    </tr>\n",
       "    <tr>\n",
       "      <th>4</th>\n",
       "      <td>14.0</td>\n",
       "      <td>10.0</td>\n",
       "      <td>8.0</td>\n",
       "      <td>112.0</td>\n",
       "      <td>0.2</td>\n",
       "      <td>0.5</td>\n",
       "      <td>213.0</td>\n",
       "      <td>1072.0</td>\n",
       "      <td>True</td>\n",
       "    </tr>\n",
       "  </tbody>\n",
       "</table>\n",
       "</div>"
      ],
      "text/plain": [
       "   Temperature   D.O   pH  Conductivity  B.O.D  Nitrate  Fecalcaliform  \\\n",
       "0          9.0   9.0  8.0          85.0    0.1      0.2          106.0   \n",
       "1         10.0   9.0  8.0         102.0    0.3      0.4          153.0   \n",
       "2         11.0   9.0  8.0          96.0    0.2      0.3           58.0   \n",
       "3         13.0   9.0  8.0          94.0    0.2      0.4           34.0   \n",
       "4         14.0  10.0  8.0         112.0    0.2      0.5          213.0   \n",
       "\n",
       "   Totalcaliform  class  \n",
       "0          397.0   True  \n",
       "1          954.0   True  \n",
       "2          653.0   True  \n",
       "3          317.0   True  \n",
       "4         1072.0   True  "
      ]
     },
     "execution_count": 22,
     "metadata": {},
     "output_type": "execute_result"
    }
   ],
   "source": [
    "df_new.head()"
   ]
  },
  {
   "cell_type": "code",
   "execution_count": 23,
   "id": "65a2137a",
   "metadata": {},
   "outputs": [
    {
     "name": "stdout",
     "output_type": "stream",
     "text": [
      "<class 'pandas.core.frame.DataFrame'>\n",
      "Int64Index: 967 entries, 0 to 1360\n",
      "Data columns (total 9 columns):\n",
      " #   Column         Non-Null Count  Dtype  \n",
      "---  ------         --------------  -----  \n",
      " 0   Temperature    967 non-null    float64\n",
      " 1   D.O            967 non-null    float64\n",
      " 2   pH             967 non-null    float64\n",
      " 3   Conductivity   967 non-null    float64\n",
      " 4   B.O.D          967 non-null    float64\n",
      " 5   Nitrate        967 non-null    float64\n",
      " 6   Fecalcaliform  967 non-null    float64\n",
      " 7   Totalcaliform  967 non-null    float64\n",
      " 8   class          967 non-null    bool   \n",
      "dtypes: bool(1), float64(8)\n",
      "memory usage: 68.9 KB\n"
     ]
    }
   ],
   "source": [
    "df_new.info()"
   ]
  },
  {
   "cell_type": "code",
   "execution_count": 24,
   "id": "53a1e2a5",
   "metadata": {},
   "outputs": [
    {
     "data": {
      "text/html": [
       "<div>\n",
       "<style scoped>\n",
       "    .dataframe tbody tr th:only-of-type {\n",
       "        vertical-align: middle;\n",
       "    }\n",
       "\n",
       "    .dataframe tbody tr th {\n",
       "        vertical-align: top;\n",
       "    }\n",
       "\n",
       "    .dataframe thead th {\n",
       "        text-align: right;\n",
       "    }\n",
       "</style>\n",
       "<table border=\"1\" class=\"dataframe\">\n",
       "  <thead>\n",
       "    <tr style=\"text-align: right;\">\n",
       "      <th></th>\n",
       "      <th>Temperature</th>\n",
       "      <th>D.O</th>\n",
       "      <th>pH</th>\n",
       "      <th>Conductivity</th>\n",
       "      <th>B.O.D</th>\n",
       "      <th>Nitrate</th>\n",
       "      <th>Fecalcaliform</th>\n",
       "      <th>Totalcaliform</th>\n",
       "      <th>class</th>\n",
       "    </tr>\n",
       "  </thead>\n",
       "  <tbody>\n",
       "    <tr>\n",
       "      <th>Temperature</th>\n",
       "      <td>1.000000</td>\n",
       "      <td>-0.137697</td>\n",
       "      <td>-0.062000</td>\n",
       "      <td>0.132268</td>\n",
       "      <td>0.059620</td>\n",
       "      <td>0.026301</td>\n",
       "      <td>-0.013133</td>\n",
       "      <td>-0.013379</td>\n",
       "      <td>-0.162458</td>\n",
       "    </tr>\n",
       "    <tr>\n",
       "      <th>D.O</th>\n",
       "      <td>-0.137697</td>\n",
       "      <td>1.000000</td>\n",
       "      <td>0.194636</td>\n",
       "      <td>-0.092865</td>\n",
       "      <td>-0.280783</td>\n",
       "      <td>0.011558</td>\n",
       "      <td>-0.165299</td>\n",
       "      <td>-0.182276</td>\n",
       "      <td>-0.147469</td>\n",
       "    </tr>\n",
       "    <tr>\n",
       "      <th>pH</th>\n",
       "      <td>-0.062000</td>\n",
       "      <td>0.194636</td>\n",
       "      <td>1.000000</td>\n",
       "      <td>-0.008232</td>\n",
       "      <td>-0.004717</td>\n",
       "      <td>-0.147210</td>\n",
       "      <td>0.008265</td>\n",
       "      <td>0.009426</td>\n",
       "      <td>-0.298328</td>\n",
       "    </tr>\n",
       "    <tr>\n",
       "      <th>Conductivity</th>\n",
       "      <td>0.132268</td>\n",
       "      <td>-0.092865</td>\n",
       "      <td>-0.008232</td>\n",
       "      <td>1.000000</td>\n",
       "      <td>0.164644</td>\n",
       "      <td>-0.008017</td>\n",
       "      <td>-0.003694</td>\n",
       "      <td>-0.003406</td>\n",
       "      <td>0.069188</td>\n",
       "    </tr>\n",
       "    <tr>\n",
       "      <th>B.O.D</th>\n",
       "      <td>0.059620</td>\n",
       "      <td>-0.280783</td>\n",
       "      <td>-0.004717</td>\n",
       "      <td>0.164644</td>\n",
       "      <td>1.000000</td>\n",
       "      <td>0.004074</td>\n",
       "      <td>0.053959</td>\n",
       "      <td>0.063619</td>\n",
       "      <td>0.047831</td>\n",
       "    </tr>\n",
       "    <tr>\n",
       "      <th>Nitrate</th>\n",
       "      <td>0.026301</td>\n",
       "      <td>0.011558</td>\n",
       "      <td>-0.147210</td>\n",
       "      <td>-0.008017</td>\n",
       "      <td>0.004074</td>\n",
       "      <td>1.000000</td>\n",
       "      <td>-0.005780</td>\n",
       "      <td>-0.006528</td>\n",
       "      <td>0.005181</td>\n",
       "    </tr>\n",
       "    <tr>\n",
       "      <th>Fecalcaliform</th>\n",
       "      <td>-0.013133</td>\n",
       "      <td>-0.165299</td>\n",
       "      <td>0.008265</td>\n",
       "      <td>-0.003694</td>\n",
       "      <td>0.053959</td>\n",
       "      <td>-0.005780</td>\n",
       "      <td>1.000000</td>\n",
       "      <td>0.848463</td>\n",
       "      <td>0.024510</td>\n",
       "    </tr>\n",
       "    <tr>\n",
       "      <th>Totalcaliform</th>\n",
       "      <td>-0.013379</td>\n",
       "      <td>-0.182276</td>\n",
       "      <td>0.009426</td>\n",
       "      <td>-0.003406</td>\n",
       "      <td>0.063619</td>\n",
       "      <td>-0.006528</td>\n",
       "      <td>0.848463</td>\n",
       "      <td>1.000000</td>\n",
       "      <td>0.027741</td>\n",
       "    </tr>\n",
       "    <tr>\n",
       "      <th>class</th>\n",
       "      <td>-0.162458</td>\n",
       "      <td>-0.147469</td>\n",
       "      <td>-0.298328</td>\n",
       "      <td>0.069188</td>\n",
       "      <td>0.047831</td>\n",
       "      <td>0.005181</td>\n",
       "      <td>0.024510</td>\n",
       "      <td>0.027741</td>\n",
       "      <td>1.000000</td>\n",
       "    </tr>\n",
       "  </tbody>\n",
       "</table>\n",
       "</div>"
      ],
      "text/plain": [
       "               Temperature       D.O        pH  Conductivity     B.O.D  \\\n",
       "Temperature       1.000000 -0.137697 -0.062000      0.132268  0.059620   \n",
       "D.O              -0.137697  1.000000  0.194636     -0.092865 -0.280783   \n",
       "pH               -0.062000  0.194636  1.000000     -0.008232 -0.004717   \n",
       "Conductivity      0.132268 -0.092865 -0.008232      1.000000  0.164644   \n",
       "B.O.D             0.059620 -0.280783 -0.004717      0.164644  1.000000   \n",
       "Nitrate           0.026301  0.011558 -0.147210     -0.008017  0.004074   \n",
       "Fecalcaliform    -0.013133 -0.165299  0.008265     -0.003694  0.053959   \n",
       "Totalcaliform    -0.013379 -0.182276  0.009426     -0.003406  0.063619   \n",
       "class            -0.162458 -0.147469 -0.298328      0.069188  0.047831   \n",
       "\n",
       "                Nitrate  Fecalcaliform  Totalcaliform     class  \n",
       "Temperature    0.026301      -0.013133      -0.013379 -0.162458  \n",
       "D.O            0.011558      -0.165299      -0.182276 -0.147469  \n",
       "pH            -0.147210       0.008265       0.009426 -0.298328  \n",
       "Conductivity  -0.008017      -0.003694      -0.003406  0.069188  \n",
       "B.O.D          0.004074       0.053959       0.063619  0.047831  \n",
       "Nitrate        1.000000      -0.005780      -0.006528  0.005181  \n",
       "Fecalcaliform -0.005780       1.000000       0.848463  0.024510  \n",
       "Totalcaliform -0.006528       0.848463       1.000000  0.027741  \n",
       "class          0.005181       0.024510       0.027741  1.000000  "
      ]
     },
     "execution_count": 24,
     "metadata": {},
     "output_type": "execute_result"
    }
   ],
   "source": [
    "df_new.corr()"
   ]
  },
  {
   "cell_type": "code",
   "execution_count": 25,
   "id": "29c5501f",
   "metadata": {
    "scrolled": false
   },
   "outputs": [
    {
     "data": {
      "image/png": "[encoded data removed]",
      "text/plain": [
       "<Figure size 640x480 with 2 Axes>"
      ]
     },
     "metadata": {},
     "output_type": "display_data"
    }
   ],
   "source": [
    "sns.heatmap(df_new.corr());"
   ]
  },
  {
   "cell_type": "code",
   "execution_count": 26,
   "id": "9cf83d22",
   "metadata": {},
   "outputs": [],
   "source": [
    "X = df.loc[:,['Temperature','D.O','pH','Conductivity','B.O.D','Nitrate','Totalcaliform']]"
   ]
  },
  {
   "cell_type": "code",
   "execution_count": 27,
   "id": "0a87adde",
   "metadata": {},
   "outputs": [
    {
     "data": {
      "text/html": [
       "<div>\n",
       "<style scoped>\n",
       "    .dataframe tbody tr th:only-of-type {\n",
       "        vertical-align: middle;\n",
       "    }\n",
       "\n",
       "    .dataframe tbody tr th {\n",
       "        vertical-align: top;\n",
       "    }\n",
       "\n",
       "    .dataframe thead th {\n",
       "        text-align: right;\n",
       "    }\n",
       "</style>\n",
       "<table border=\"1\" class=\"dataframe\">\n",
       "  <thead>\n",
       "    <tr style=\"text-align: right;\">\n",
       "      <th></th>\n",
       "      <th>Temperature</th>\n",
       "      <th>D.O</th>\n",
       "      <th>pH</th>\n",
       "      <th>Conductivity</th>\n",
       "      <th>B.O.D</th>\n",
       "      <th>Nitrate</th>\n",
       "      <th>Totalcaliform</th>\n",
       "    </tr>\n",
       "  </thead>\n",
       "  <tbody>\n",
       "    <tr>\n",
       "      <th>0</th>\n",
       "      <td>9.0</td>\n",
       "      <td>9.0</td>\n",
       "      <td>8.0</td>\n",
       "      <td>85.0</td>\n",
       "      <td>0.1</td>\n",
       "      <td>0.2</td>\n",
       "      <td>397.0</td>\n",
       "    </tr>\n",
       "    <tr>\n",
       "      <th>1</th>\n",
       "      <td>10.0</td>\n",
       "      <td>9.0</td>\n",
       "      <td>8.0</td>\n",
       "      <td>102.0</td>\n",
       "      <td>0.3</td>\n",
       "      <td>0.4</td>\n",
       "      <td>954.0</td>\n",
       "    </tr>\n",
       "    <tr>\n",
       "      <th>2</th>\n",
       "      <td>11.0</td>\n",
       "      <td>9.0</td>\n",
       "      <td>8.0</td>\n",
       "      <td>96.0</td>\n",
       "      <td>0.2</td>\n",
       "      <td>0.3</td>\n",
       "      <td>653.0</td>\n",
       "    </tr>\n",
       "    <tr>\n",
       "      <th>3</th>\n",
       "      <td>13.0</td>\n",
       "      <td>9.0</td>\n",
       "      <td>8.0</td>\n",
       "      <td>94.0</td>\n",
       "      <td>0.2</td>\n",
       "      <td>0.4</td>\n",
       "      <td>317.0</td>\n",
       "    </tr>\n",
       "    <tr>\n",
       "      <th>4</th>\n",
       "      <td>14.0</td>\n",
       "      <td>10.0</td>\n",
       "      <td>8.0</td>\n",
       "      <td>112.0</td>\n",
       "      <td>0.2</td>\n",
       "      <td>0.5</td>\n",
       "      <td>1072.0</td>\n",
       "    </tr>\n",
       "  </tbody>\n",
       "</table>\n",
       "</div>"
      ],
      "text/plain": [
       "   Temperature   D.O   pH  Conductivity  B.O.D  Nitrate  Totalcaliform\n",
       "0          9.0   9.0  8.0          85.0    0.1      0.2          397.0\n",
       "1         10.0   9.0  8.0         102.0    0.3      0.4          954.0\n",
       "2         11.0   9.0  8.0          96.0    0.2      0.3          653.0\n",
       "3         13.0   9.0  8.0          94.0    0.2      0.4          317.0\n",
       "4         14.0  10.0  8.0         112.0    0.2      0.5         1072.0"
      ]
     },
     "execution_count": 27,
     "metadata": {},
     "output_type": "execute_result"
    }
   ],
   "source": [
    "X.head()"
   ]
  },
  {
   "cell_type": "code",
   "execution_count": 28,
   "id": "b7181c45",
   "metadata": {},
   "outputs": [
    {
     "data": {
      "image/png": "[encoded data removed]",
      "text/plain": [
       "<Figure size 640x480 with 2 Axes>"
      ]
     },
     "metadata": {},
     "output_type": "display_data"
    }
   ],
   "source": [
    "sns.heatmap(X.corr());"
   ]
  },
  {
   "cell_type": "code",
   "execution_count": 29,
   "id": "dc8a8422",
   "metadata": {},
   "outputs": [
    {
     "data": {
      "text/plain": [
       "[str]"
      ]
     },
     "execution_count": 29,
     "metadata": {},
     "output_type": "execute_result"
    }
   ],
   "source": [
    "[x for x in df['class'].apply(type).unique()]"
   ]
  },
  {
   "cell_type": "code",
   "execution_count": 30,
   "id": "8e095ac9",
   "metadata": {},
   "outputs": [
    {
     "data": {
      "text/plain": [
       "array([ True, False])"
      ]
     },
     "execution_count": 30,
     "metadata": {},
     "output_type": "execute_result"
    }
   ],
   "source": [
    "df_new['class'].unique()"
   ]
  },
  {
   "cell_type": "code",
   "execution_count": 31,
   "id": "89a99a3c",
   "metadata": {},
   "outputs": [],
   "source": [
    "y = df_new['class']"
   ]
  },
  {
   "cell_type": "code",
   "execution_count": 32,
   "id": "2bb192e1",
   "metadata": {},
   "outputs": [
    {
     "data": {
      "text/plain": [
       "True     751\n",
       "False    216\n",
       "Name: class, dtype: int64"
      ]
     },
     "execution_count": 32,
     "metadata": {},
     "output_type": "execute_result"
    }
   ],
   "source": [
    "y.value_counts()"
   ]
  },
  {
   "cell_type": "code",
   "execution_count": 33,
   "id": "70675f31",
   "metadata": {},
   "outputs": [],
   "source": [
    "from sklearn.model_selection import train_test_split"
   ]
  },
  {
   "cell_type": "code",
   "execution_count": 34,
   "id": "325afffe",
   "metadata": {},
   "outputs": [],
   "source": [
    "X_train, X_val, y_train, y_val = train_test_split(X, y, train_size = 0.8, random_state = 123)"
   ]
  },
  {
   "cell_type": "code",
   "execution_count": 35,
   "id": "a7ae1052",
   "metadata": {},
   "outputs": [
    {
     "data": {
      "text/plain": [
       "(773, 7)"
      ]
     },
     "execution_count": 35,
     "metadata": {},
     "output_type": "execute_result"
    }
   ],
   "source": [
    "X_train.shape"
   ]
  },
  {
   "cell_type": "code",
   "execution_count": 36,
   "id": "f46d04bd",
   "metadata": {},
   "outputs": [
    {
     "data": {
      "text/plain": [
       "(773,)"
      ]
     },
     "execution_count": 36,
     "metadata": {},
     "output_type": "execute_result"
    }
   ],
   "source": [
    "y_train.shape"
   ]
  },
  {
   "cell_type": "code",
   "execution_count": 37,
   "id": "d78eecfe",
   "metadata": {},
   "outputs": [],
   "source": [
    "from sklearn.tree import DecisionTreeClassifier\n",
    "from sklearn.metrics import accuracy_score, f1_score"
   ]
  },
  {
   "cell_type": "code",
   "execution_count": 38,
   "id": "0f13ad64",
   "metadata": {},
   "outputs": [],
   "source": [
    "min_samples_split_list = [2,10, 30, 50, 100, 200, 300, 700]"
   ]
  },
  {
   "cell_type": "code",
   "execution_count": 102,
   "id": "3fc1c7c4",
   "metadata": {},
   "outputs": [
    {
     "data": {
      "image/png": "[encoded data removed]",
      "text/plain": [
       "<Figure size 640x480 with 1 Axes>"
      ]
     },
     "metadata": {},
     "output_type": "display_data"
    }
   ],
   "source": [
    "accuracy_list_train = []\n",
    "f1_list_train = []\n",
    "accuracy_list_val = []\n",
    "f1_list_val = []\n",
    "for min_samples_split in min_samples_split_list:\n",
    "    # You can fit the model at the same time you define it, because the fit function returns the fitted estimator.\n",
    "    model = DecisionTreeClassifier(min_samples_split = min_samples_split,\n",
    "                                   random_state = 123).fit(X_train,y_train) \n",
    "    predictions_train = model.predict(X_train) ## The predicted values for the train dataset\n",
    "    predictions_val = model.predict(X_val) ## The predicted values for the test dataset\n",
    "    accuracy_train = accuracy_score(predictions_train,y_train)\n",
    "    f1_train = f1_score(predictions_train,y_train)\n",
    "    accuracy_val = accuracy_score(predictions_val,y_val)\n",
    "    f1_val = f1_score(predictions_val,y_val)\n",
    "    accuracy_list_train.append(accuracy_train)\n",
    "    f1_list_train.append(f1_train)\n",
    "    accuracy_list_val.append(accuracy_val)\n",
    "    f1_list_val.append(f1_val)\n",
    "\n",
    "plt.title('Train x Validation metrics')\n",
    "plt.xlabel('min_samples_split')\n",
    "plt.ylabel('accuracy')\n",
    "plt.xticks(ticks = range(len(min_samples_split_list )),labels=min_samples_split_list)\n",
    "plt.plot(accuracy_list_train)\n",
    "plt.plot(accuracy_list_val)\n",
    "plt.legend(['Train','Validation']);"
   ]
  },
  {
   "cell_type": "code",
   "execution_count": 40,
   "id": "2d94a9d7",
   "metadata": {},
   "outputs": [
    {
     "data": {
      "text/plain": [
       "[1.0, 1.0, 1.0, 1.0, 1.0, 1.0, 1.0, 0.9689521345407504]"
      ]
     },
     "execution_count": 40,
     "metadata": {},
     "output_type": "execute_result"
    }
   ],
   "source": [
    "accuracy_list_train"
   ]
  },
  {
   "cell_type": "code",
   "execution_count": 41,
   "id": "246936e2",
   "metadata": {},
   "outputs": [
    {
     "data": {
      "text/plain": [
       "[1.0, 1.0, 1.0, 1.0, 1.0, 1.0, 1.0, 0.9948453608247423]"
      ]
     },
     "execution_count": 41,
     "metadata": {},
     "output_type": "execute_result"
    }
   ],
   "source": [
    "accuracy_list_val"
   ]
  },
  {
   "cell_type": "code",
   "execution_count": 42,
   "id": "c8f3c807",
   "metadata": {},
   "outputs": [
    {
     "data": {
      "text/plain": [
       "[1.0, 1.0, 1.0, 1.0, 1.0, 1.0, 1.0, 0.9803600654664485]"
      ]
     },
     "execution_count": 42,
     "metadata": {},
     "output_type": "execute_result"
    }
   ],
   "source": [
    "f1_list_train"
   ]
  },
  {
   "cell_type": "code",
   "execution_count": 43,
   "id": "5e1012c4",
   "metadata": {},
   "outputs": [
    {
     "data": {
      "text/plain": [
       "[1.0, 1.0, 1.0, 1.0, 1.0, 1.0, 1.0, 0.9967213114754099]"
      ]
     },
     "execution_count": 43,
     "metadata": {},
     "output_type": "execute_result"
    }
   ],
   "source": [
    "f1_list_val"
   ]
  },
  {
   "cell_type": "code",
   "execution_count": 44,
   "id": "f2f5893b",
   "metadata": {},
   "outputs": [
    {
     "data": {
      "text/plain": [
       "True     152\n",
       "False     42\n",
       "Name: class, dtype: int64"
      ]
     },
     "execution_count": 44,
     "metadata": {},
     "output_type": "execute_result"
    }
   ],
   "source": [
    "y_val.value_counts()"
   ]
  },
  {
   "cell_type": "code",
   "execution_count": 45,
   "id": "49dd4952",
   "metadata": {},
   "outputs": [],
   "source": [
    "max_depth_list = [1,2, 3, 4, 8, 16, 32, 64, None]"
   ]
  },
  {
   "cell_type": "code",
   "execution_count": 103,
   "id": "f48b0d8a",
   "metadata": {},
   "outputs": [
    {
     "data": {
      "image/png": "[encoded data removed]",
      "text/plain": [
       "<Figure size 640x480 with 1 Axes>"
      ]
     },
     "metadata": {},
     "output_type": "display_data"
    }
   ],
   "source": [
    "accuracy_list_train = []\n",
    "f1_list_train = []\n",
    "accuracy_list_val = []\n",
    "f1_list_val = []\n",
    "for max_depth in max_depth_list:\n",
    "    # You can fit the model at the same time you define it, because the fit function returns the fitted estimator.\n",
    "    model = DecisionTreeClassifier(max_depth = max_depth,\n",
    "                                   random_state = 123).fit(X_train,y_train) \n",
    "    predictions_train = model.predict(X_train) ## The predicted values for the train dataset\n",
    "    predictions_val = model.predict(X_val) ## The predicted values for the test dataset\n",
    "    accuracy_train = accuracy_score(predictions_train,y_train)\n",
    "    f1_train = f1_score(predictions_train,y_train)\n",
    "    accuracy_val = accuracy_score(predictions_val,y_val)\n",
    "    f1_val = f1_score(predictions_val,y_val)\n",
    "    accuracy_list_train.append(accuracy_train)\n",
    "    f1_list_train.append(f1_train)\n",
    "    accuracy_list_val.append(accuracy_val)\n",
    "    f1_list_val.append(f1_val)\n",
    "\n",
    "plt.title('Train x Validation metrics')\n",
    "plt.xlabel('max_depth')\n",
    "plt.ylabel('accuracy')\n",
    "plt.xticks(ticks = range(len(max_depth_list )),labels=max_depth_list)\n",
    "plt.plot(accuracy_list_train)\n",
    "plt.plot(accuracy_list_val)\n",
    "plt.legend(['Train','Validation']);"
   ]
  },
  {
   "cell_type": "code",
   "execution_count": 47,
   "id": "75a7937a",
   "metadata": {},
   "outputs": [
    {
     "data": {
      "text/plain": [
       "[0.9689521345407504, 1.0, 1.0, 1.0, 1.0, 1.0, 1.0, 1.0, 1.0]"
      ]
     },
     "execution_count": 47,
     "metadata": {},
     "output_type": "execute_result"
    }
   ],
   "source": [
    "accuracy_list_train"
   ]
  },
  {
   "cell_type": "code",
   "execution_count": 48,
   "id": "6e9febd2",
   "metadata": {},
   "outputs": [
    {
     "data": {
      "text/plain": [
       "[0.9803600654664485, 1.0, 1.0, 1.0, 1.0, 1.0, 1.0, 1.0, 1.0]"
      ]
     },
     "execution_count": 48,
     "metadata": {},
     "output_type": "execute_result"
    }
   ],
   "source": [
    "f1_list_train"
   ]
  },
  {
   "cell_type": "code",
   "execution_count": 49,
   "id": "8f19d3dd",
   "metadata": {},
   "outputs": [
    {
     "data": {
      "text/plain": [
       "[0.9948453608247423, 1.0, 1.0, 1.0, 1.0, 1.0, 1.0, 1.0, 1.0]"
      ]
     },
     "execution_count": 49,
     "metadata": {},
     "output_type": "execute_result"
    }
   ],
   "source": [
    "accuracy_list_val"
   ]
  },
  {
   "cell_type": "code",
   "execution_count": 50,
   "id": "b95b0b8f",
   "metadata": {},
   "outputs": [
    {
     "data": {
      "text/plain": [
       "[0.9967213114754099, 1.0, 1.0, 1.0, 1.0, 1.0, 1.0, 1.0, 1.0]"
      ]
     },
     "execution_count": 50,
     "metadata": {},
     "output_type": "execute_result"
    }
   ],
   "source": [
    "f1_list_val"
   ]
  },
  {
   "cell_type": "markdown",
   "id": "299f5e98",
   "metadata": {},
   "source": [
    "    Chosen max_depth = 4\n",
    "    Chosen min_samples_split = 50"
   ]
  },
  {
   "cell_type": "code",
   "execution_count": 51,
   "id": "9445e312",
   "metadata": {},
   "outputs": [],
   "source": [
    "decision_tree_model = DecisionTreeClassifier(min_samples_split = 50,\n",
    "                                             max_depth = 4,\n",
    "                                             random_state = 123).fit(X_train,y_train)"
   ]
  },
  {
   "cell_type": "code",
   "execution_count": 52,
   "id": "8dab2d12",
   "metadata": {},
   "outputs": [
    {
     "name": "stdout",
     "output_type": "stream",
     "text": [
      "Accuracy for train:\n",
      "\tAccuracy score: 1.0000\n",
      "f1 for train:\n",
      "\tf1 score: 1.0000\n",
      "Accuracy for validation:\n",
      "\tAccuracy score: 1.0000\n",
      "f1 for validation:\n",
      "\tf1 score: 1.0000\n"
     ]
    }
   ],
   "source": [
    "print(f\"Accuracy for train:\\n\\tAccuracy score: {accuracy_score(decision_tree_model.predict(X_train),y_train):.4f}\")\n",
    "print(f\"f1 for train:\\n\\tf1 score: {f1_score(decision_tree_model.predict(X_train),y_train):.4f}\")\n",
    "print(f\"Accuracy for validation:\\n\\tAccuracy score: {accuracy_score(decision_tree_model.predict(X_val),y_val):.4f}\")\n",
    "print(f\"f1 for validation:\\n\\tf1 score: {f1_score(decision_tree_model.predict(X_val),y_val):.4f}\")"
   ]
  },
  {
   "cell_type": "code",
   "execution_count": 53,
   "id": "debffa17",
   "metadata": {},
   "outputs": [],
   "source": [
    "check = decision_tree_model.predict(X) == df_new['class']"
   ]
  },
  {
   "cell_type": "code",
   "execution_count": 54,
   "id": "05a44976",
   "metadata": {},
   "outputs": [
    {
     "data": {
      "text/plain": [
       "True    967\n",
       "Name: class, dtype: int64"
      ]
     },
     "execution_count": 54,
     "metadata": {},
     "output_type": "execute_result"
    }
   ],
   "source": [
    "check.value_counts()"
   ]
  },
  {
   "cell_type": "code",
   "execution_count": 55,
   "id": "2619c2e9",
   "metadata": {},
   "outputs": [
    {
     "data": {
      "text/plain": [
       "array([0., 0., 1., 0., 0., 0., 0.])"
      ]
     },
     "execution_count": 55,
     "metadata": {},
     "output_type": "execute_result"
    }
   ],
   "source": [
    "decision_tree_model.feature_importances_"
   ]
  },
  {
   "cell_type": "code",
   "execution_count": 56,
   "id": "0ec9e957",
   "metadata": {},
   "outputs": [
    {
     "data": {
      "text/plain": [
       "array(['Temperature', 'D.O', 'pH', 'Conductivity', 'B.O.D', 'Nitrate',\n",
       "       'Totalcaliform'], dtype=object)"
      ]
     },
     "execution_count": 56,
     "metadata": {},
     "output_type": "execute_result"
    }
   ],
   "source": [
    "decision_tree_model.feature_names_in_"
   ]
  },
  {
   "cell_type": "code",
   "execution_count": 57,
   "id": "b52f1263",
   "metadata": {},
   "outputs": [
    {
     "data": {
      "text/plain": [
       "2"
      ]
     },
     "execution_count": 57,
     "metadata": {},
     "output_type": "execute_result"
    }
   ],
   "source": [
    "decision_tree_model.get_depth()"
   ]
  },
  {
   "cell_type": "code",
   "execution_count": 58,
   "id": "4ad33f20",
   "metadata": {},
   "outputs": [
    {
     "data": {
      "text/plain": [
       "3"
      ]
     },
     "execution_count": 58,
     "metadata": {},
     "output_type": "execute_result"
    }
   ],
   "source": [
    "decision_tree_model.get_n_leaves()"
   ]
  },
  {
   "cell_type": "code",
   "execution_count": 59,
   "id": "3ad2443b",
   "metadata": {},
   "outputs": [
    {
     "data": {
      "text/plain": [
       "{'ccp_alpha': 0.0,\n",
       " 'class_weight': None,\n",
       " 'criterion': 'gini',\n",
       " 'max_depth': 4,\n",
       " 'max_features': None,\n",
       " 'max_leaf_nodes': None,\n",
       " 'min_impurity_decrease': 0.0,\n",
       " 'min_samples_leaf': 1,\n",
       " 'min_samples_split': 50,\n",
       " 'min_weight_fraction_leaf': 0.0,\n",
       " 'random_state': 123,\n",
       " 'splitter': 'best'}"
      ]
     },
     "execution_count": 59,
     "metadata": {},
     "output_type": "execute_result"
    }
   ],
   "source": [
    "decision_tree_model.get_params()"
   ]
  },
  {
   "cell_type": "code",
   "execution_count": null,
   "id": "d9eaa9a0",
   "metadata": {},
   "outputs": [],
   "source": []
  },
  {
   "cell_type": "code",
   "execution_count": null,
   "id": "2606e57c",
   "metadata": {},
   "outputs": [],
   "source": []
  },
  {
   "cell_type": "code",
   "execution_count": null,
   "id": "85c19465",
   "metadata": {},
   "outputs": [],
   "source": []
  },
  {
   "cell_type": "code",
   "execution_count": 60,
   "id": "cd1be1fe",
   "metadata": {},
   "outputs": [],
   "source": [
    "from sklearn.ensemble import RandomForestClassifier"
   ]
  },
  {
   "cell_type": "code",
   "execution_count": 61,
   "id": "794e8835",
   "metadata": {},
   "outputs": [],
   "source": [
    "min_samples_split_list = [2,10, 30, 50, 100, 200, 300, 700]"
   ]
  },
  {
   "cell_type": "code",
   "execution_count": 104,
   "id": "c00b36cc",
   "metadata": {},
   "outputs": [
    {
     "data": {
      "image/png": "[encoded data removed]",
      "text/plain": [
       "<Figure size 640x480 with 1 Axes>"
      ]
     },
     "metadata": {},
     "output_type": "display_data"
    }
   ],
   "source": [
    "accuracy_list_train = []\n",
    "f1_list_train = []\n",
    "accuracy_list_val = []\n",
    "f1_list_val = []\n",
    "for min_samples_split in min_samples_split_list:\n",
    "    # You can fit the model at the same time you define it, because the fit function returns the fitted estimator.\n",
    "    model = RandomForestClassifier(min_samples_split = min_samples_split,\n",
    "                                   random_state = 123).fit(X_train,y_train) \n",
    "    predictions_train = model.predict(X_train) ## The predicted values for the train dataset\n",
    "    predictions_val = model.predict(X_val) ## The predicted values for the test dataset\n",
    "    accuracy_train = accuracy_score(predictions_train,y_train)\n",
    "    f1_train = f1_score(predictions_train,y_train)\n",
    "    accuracy_val = accuracy_score(predictions_val,y_val)\n",
    "    f1_val = f1_score(predictions_val,y_val)\n",
    "    accuracy_list_train.append(accuracy_train)\n",
    "    f1_list_train.append(f1_train)\n",
    "    accuracy_list_val.append(accuracy_val)\n",
    "    f1_list_val.append(f1_val)\n",
    "\n",
    "plt.title('Train x Validation metrics')\n",
    "plt.xlabel('min_samples_split')\n",
    "plt.ylabel('accuracy')\n",
    "plt.xticks(ticks = range(len(min_samples_split_list )),labels=min_samples_split_list) \n",
    "plt.plot(accuracy_list_train)\n",
    "plt.plot(accuracy_list_val)\n",
    "plt.legend(['Train','Validation']);"
   ]
  },
  {
   "cell_type": "code",
   "execution_count": 63,
   "id": "b061a469",
   "metadata": {},
   "outputs": [
    {
     "data": {
      "text/plain": [
       "[1.0,\n",
       " 1.0,\n",
       " 1.0,\n",
       " 1.0,\n",
       " 0.9961190168175937,\n",
       " 0.9715394566623544,\n",
       " 0.9676584734799483,\n",
       " 0.7749029754204398]"
      ]
     },
     "execution_count": 63,
     "metadata": {},
     "output_type": "execute_result"
    }
   ],
   "source": [
    "accuracy_list_train"
   ]
  },
  {
   "cell_type": "code",
   "execution_count": 64,
   "id": "6d9b2f00",
   "metadata": {},
   "outputs": [
    {
     "data": {
      "text/plain": [
       "[1.0,\n",
       " 1.0,\n",
       " 1.0,\n",
       " 1.0,\n",
       " 0.9975020815986678,\n",
       " 0.9819672131147541,\n",
       " 0.9795584627964024,\n",
       " 0.8731778425655976]"
      ]
     },
     "execution_count": 64,
     "metadata": {},
     "output_type": "execute_result"
    }
   ],
   "source": [
    "f1_list_train"
   ]
  },
  {
   "cell_type": "code",
   "execution_count": 65,
   "id": "ec3c6c02",
   "metadata": {},
   "outputs": [
    {
     "data": {
      "text/plain": [
       "[0.9948453608247423,\n",
       " 0.9948453608247423,\n",
       " 0.9948453608247423,\n",
       " 0.9948453608247423,\n",
       " 1.0,\n",
       " 0.9948453608247423,\n",
       " 0.9948453608247423,\n",
       " 0.7835051546391752]"
      ]
     },
     "execution_count": 65,
     "metadata": {},
     "output_type": "execute_result"
    }
   ],
   "source": [
    "accuracy_list_val"
   ]
  },
  {
   "cell_type": "code",
   "execution_count": 66,
   "id": "441748b8",
   "metadata": {},
   "outputs": [
    {
     "data": {
      "text/plain": [
       "[0.9967213114754099,\n",
       " 0.9967213114754099,\n",
       " 0.9967213114754099,\n",
       " 0.9967213114754099,\n",
       " 1.0,\n",
       " 0.9967213114754099,\n",
       " 0.9967213114754099,\n",
       " 0.8786127167630058]"
      ]
     },
     "execution_count": 66,
     "metadata": {},
     "output_type": "execute_result"
    }
   ],
   "source": [
    "f1_list_val"
   ]
  },
  {
   "cell_type": "code",
   "execution_count": 67,
   "id": "a39a0ff6",
   "metadata": {},
   "outputs": [],
   "source": [
    "max_depth_list = [2, 4, 8, 16, 32, 64, None]"
   ]
  },
  {
   "cell_type": "code",
   "execution_count": null,
   "id": "e74f9b3d",
   "metadata": {},
   "outputs": [],
   "source": [
    "accuracy_list_train = []\n",
    "f1_list_train = []\n",
    "accuracy_list_val = []\n",
    "f1_list_val = []\n",
    "for max_depth in max_depth_list:\n",
    "    # You can fit the model at the same time you define it, because the fit function returns the fitted estimator.\n",
    "    model = RandomForestClassifier(max_depth = max_depth,\n",
    "                                   random_state = 123).fit(X_train,y_train) \n",
    "    predictions_train = model.predict(X_train) ## The predicted values for the train dataset\n",
    "    predictions_val = model.predict(X_val) ## The predicted values for the test dataset\n",
    "    accuracy_train = accuracy_score(predictions_train,y_train)\n",
    "    f1_train = f1_score(predictions_train,y_train)\n",
    "    accuracy_val = accuracy_score(predictions_val,y_val)\n",
    "    f1_val = f1_score(predictions_val,y_val)\n",
    "    accuracy_list_train.append(accuracy_train)\n",
    "    f1_list_train.append(f1_train)\n",
    "    accuracy_list_val.append(accuracy_val)\n",
    "    f1_list_val.append(f1_val)\n",
    "\n",
    "plt.title('Train x Validation metrics')\n",
    "plt.xlabel('max_depth')\n",
    "plt.ylabel('accuracy')\n",
    "plt.xticks(ticks = range(len(max_depth_list )),labels=max_depth_list)\n",
    "plt.plot(accuracy_list_train)\n",
    "plt.plot(accuracy_list_val)\n",
    "plt.legend(['Train','Validation']);"
   ]
  },
  {
   "cell_type": "code",
   "execution_count": 69,
   "id": "de033ac9",
   "metadata": {},
   "outputs": [
    {
     "data": {
      "text/plain": [
       "[0.9676584734799483, 0.9935316946959897, 1.0, 1.0, 1.0, 1.0, 1.0]"
      ]
     },
     "execution_count": 69,
     "metadata": {},
     "output_type": "execute_result"
    }
   ],
   "source": [
    "accuracy_list_train"
   ]
  },
  {
   "cell_type": "code",
   "execution_count": 70,
   "id": "76ed1cc1",
   "metadata": {},
   "outputs": [
    {
     "data": {
      "text/plain": [
       "[0.9795584627964024, 0.9958437240232751, 1.0, 1.0, 1.0, 1.0, 1.0]"
      ]
     },
     "execution_count": 70,
     "metadata": {},
     "output_type": "execute_result"
    }
   ],
   "source": [
    "f1_list_train"
   ]
  },
  {
   "cell_type": "code",
   "execution_count": 71,
   "id": "c4adb64f",
   "metadata": {},
   "outputs": [
    {
     "data": {
      "text/plain": [
       "[0.9896907216494846,\n",
       " 1.0,\n",
       " 0.9948453608247423,\n",
       " 0.9948453608247423,\n",
       " 0.9948453608247423,\n",
       " 0.9948453608247423,\n",
       " 0.9948453608247423]"
      ]
     },
     "execution_count": 71,
     "metadata": {},
     "output_type": "execute_result"
    }
   ],
   "source": [
    "accuracy_list_val"
   ]
  },
  {
   "cell_type": "code",
   "execution_count": 72,
   "id": "6a42b46f",
   "metadata": {},
   "outputs": [
    {
     "data": {
      "text/plain": [
       "[0.9934640522875817,\n",
       " 1.0,\n",
       " 0.9967213114754099,\n",
       " 0.9967213114754099,\n",
       " 0.9967213114754099,\n",
       " 0.9967213114754099,\n",
       " 0.9967213114754099]"
      ]
     },
     "execution_count": 72,
     "metadata": {},
     "output_type": "execute_result"
    }
   ],
   "source": [
    "f1_list_val"
   ]
  },
  {
   "cell_type": "code",
   "execution_count": 73,
   "id": "897c6393",
   "metadata": {},
   "outputs": [],
   "source": [
    "max_depth_list = [2, 3, 4, 5, 6, 7, 8, 9, 10]"
   ]
  },
  {
   "cell_type": "code",
   "execution_count": null,
   "id": "525cc084",
   "metadata": {},
   "outputs": [],
   "source": [
    "accuracy_list_train = []\n",
    "f1_list_train = []\n",
    "accuracy_list_val = []\n",
    "f1_list_val = []\n",
    "for max_depth in max_depth_list:\n",
    "    # You can fit the model at the same time you define it, because the fit function returns the fitted estimator.\n",
    "    model = RandomForestClassifier(max_depth = max_depth,\n",
    "                                   random_state = 123).fit(X_train,y_train) \n",
    "    predictions_train = model.predict(X_train) ## The predicted values for the train dataset\n",
    "    predictions_val = model.predict(X_val) ## The predicted values for the test dataset\n",
    "    accuracy_train = accuracy_score(predictions_train,y_train)\n",
    "    f1_train = f1_score(predictions_train,y_train)\n",
    "    accuracy_val = accuracy_score(predictions_val,y_val)\n",
    "    f1_val = f1_score(predictions_val,y_val)\n",
    "    accuracy_list_train.append(accuracy_train)\n",
    "    f1_list_train.append(f1_train)\n",
    "    accuracy_list_val.append(accuracy_val)\n",
    "    f1_list_val.append(f1_val)\n",
    "\n",
    "plt.title('Train x Validation metrics')\n",
    "plt.xlabel('max_depth')\n",
    "plt.ylabel('accuracy')\n",
    "plt.xticks(ticks = range(len(max_depth_list )),labels=max_depth_list)\n",
    "plt.plot(accuracy_list_train)\n",
    "plt.plot(accuracy_list_val)\n",
    "plt.legend(['Train','Validation']);"
   ]
  },
  {
   "cell_type": "code",
   "execution_count": 75,
   "id": "b0d0ab0c",
   "metadata": {},
   "outputs": [
    {
     "data": {
      "text/plain": [
       "[0.9676584734799483,\n",
       " 0.9702457956015524,\n",
       " 0.9935316946959897,\n",
       " 1.0,\n",
       " 1.0,\n",
       " 1.0,\n",
       " 1.0,\n",
       " 1.0,\n",
       " 1.0]"
      ]
     },
     "execution_count": 75,
     "metadata": {},
     "output_type": "execute_result"
    }
   ],
   "source": [
    "accuracy_list_train"
   ]
  },
  {
   "cell_type": "code",
   "execution_count": 76,
   "id": "5da449b9",
   "metadata": {},
   "outputs": [
    {
     "data": {
      "text/plain": [
       "[0.9795584627964024,\n",
       " 0.9811629811629812,\n",
       " 0.9958437240232751,\n",
       " 1.0,\n",
       " 1.0,\n",
       " 1.0,\n",
       " 1.0,\n",
       " 1.0,\n",
       " 1.0]"
      ]
     },
     "execution_count": 76,
     "metadata": {},
     "output_type": "execute_result"
    }
   ],
   "source": [
    "f1_list_train"
   ]
  },
  {
   "cell_type": "code",
   "execution_count": 77,
   "id": "afe854e1",
   "metadata": {},
   "outputs": [
    {
     "data": {
      "text/plain": [
       "[0.9896907216494846,\n",
       " 0.9948453608247423,\n",
       " 1.0,\n",
       " 0.9948453608247423,\n",
       " 0.9948453608247423,\n",
       " 0.9948453608247423,\n",
       " 0.9948453608247423,\n",
       " 0.9948453608247423,\n",
       " 0.9948453608247423]"
      ]
     },
     "execution_count": 77,
     "metadata": {},
     "output_type": "execute_result"
    }
   ],
   "source": [
    "accuracy_list_val"
   ]
  },
  {
   "cell_type": "code",
   "execution_count": 78,
   "id": "0cff2799",
   "metadata": {},
   "outputs": [
    {
     "data": {
      "text/plain": [
       "[0.9934640522875817,\n",
       " 0.9967213114754099,\n",
       " 1.0,\n",
       " 0.9967213114754099,\n",
       " 0.9967213114754099,\n",
       " 0.9967213114754099,\n",
       " 0.9967213114754099,\n",
       " 0.9967213114754099,\n",
       " 0.9967213114754099]"
      ]
     },
     "execution_count": 78,
     "metadata": {},
     "output_type": "execute_result"
    }
   ],
   "source": [
    "f1_list_val"
   ]
  },
  {
   "cell_type": "code",
   "execution_count": 79,
   "id": "7636ac6a",
   "metadata": {},
   "outputs": [],
   "source": [
    "n_estimators_list = [10,50,100,500,1000,2000]"
   ]
  },
  {
   "cell_type": "code",
   "execution_count": 80,
   "id": "c4639152",
   "metadata": {},
   "outputs": [
    {
     "data": {
      "text/plain": [
       "<matplotlib.legend.Legend at 0x223c90ceda0>"
      ]
     },
     "execution_count": 80,
     "metadata": {},
     "output_type": "execute_result"
    },
    {
     "data": {
      "image/png": "[encoded data removed]",
      "text/plain": [
       "<Figure size 640x480 with 1 Axes>"
      ]
     },
     "metadata": {},
     "output_type": "display_data"
    }
   ],
   "source": [
    "accuracy_list_train = []\n",
    "f1_list_train = []\n",
    "accuracy_list_val = []\n",
    "f1_list_val = []\n",
    "for n_estimators in n_estimators_list:\n",
    "    # You can fit the model at the same time you define it, because the fit function returns the fitted estimator.\n",
    "    model = RandomForestClassifier(n_estimators = n_estimators,\n",
    "                                   random_state = 123).fit(X_train,y_train) \n",
    "    predictions_train = model.predict(X_train) ## The predicted values for the train dataset\n",
    "    predictions_val = model.predict(X_val) ## The predicted values for the test dataset\n",
    "    accuracy_train = accuracy_score(predictions_train,y_train)\n",
    "    f1_train = f1_score(predictions_train,y_train)\n",
    "    accuracy_val = accuracy_score(predictions_val,y_val)\n",
    "    f1_val = f1_score(predictions_val,y_val)\n",
    "    accuracy_list_train.append(accuracy_train)\n",
    "    f1_list_train.append(f1_train)\n",
    "    accuracy_list_val.append(accuracy_val)\n",
    "    f1_list_val.append(f1_val)\n",
    "\n",
    "plt.title('Train x Validation metrics')\n",
    "plt.xlabel('n_estimators')\n",
    "plt.ylabel('accuracy')\n",
    "plt.xticks(ticks = range(len(n_estimators_list )),labels=n_estimators_list)\n",
    "plt.plot(accuracy_list_train)\n",
    "plt.plot(accuracy_list_val)\n",
    "plt.legend(['Train','Validation'])"
   ]
  },
  {
   "cell_type": "code",
   "execution_count": 81,
   "id": "44337ab4",
   "metadata": {},
   "outputs": [
    {
     "data": {
      "text/plain": [
       "[1.0, 1.0, 1.0, 1.0, 1.0, 1.0]"
      ]
     },
     "execution_count": 81,
     "metadata": {},
     "output_type": "execute_result"
    }
   ],
   "source": [
    "accuracy_list_train"
   ]
  },
  {
   "cell_type": "code",
   "execution_count": 82,
   "id": "94f13d42",
   "metadata": {},
   "outputs": [
    {
     "data": {
      "text/plain": [
       "[1.0, 1.0, 1.0, 1.0, 1.0, 1.0]"
      ]
     },
     "execution_count": 82,
     "metadata": {},
     "output_type": "execute_result"
    }
   ],
   "source": [
    "f1_list_train"
   ]
  },
  {
   "cell_type": "code",
   "execution_count": 83,
   "id": "b1c4b210",
   "metadata": {},
   "outputs": [
    {
     "data": {
      "text/plain": [
       "[0.9896907216494846,\n",
       " 0.9948453608247423,\n",
       " 0.9948453608247423,\n",
       " 0.9948453608247423,\n",
       " 0.9948453608247423,\n",
       " 0.9948453608247423]"
      ]
     },
     "execution_count": 83,
     "metadata": {},
     "output_type": "execute_result"
    }
   ],
   "source": [
    "accuracy_list_val"
   ]
  },
  {
   "cell_type": "code",
   "execution_count": 84,
   "id": "853b604d",
   "metadata": {},
   "outputs": [
    {
     "data": {
      "text/plain": [
       "[0.993421052631579,\n",
       " 0.9967213114754099,\n",
       " 0.9967213114754099,\n",
       " 0.9967213114754099,\n",
       " 0.9967213114754099,\n",
       " 0.9967213114754099]"
      ]
     },
     "execution_count": 84,
     "metadata": {},
     "output_type": "execute_result"
    }
   ],
   "source": [
    "f1_list_val"
   ]
  },
  {
   "cell_type": "code",
   "execution_count": 85,
   "id": "269a9992",
   "metadata": {},
   "outputs": [],
   "source": [
    "n_estimators_list = [2,3,4,5,6,7,8,9,10,15,20,25,30,35,40,45,50]"
   ]
  },
  {
   "cell_type": "code",
   "execution_count": 86,
   "id": "dcda097f",
   "metadata": {},
   "outputs": [
    {
     "data": {
      "text/plain": [
       "<matplotlib.legend.Legend at 0x223c91336a0>"
      ]
     },
     "execution_count": 86,
     "metadata": {},
     "output_type": "execute_result"
    },
    {
     "data": {
      "image/png": "[encoded data removed]",
      "text/plain": [
       "<Figure size 640x480 with 1 Axes>"
      ]
     },
     "metadata": {},
     "output_type": "display_data"
    }
   ],
   "source": [
    "accuracy_list_train = []\n",
    "f1_list_train = []\n",
    "accuracy_list_val = []\n",
    "f1_list_val = []\n",
    "for n_estimators in n_estimators_list:\n",
    "    # You can fit the model at the same time you define it, because the fit function returns the fitted estimator.\n",
    "    model = RandomForestClassifier(n_estimators = n_estimators,\n",
    "                                   random_state = 123).fit(X_train,y_train) \n",
    "    predictions_train = model.predict(X_train) ## The predicted values for the train dataset\n",
    "    predictions_val = model.predict(X_val) ## The predicted values for the test dataset\n",
    "    accuracy_train = accuracy_score(predictions_train,y_train)\n",
    "    f1_train = f1_score(predictions_train,y_train)\n",
    "    accuracy_val = accuracy_score(predictions_val,y_val)\n",
    "    f1_val = f1_score(predictions_val,y_val)\n",
    "    accuracy_list_train.append(accuracy_train)\n",
    "    f1_list_train.append(f1_train)\n",
    "    accuracy_list_val.append(accuracy_val)\n",
    "    f1_list_val.append(f1_val)\n",
    "\n",
    "plt.title('Train x Validation metrics')\n",
    "plt.xlabel('n_estimators')\n",
    "plt.ylabel('accuracy')\n",
    "plt.xticks(ticks = range(len(n_estimators_list )),labels=n_estimators_list)\n",
    "plt.plot(accuracy_list_train)\n",
    "plt.plot(accuracy_list_val)\n",
    "plt.legend(['Train','Validation'])"
   ]
  },
  {
   "cell_type": "code",
   "execution_count": 87,
   "id": "77b65c44",
   "metadata": {},
   "outputs": [
    {
     "data": {
      "text/plain": [
       "[0.9598965071151359,\n",
       " 0.9922380336351876,\n",
       " 0.9987063389391979,\n",
       " 1.0,\n",
       " 1.0,\n",
       " 1.0,\n",
       " 1.0,\n",
       " 1.0,\n",
       " 1.0,\n",
       " 1.0,\n",
       " 1.0,\n",
       " 1.0,\n",
       " 1.0,\n",
       " 1.0,\n",
       " 1.0,\n",
       " 1.0,\n",
       " 1.0]"
      ]
     },
     "execution_count": 87,
     "metadata": {},
     "output_type": "execute_result"
    }
   ],
   "source": [
    "accuracy_list_train"
   ]
  },
  {
   "cell_type": "code",
   "execution_count": 88,
   "id": "a029b210",
   "metadata": {},
   "outputs": [
    {
     "data": {
      "text/plain": [
       "[0.9736170212765958,\n",
       " 0.9950083194675541,\n",
       " 0.9991645781119466,\n",
       " 1.0,\n",
       " 1.0,\n",
       " 1.0,\n",
       " 1.0,\n",
       " 1.0,\n",
       " 1.0,\n",
       " 1.0,\n",
       " 1.0,\n",
       " 1.0,\n",
       " 1.0,\n",
       " 1.0,\n",
       " 1.0,\n",
       " 1.0,\n",
       " 1.0]"
      ]
     },
     "execution_count": 88,
     "metadata": {},
     "output_type": "execute_result"
    }
   ],
   "source": [
    "f1_list_train"
   ]
  },
  {
   "cell_type": "code",
   "execution_count": 89,
   "id": "47d122cc",
   "metadata": {},
   "outputs": [
    {
     "data": {
      "text/plain": [
       "[0.8969072164948454,\n",
       " 0.979381443298969,\n",
       " 0.9845360824742269,\n",
       " 0.9948453608247423,\n",
       " 0.9948453608247423,\n",
       " 0.9948453608247423,\n",
       " 0.9948453608247423,\n",
       " 0.9948453608247423,\n",
       " 0.9896907216494846,\n",
       " 0.9948453608247423,\n",
       " 0.9948453608247423,\n",
       " 0.9948453608247423,\n",
       " 0.9948453608247423,\n",
       " 0.9948453608247423,\n",
       " 0.9948453608247423,\n",
       " 0.9948453608247423,\n",
       " 0.9948453608247423]"
      ]
     },
     "execution_count": 89,
     "metadata": {},
     "output_type": "execute_result"
    }
   ],
   "source": [
    "accuracy_list_val"
   ]
  },
  {
   "cell_type": "code",
   "execution_count": 90,
   "id": "0a722029",
   "metadata": {},
   "outputs": [
    {
     "data": {
      "text/plain": [
       "[0.9305555555555556,\n",
       " 0.9868421052631579,\n",
       " 0.9900990099009901,\n",
       " 0.9967213114754099,\n",
       " 0.9967213114754099,\n",
       " 0.9967213114754099,\n",
       " 0.9967213114754099,\n",
       " 0.9967213114754099,\n",
       " 0.993421052631579,\n",
       " 0.9967213114754099,\n",
       " 0.9967213114754099,\n",
       " 0.9967213114754099,\n",
       " 0.9967213114754099,\n",
       " 0.9967213114754099,\n",
       " 0.9967213114754099,\n",
       " 0.9967213114754099,\n",
       " 0.9967213114754099]"
      ]
     },
     "execution_count": 90,
     "metadata": {},
     "output_type": "execute_result"
    }
   ],
   "source": [
    "f1_list_val"
   ]
  },
  {
   "cell_type": "markdown",
   "id": "0ab90601",
   "metadata": {},
   "source": [
    "    Chosen max_depth = 5\n",
    "    Chosen n_estimators = 5\n",
    "    Chosen min_samples_split = 100"
   ]
  },
  {
   "cell_type": "code",
   "execution_count": 91,
   "id": "df76d359",
   "metadata": {},
   "outputs": [],
   "source": [
    "random_forest_model = RandomForestClassifier(n_estimators = 5,\n",
    "                                             max_depth = 5, \n",
    "                                             min_samples_split = 100).fit(X_train,y_train)"
   ]
  },
  {
   "cell_type": "code",
   "execution_count": 92,
   "id": "9355a764",
   "metadata": {},
   "outputs": [
    {
     "name": "stdout",
     "output_type": "stream",
     "text": [
      "Accuracy for train:\n",
      "\tAccuracy score: 0.9935\n",
      "f1 for train:\n",
      "\tf1 score: 0.9958\n",
      "Accuracy for validation:\n",
      "\tAccuracy score: 0.9948\n",
      "f1 for validation:\n",
      "\tf1 score: 0.9967\n"
     ]
    }
   ],
   "source": [
    "print(f\"Accuracy for train:\\n\\tAccuracy score: {accuracy_score(random_forest_model.predict(X_train),y_train):.4f}\")\n",
    "print(f\"f1 for train:\\n\\tf1 score: {f1_score(random_forest_model.predict(X_train),y_train):.4f}\")\n",
    "print(f\"Accuracy for validation:\\n\\tAccuracy score: {accuracy_score(random_forest_model.predict(X_val),y_val):.4f}\")\n",
    "print(f\"f1 for validation:\\n\\tf1 score: {f1_score(random_forest_model.predict(X_val),y_val):.4f}\")"
   ]
  },
  {
   "cell_type": "code",
   "execution_count": 93,
   "id": "05a18b14",
   "metadata": {},
   "outputs": [],
   "source": [
    "from xgboost import XGBClassifier"
   ]
  },
  {
   "cell_type": "code",
   "execution_count": 94,
   "id": "5329b206",
   "metadata": {},
   "outputs": [],
   "source": [
    "n = int(len(X_train)*0.8) ## Let's use 80% to train and 20% to eval"
   ]
  },
  {
   "cell_type": "code",
   "execution_count": 95,
   "id": "d88c6d9e",
   "metadata": {},
   "outputs": [],
   "source": [
    "X_train_fit, X_train_eval, y_train_fit, y_train_eval = X_train[:n], X_train[n:], y_train[:n], y_train[n:]"
   ]
  },
  {
   "cell_type": "code",
   "execution_count": 96,
   "id": "d8d217cd",
   "metadata": {
    "scrolled": true
   },
   "outputs": [
    {
     "name": "stdout",
     "output_type": "stream",
     "text": [
      "[0]\tvalidation_0-logloss:0.60012\n",
      "[1]\tvalidation_0-logloss:0.52364\n",
      "[2]\tvalidation_0-logloss:0.45966\n",
      "[3]\tvalidation_0-logloss:0.40546\n",
      "[4]\tvalidation_0-logloss:0.35906\n",
      "[5]\tvalidation_0-logloss:0.31902\n",
      "[6]\tvalidation_0-logloss:0.28424\n",
      "[7]\tvalidation_0-logloss:0.25386\n",
      "[8]\tvalidation_0-logloss:0.22720\n",
      "[9]\tvalidation_0-logloss:0.20372\n",
      "[10]\tvalidation_0-logloss:0.18296\n",
      "[11]\tvalidation_0-logloss:0.16457\n",
      "[12]\tvalidation_0-logloss:0.14822\n",
      "[13]\tvalidation_0-logloss:0.13367\n",
      "[14]\tvalidation_0-logloss:0.12068\n",
      "[15]\tvalidation_0-logloss:0.10908\n",
      "[16]\tvalidation_0-logloss:0.09869\n",
      "[17]\tvalidation_0-logloss:0.08939\n",
      "[18]\tvalidation_0-logloss:0.08103\n",
      "[19]\tvalidation_0-logloss:0.07353\n",
      "[20]\tvalidation_0-logloss:0.06679\n",
      "[21]\tvalidation_0-logloss:0.06072\n",
      "[22]\tvalidation_0-logloss:0.05525\n",
      "[23]\tvalidation_0-logloss:0.05032\n",
      "[24]\tvalidation_0-logloss:0.04588\n",
      "[25]\tvalidation_0-logloss:0.04187\n",
      "[26]\tvalidation_0-logloss:0.03825\n",
      "[27]\tvalidation_0-logloss:0.03497\n",
      "[28]\tvalidation_0-logloss:0.03201\n",
      "[29]\tvalidation_0-logloss:0.02933\n",
      "[30]\tvalidation_0-logloss:0.02698\n",
      "[31]\tvalidation_0-logloss:0.02484\n",
      "[32]\tvalidation_0-logloss:0.02294\n",
      "[33]\tvalidation_0-logloss:0.02123\n",
      "[34]\tvalidation_0-logloss:0.01968\n",
      "[35]\tvalidation_0-logloss:0.01828\n",
      "[36]\tvalidation_0-logloss:0.01701\n",
      "[37]\tvalidation_0-logloss:0.01586\n",
      "[38]\tvalidation_0-logloss:0.01481\n",
      "[39]\tvalidation_0-logloss:0.01387\n",
      "[40]\tvalidation_0-logloss:0.01301\n",
      "[41]\tvalidation_0-logloss:0.01223\n",
      "[42]\tvalidation_0-logloss:0.01152\n",
      "[43]\tvalidation_0-logloss:0.01087\n",
      "[44]\tvalidation_0-logloss:0.01029\n",
      "[45]\tvalidation_0-logloss:0.00976\n",
      "[46]\tvalidation_0-logloss:0.00927\n",
      "[47]\tvalidation_0-logloss:0.00883\n",
      "[48]\tvalidation_0-logloss:0.00842\n",
      "[49]\tvalidation_0-logloss:0.00805\n",
      "[50]\tvalidation_0-logloss:0.00771\n",
      "[51]\tvalidation_0-logloss:0.00745\n",
      "[52]\tvalidation_0-logloss:0.00722\n",
      "[53]\tvalidation_0-logloss:0.00700\n",
      "[54]\tvalidation_0-logloss:0.00681\n",
      "[55]\tvalidation_0-logloss:0.00663\n",
      "[56]\tvalidation_0-logloss:0.00646\n",
      "[57]\tvalidation_0-logloss:0.00631\n",
      "[58]\tvalidation_0-logloss:0.00617\n",
      "[59]\tvalidation_0-logloss:0.00604\n",
      "[60]\tvalidation_0-logloss:0.00592\n",
      "[61]\tvalidation_0-logloss:0.00581\n",
      "[62]\tvalidation_0-logloss:0.00578\n",
      "[63]\tvalidation_0-logloss:0.00576\n",
      "[64]\tvalidation_0-logloss:0.00574\n",
      "[65]\tvalidation_0-logloss:0.00572\n",
      "[66]\tvalidation_0-logloss:0.00571\n",
      "[67]\tvalidation_0-logloss:0.00570\n",
      "[68]\tvalidation_0-logloss:0.00569\n",
      "[69]\tvalidation_0-logloss:0.00565\n",
      "[70]\tvalidation_0-logloss:0.00564\n",
      "[71]\tvalidation_0-logloss:0.00560\n",
      "[72]\tvalidation_0-logloss:0.00560\n",
      "[73]\tvalidation_0-logloss:0.00556\n",
      "[74]\tvalidation_0-logloss:0.00556\n",
      "[75]\tvalidation_0-logloss:0.00552\n",
      "[76]\tvalidation_0-logloss:0.00552\n",
      "[77]\tvalidation_0-logloss:0.00548\n",
      "[78]\tvalidation_0-logloss:0.00548\n",
      "[79]\tvalidation_0-logloss:0.00547\n",
      "[80]\tvalidation_0-logloss:0.00543\n",
      "[81]\tvalidation_0-logloss:0.00543\n",
      "[82]\tvalidation_0-logloss:0.00541\n",
      "[83]\tvalidation_0-logloss:0.00538\n",
      "[84]\tvalidation_0-logloss:0.00538\n",
      "[85]\tvalidation_0-logloss:0.00537\n",
      "[86]\tvalidation_0-logloss:0.00534\n",
      "[87]\tvalidation_0-logloss:0.00533\n",
      "[88]\tvalidation_0-logloss:0.00532\n",
      "[89]\tvalidation_0-logloss:0.00529\n",
      "[90]\tvalidation_0-logloss:0.00529\n",
      "[91]\tvalidation_0-logloss:0.00526\n",
      "[92]\tvalidation_0-logloss:0.00526\n",
      "[93]\tvalidation_0-logloss:0.00523\n",
      "[94]\tvalidation_0-logloss:0.00522\n",
      "[95]\tvalidation_0-logloss:0.00522\n",
      "[96]\tvalidation_0-logloss:0.00520\n",
      "[97]\tvalidation_0-logloss:0.00517\n",
      "[98]\tvalidation_0-logloss:0.00517\n",
      "[99]\tvalidation_0-logloss:0.00516\n",
      "[100]\tvalidation_0-logloss:0.00514\n",
      "[101]\tvalidation_0-logloss:0.00513\n",
      "[102]\tvalidation_0-logloss:0.00513\n",
      "[103]\tvalidation_0-logloss:0.00510\n",
      "[104]\tvalidation_0-logloss:0.00509\n",
      "[105]\tvalidation_0-logloss:0.00509\n",
      "[106]\tvalidation_0-logloss:0.00508\n",
      "[107]\tvalidation_0-logloss:0.00507\n",
      "[108]\tvalidation_0-logloss:0.00506\n",
      "[109]\tvalidation_0-logloss:0.00506\n",
      "[110]\tvalidation_0-logloss:0.00504\n",
      "[111]\tvalidation_0-logloss:0.00503\n",
      "[112]\tvalidation_0-logloss:0.00503\n",
      "[113]\tvalidation_0-logloss:0.00503\n",
      "[114]\tvalidation_0-logloss:0.00501\n",
      "[115]\tvalidation_0-logloss:0.00500\n",
      "[116]\tvalidation_0-logloss:0.00500\n",
      "[117]\tvalidation_0-logloss:0.00499\n",
      "[118]\tvalidation_0-logloss:0.00498\n",
      "[119]\tvalidation_0-logloss:0.00497\n",
      "[120]\tvalidation_0-logloss:0.00496\n",
      "[121]\tvalidation_0-logloss:0.00496\n",
      "[122]\tvalidation_0-logloss:0.00495\n",
      "[123]\tvalidation_0-logloss:0.00494\n",
      "[124]\tvalidation_0-logloss:0.00494\n",
      "[125]\tvalidation_0-logloss:0.00493\n",
      "[126]\tvalidation_0-logloss:0.00492\n",
      "[127]\tvalidation_0-logloss:0.00492\n",
      "[128]\tvalidation_0-logloss:0.00491\n",
      "[129]\tvalidation_0-logloss:0.00491\n",
      "[130]\tvalidation_0-logloss:0.00489\n",
      "[131]\tvalidation_0-logloss:0.00488\n",
      "[132]\tvalidation_0-logloss:0.00487\n",
      "[133]\tvalidation_0-logloss:0.00488\n",
      "[134]\tvalidation_0-logloss:0.00486\n",
      "[135]\tvalidation_0-logloss:0.00486\n",
      "[136]\tvalidation_0-logloss:0.00485\n",
      "[137]\tvalidation_0-logloss:0.00484\n",
      "[138]\tvalidation_0-logloss:0.00484\n",
      "[139]\tvalidation_0-logloss:0.00483\n",
      "[140]\tvalidation_0-logloss:0.00482\n",
      "[141]\tvalidation_0-logloss:0.00482\n",
      "[142]\tvalidation_0-logloss:0.00481\n",
      "[143]\tvalidation_0-logloss:0.00480\n",
      "[144]\tvalidation_0-logloss:0.00479\n",
      "[145]\tvalidation_0-logloss:0.00478\n",
      "[146]\tvalidation_0-logloss:0.00478\n",
      "[147]\tvalidation_0-logloss:0.00477\n",
      "[148]\tvalidation_0-logloss:0.00476\n",
      "[149]\tvalidation_0-logloss:0.00476\n",
      "[150]\tvalidation_0-logloss:0.00476\n",
      "[151]\tvalidation_0-logloss:0.00476\n",
      "[152]\tvalidation_0-logloss:0.00475\n",
      "[153]\tvalidation_0-logloss:0.00474\n",
      "[154]\tvalidation_0-logloss:0.00473\n",
      "[155]\tvalidation_0-logloss:0.00473\n",
      "[156]\tvalidation_0-logloss:0.00473\n",
      "[157]\tvalidation_0-logloss:0.00472\n",
      "[158]\tvalidation_0-logloss:0.00471\n",
      "[159]\tvalidation_0-logloss:0.00471\n",
      "[160]\tvalidation_0-logloss:0.00470\n",
      "[161]\tvalidation_0-logloss:0.00470\n",
      "[162]\tvalidation_0-logloss:0.00469\n",
      "[163]\tvalidation_0-logloss:0.00468\n",
      "[164]\tvalidation_0-logloss:0.00468\n",
      "[165]\tvalidation_0-logloss:0.00468\n",
      "[166]\tvalidation_0-logloss:0.00467\n",
      "[167]\tvalidation_0-logloss:0.00467\n",
      "[168]\tvalidation_0-logloss:0.00466\n",
      "[169]\tvalidation_0-logloss:0.00466\n",
      "[170]\tvalidation_0-logloss:0.00465\n",
      "[171]\tvalidation_0-logloss:0.00465\n",
      "[172]\tvalidation_0-logloss:0.00465\n",
      "[173]\tvalidation_0-logloss:0.00464\n",
      "[174]\tvalidation_0-logloss:0.00464\n",
      "[175]\tvalidation_0-logloss:0.00463\n",
      "[176]\tvalidation_0-logloss:0.00463\n",
      "[177]\tvalidation_0-logloss:0.00463\n",
      "[178]\tvalidation_0-logloss:0.00463\n",
      "[179]\tvalidation_0-logloss:0.00462\n",
      "[180]\tvalidation_0-logloss:0.00462\n",
      "[181]\tvalidation_0-logloss:0.00462\n",
      "[182]\tvalidation_0-logloss:0.00461\n",
      "[183]\tvalidation_0-logloss:0.00461\n",
      "[184]\tvalidation_0-logloss:0.00460\n",
      "[185]\tvalidation_0-logloss:0.00460\n",
      "[186]\tvalidation_0-logloss:0.00460\n",
      "[187]\tvalidation_0-logloss:0.00460\n",
      "[188]\tvalidation_0-logloss:0.00460\n",
      "[189]\tvalidation_0-logloss:0.00459\n",
      "[190]\tvalidation_0-logloss:0.00459\n",
      "[191]\tvalidation_0-logloss:0.00459\n",
      "[192]\tvalidation_0-logloss:0.00459\n",
      "[193]\tvalidation_0-logloss:0.00458\n",
      "[194]\tvalidation_0-logloss:0.00458\n",
      "[195]\tvalidation_0-logloss:0.00458\n",
      "[196]\tvalidation_0-logloss:0.00458\n",
      "[197]\tvalidation_0-logloss:0.00457\n",
      "[198]\tvalidation_0-logloss:0.00457\n",
      "[199]\tvalidation_0-logloss:0.00457\n",
      "[200]\tvalidation_0-logloss:0.00457\n",
      "[201]\tvalidation_0-logloss:0.00456\n",
      "[202]\tvalidation_0-logloss:0.00456\n",
      "[203]\tvalidation_0-logloss:0.00456\n",
      "[204]\tvalidation_0-logloss:0.00456\n",
      "[205]\tvalidation_0-logloss:0.00455\n",
      "[206]\tvalidation_0-logloss:0.00455\n",
      "[207]\tvalidation_0-logloss:0.00454\n",
      "[208]\tvalidation_0-logloss:0.00454\n",
      "[209]\tvalidation_0-logloss:0.00454\n",
      "[210]\tvalidation_0-logloss:0.00454\n",
      "[211]\tvalidation_0-logloss:0.00453\n",
      "[212]\tvalidation_0-logloss:0.00453\n",
      "[213]\tvalidation_0-logloss:0.00453\n",
      "[214]\tvalidation_0-logloss:0.00453\n",
      "[215]\tvalidation_0-logloss:0.00453\n",
      "[216]\tvalidation_0-logloss:0.00453\n",
      "[217]\tvalidation_0-logloss:0.00452\n",
      "[218]\tvalidation_0-logloss:0.00452\n",
      "[219]\tvalidation_0-logloss:0.00452\n",
      "[220]\tvalidation_0-logloss:0.00452\n",
      "[221]\tvalidation_0-logloss:0.00452\n",
      "[222]\tvalidation_0-logloss:0.00451\n",
      "[223]\tvalidation_0-logloss:0.00451\n",
      "[224]\tvalidation_0-logloss:0.00451\n",
      "[225]\tvalidation_0-logloss:0.00451\n",
      "[226]\tvalidation_0-logloss:0.00451\n",
      "[227]\tvalidation_0-logloss:0.00450\n",
      "[228]\tvalidation_0-logloss:0.00451\n",
      "[229]\tvalidation_0-logloss:0.00450\n",
      "[230]\tvalidation_0-logloss:0.00450\n",
      "[231]\tvalidation_0-logloss:0.00450\n",
      "[232]\tvalidation_0-logloss:0.00449\n",
      "[233]\tvalidation_0-logloss:0.00450\n",
      "[234]\tvalidation_0-logloss:0.00449\n",
      "[235]\tvalidation_0-logloss:0.00449\n",
      "[236]\tvalidation_0-logloss:0.00449\n",
      "[237]\tvalidation_0-logloss:0.00449\n"
     ]
    },
    {
     "name": "stdout",
     "output_type": "stream",
     "text": [
      "[238]\tvalidation_0-logloss:0.00448\n",
      "[239]\tvalidation_0-logloss:0.00448\n",
      "[240]\tvalidation_0-logloss:0.00449\n",
      "[241]\tvalidation_0-logloss:0.00448\n",
      "[242]\tvalidation_0-logloss:0.00448\n",
      "[243]\tvalidation_0-logloss:0.00448\n",
      "[244]\tvalidation_0-logloss:0.00448\n",
      "[245]\tvalidation_0-logloss:0.00447\n",
      "[246]\tvalidation_0-logloss:0.00447\n",
      "[247]\tvalidation_0-logloss:0.00447\n",
      "[248]\tvalidation_0-logloss:0.00447\n",
      "[249]\tvalidation_0-logloss:0.00447\n",
      "[250]\tvalidation_0-logloss:0.00447\n",
      "[251]\tvalidation_0-logloss:0.00447\n",
      "[252]\tvalidation_0-logloss:0.00446\n",
      "[253]\tvalidation_0-logloss:0.00446\n",
      "[254]\tvalidation_0-logloss:0.00446\n",
      "[255]\tvalidation_0-logloss:0.00446\n",
      "[256]\tvalidation_0-logloss:0.00446\n",
      "[257]\tvalidation_0-logloss:0.00446\n",
      "[258]\tvalidation_0-logloss:0.00445\n",
      "[259]\tvalidation_0-logloss:0.00446\n",
      "[260]\tvalidation_0-logloss:0.00445\n",
      "[261]\tvalidation_0-logloss:0.00445\n",
      "[262]\tvalidation_0-logloss:0.00445\n",
      "[263]\tvalidation_0-logloss:0.00445\n",
      "[264]\tvalidation_0-logloss:0.00445\n",
      "[265]\tvalidation_0-logloss:0.00445\n",
      "[266]\tvalidation_0-logloss:0.00444\n",
      "[267]\tvalidation_0-logloss:0.00444\n",
      "[268]\tvalidation_0-logloss:0.00444\n",
      "[269]\tvalidation_0-logloss:0.00444\n",
      "[270]\tvalidation_0-logloss:0.00444\n",
      "[271]\tvalidation_0-logloss:0.00444\n",
      "[272]\tvalidation_0-logloss:0.00444\n",
      "[273]\tvalidation_0-logloss:0.00443\n",
      "[274]\tvalidation_0-logloss:0.00444\n",
      "[275]\tvalidation_0-logloss:0.00443\n",
      "[276]\tvalidation_0-logloss:0.00443\n",
      "[277]\tvalidation_0-logloss:0.00443\n",
      "[278]\tvalidation_0-logloss:0.00443\n",
      "[279]\tvalidation_0-logloss:0.00443\n",
      "[280]\tvalidation_0-logloss:0.00443\n",
      "[281]\tvalidation_0-logloss:0.00443\n",
      "[282]\tvalidation_0-logloss:0.00442\n",
      "[283]\tvalidation_0-logloss:0.00442\n",
      "[284]\tvalidation_0-logloss:0.00442\n",
      "[285]\tvalidation_0-logloss:0.00442\n",
      "[286]\tvalidation_0-logloss:0.00442\n",
      "[287]\tvalidation_0-logloss:0.00442\n",
      "[288]\tvalidation_0-logloss:0.00442\n",
      "[289]\tvalidation_0-logloss:0.00441\n",
      "[290]\tvalidation_0-logloss:0.00441\n",
      "[291]\tvalidation_0-logloss:0.00441\n",
      "[292]\tvalidation_0-logloss:0.00441\n",
      "[293]\tvalidation_0-logloss:0.00441\n",
      "[294]\tvalidation_0-logloss:0.00441\n",
      "[295]\tvalidation_0-logloss:0.00441\n",
      "[296]\tvalidation_0-logloss:0.00441\n",
      "[297]\tvalidation_0-logloss:0.00441\n",
      "[298]\tvalidation_0-logloss:0.00440\n",
      "[299]\tvalidation_0-logloss:0.00440\n",
      "[300]\tvalidation_0-logloss:0.00440\n",
      "[301]\tvalidation_0-logloss:0.00440\n",
      "[302]\tvalidation_0-logloss:0.00440\n",
      "[303]\tvalidation_0-logloss:0.00440\n",
      "[304]\tvalidation_0-logloss:0.00440\n",
      "[305]\tvalidation_0-logloss:0.00440\n",
      "[306]\tvalidation_0-logloss:0.00439\n",
      "[307]\tvalidation_0-logloss:0.00440\n",
      "[308]\tvalidation_0-logloss:0.00440\n",
      "[309]\tvalidation_0-logloss:0.00440\n",
      "[310]\tvalidation_0-logloss:0.00440\n",
      "[311]\tvalidation_0-logloss:0.00440\n",
      "[312]\tvalidation_0-logloss:0.00439\n",
      "[313]\tvalidation_0-logloss:0.00440\n",
      "[314]\tvalidation_0-logloss:0.00439\n",
      "[315]\tvalidation_0-logloss:0.00440\n",
      "[316]\tvalidation_0-logloss:0.00439\n",
      "[317]\tvalidation_0-logloss:0.00439\n",
      "[318]\tvalidation_0-logloss:0.00439\n",
      "[319]\tvalidation_0-logloss:0.00439\n",
      "[320]\tvalidation_0-logloss:0.00439\n",
      "[321]\tvalidation_0-logloss:0.00439\n",
      "[322]\tvalidation_0-logloss:0.00439\n",
      "[323]\tvalidation_0-logloss:0.00439\n",
      "[324]\tvalidation_0-logloss:0.00439\n",
      "[325]\tvalidation_0-logloss:0.00439\n",
      "[326]\tvalidation_0-logloss:0.00439\n",
      "[327]\tvalidation_0-logloss:0.00439\n",
      "[328]\tvalidation_0-logloss:0.00439\n",
      "[329]\tvalidation_0-logloss:0.00439\n",
      "[330]\tvalidation_0-logloss:0.00439\n",
      "[331]\tvalidation_0-logloss:0.00439\n",
      "[332]\tvalidation_0-logloss:0.00439\n",
      "[333]\tvalidation_0-logloss:0.00439\n",
      "[334]\tvalidation_0-logloss:0.00439\n",
      "[335]\tvalidation_0-logloss:0.00439\n",
      "[336]\tvalidation_0-logloss:0.00439\n",
      "[337]\tvalidation_0-logloss:0.00439\n",
      "[338]\tvalidation_0-logloss:0.00438\n",
      "[339]\tvalidation_0-logloss:0.00439\n",
      "[340]\tvalidation_0-logloss:0.00438\n",
      "[341]\tvalidation_0-logloss:0.00439\n",
      "[342]\tvalidation_0-logloss:0.00438\n",
      "[343]\tvalidation_0-logloss:0.00439\n",
      "[344]\tvalidation_0-logloss:0.00439\n",
      "[345]\tvalidation_0-logloss:0.00439\n",
      "[346]\tvalidation_0-logloss:0.00439\n",
      "[347]\tvalidation_0-logloss:0.00439\n",
      "[348]\tvalidation_0-logloss:0.00439\n",
      "[349]\tvalidation_0-logloss:0.00439\n",
      "[350]\tvalidation_0-logloss:0.00439\n",
      "[351]\tvalidation_0-logloss:0.00439\n",
      "[352]\tvalidation_0-logloss:0.00439\n",
      "[353]\tvalidation_0-logloss:0.00438\n",
      "[354]\tvalidation_0-logloss:0.00439\n",
      "[355]\tvalidation_0-logloss:0.00439\n",
      "[356]\tvalidation_0-logloss:0.00438\n",
      "[357]\tvalidation_0-logloss:0.00439\n",
      "[358]\tvalidation_0-logloss:0.00439\n",
      "[359]\tvalidation_0-logloss:0.00438\n",
      "[360]\tvalidation_0-logloss:0.00439\n",
      "[361]\tvalidation_0-logloss:0.00438\n",
      "[362]\tvalidation_0-logloss:0.00438\n",
      "[363]\tvalidation_0-logloss:0.00438\n",
      "[364]\tvalidation_0-logloss:0.00439\n",
      "[365]\tvalidation_0-logloss:0.00438\n",
      "[366]\tvalidation_0-logloss:0.00439\n",
      "[367]\tvalidation_0-logloss:0.00439\n",
      "[368]\tvalidation_0-logloss:0.00439\n",
      "[369]\tvalidation_0-logloss:0.00438\n",
      "[370]\tvalidation_0-logloss:0.00439\n",
      "[371]\tvalidation_0-logloss:0.00438\n",
      "[372]\tvalidation_0-logloss:0.00439\n",
      "[373]\tvalidation_0-logloss:0.00439\n",
      "[374]\tvalidation_0-logloss:0.00439\n",
      "[375]\tvalidation_0-logloss:0.00439\n",
      "[376]\tvalidation_0-logloss:0.00439\n",
      "[377]\tvalidation_0-logloss:0.00439\n",
      "[378]\tvalidation_0-logloss:0.00438\n",
      "[379]\tvalidation_0-logloss:0.00438\n",
      "[380]\tvalidation_0-logloss:0.00438\n",
      "[381]\tvalidation_0-logloss:0.00439\n",
      "[382]\tvalidation_0-logloss:0.00438\n",
      "[383]\tvalidation_0-logloss:0.00438\n",
      "[384]\tvalidation_0-logloss:0.00438\n",
      "[385]\tvalidation_0-logloss:0.00438\n",
      "[386]\tvalidation_0-logloss:0.00438\n",
      "[387]\tvalidation_0-logloss:0.00438\n",
      "[388]\tvalidation_0-logloss:0.00438\n",
      "[389]\tvalidation_0-logloss:0.00439\n",
      "[390]\tvalidation_0-logloss:0.00438\n",
      "[391]\tvalidation_0-logloss:0.00439\n",
      "[392]\tvalidation_0-logloss:0.00438\n",
      "[393]\tvalidation_0-logloss:0.00438\n",
      "[394]\tvalidation_0-logloss:0.00439\n",
      "[395]\tvalidation_0-logloss:0.00438\n",
      "[396]\tvalidation_0-logloss:0.00438\n",
      "[397]\tvalidation_0-logloss:0.00439\n",
      "[398]\tvalidation_0-logloss:0.00438\n",
      "[399]\tvalidation_0-logloss:0.00438\n",
      "[400]\tvalidation_0-logloss:0.00438\n",
      "[401]\tvalidation_0-logloss:0.00438\n",
      "[402]\tvalidation_0-logloss:0.00438\n",
      "[403]\tvalidation_0-logloss:0.00438\n",
      "[404]\tvalidation_0-logloss:0.00439\n",
      "[405]\tvalidation_0-logloss:0.00438\n",
      "[406]\tvalidation_0-logloss:0.00439\n",
      "[407]\tvalidation_0-logloss:0.00439\n",
      "[408]\tvalidation_0-logloss:0.00439\n",
      "[409]\tvalidation_0-logloss:0.00439\n",
      "[410]\tvalidation_0-logloss:0.00439\n",
      "[411]\tvalidation_0-logloss:0.00439\n",
      "[412]\tvalidation_0-logloss:0.00439\n",
      "[413]\tvalidation_0-logloss:0.00439\n",
      "[414]\tvalidation_0-logloss:0.00439\n",
      "[415]\tvalidation_0-logloss:0.00439\n",
      "[416]\tvalidation_0-logloss:0.00439\n",
      "[417]\tvalidation_0-logloss:0.00439\n",
      "[418]\tvalidation_0-logloss:0.00439\n",
      "[419]\tvalidation_0-logloss:0.00439\n",
      "[420]\tvalidation_0-logloss:0.00439\n",
      "[421]\tvalidation_0-logloss:0.00439\n",
      "[422]\tvalidation_0-logloss:0.00439\n",
      "[423]\tvalidation_0-logloss:0.00439\n",
      "[424]\tvalidation_0-logloss:0.00439\n",
      "[425]\tvalidation_0-logloss:0.00439\n",
      "[426]\tvalidation_0-logloss:0.00439\n",
      "[427]\tvalidation_0-logloss:0.00440\n",
      "[428]\tvalidation_0-logloss:0.00440\n",
      "[429]\tvalidation_0-logloss:0.00439\n",
      "[430]\tvalidation_0-logloss:0.00440\n",
      "[431]\tvalidation_0-logloss:0.00439\n",
      "[432]\tvalidation_0-logloss:0.00440\n",
      "[433]\tvalidation_0-logloss:0.00439\n",
      "[434]\tvalidation_0-logloss:0.00439\n",
      "[435]\tvalidation_0-logloss:0.00439\n",
      "[436]\tvalidation_0-logloss:0.00440\n",
      "[437]\tvalidation_0-logloss:0.00440\n",
      "[438]\tvalidation_0-logloss:0.00440\n",
      "[439]\tvalidation_0-logloss:0.00440\n",
      "[440]\tvalidation_0-logloss:0.00440\n",
      "[441]\tvalidation_0-logloss:0.00440\n",
      "[442]\tvalidation_0-logloss:0.00439\n",
      "[443]\tvalidation_0-logloss:0.00440\n",
      "[444]\tvalidation_0-logloss:0.00439\n",
      "[445]\tvalidation_0-logloss:0.00440\n",
      "[446]\tvalidation_0-logloss:0.00440\n",
      "[447]\tvalidation_0-logloss:0.00440\n",
      "[448]\tvalidation_0-logloss:0.00440\n",
      "[449]\tvalidation_0-logloss:0.00440\n",
      "[450]\tvalidation_0-logloss:0.00440\n",
      "[451]\tvalidation_0-logloss:0.00440\n",
      "[452]\tvalidation_0-logloss:0.00440\n",
      "[453]\tvalidation_0-logloss:0.00440\n",
      "[454]\tvalidation_0-logloss:0.00440\n",
      "[455]\tvalidation_0-logloss:0.00439\n",
      "[456]\tvalidation_0-logloss:0.00440\n",
      "[457]\tvalidation_0-logloss:0.00439\n",
      "[458]\tvalidation_0-logloss:0.00439\n",
      "[459]\tvalidation_0-logloss:0.00439\n",
      "[460]\tvalidation_0-logloss:0.00439\n",
      "[461]\tvalidation_0-logloss:0.00439\n",
      "[462]\tvalidation_0-logloss:0.00439\n",
      "[463]\tvalidation_0-logloss:0.00439\n",
      "[464]\tvalidation_0-logloss:0.00439\n",
      "[465]\tvalidation_0-logloss:0.00440\n",
      "[466]\tvalidation_0-logloss:0.00439\n",
      "[467]\tvalidation_0-logloss:0.00440\n",
      "[468]\tvalidation_0-logloss:0.00439\n",
      "[469]\tvalidation_0-logloss:0.00439\n",
      "[470]\tvalidation_0-logloss:0.00439\n",
      "[471]\tvalidation_0-logloss:0.00440\n",
      "[472]\tvalidation_0-logloss:0.00440\n"
     ]
    },
    {
     "name": "stdout",
     "output_type": "stream",
     "text": [
      "[473]\tvalidation_0-logloss:0.00440\n",
      "[474]\tvalidation_0-logloss:0.00440\n",
      "[475]\tvalidation_0-logloss:0.00440\n",
      "[476]\tvalidation_0-logloss:0.00440\n",
      "[477]\tvalidation_0-logloss:0.00440\n",
      "[478]\tvalidation_0-logloss:0.00440\n",
      "[479]\tvalidation_0-logloss:0.00440\n",
      "[480]\tvalidation_0-logloss:0.00440\n",
      "[481]\tvalidation_0-logloss:0.00439\n",
      "[482]\tvalidation_0-logloss:0.00440\n",
      "[483]\tvalidation_0-logloss:0.00440\n",
      "[484]\tvalidation_0-logloss:0.00440\n",
      "[485]\tvalidation_0-logloss:0.00439\n",
      "[486]\tvalidation_0-logloss:0.00440\n",
      "[487]\tvalidation_0-logloss:0.00439\n",
      "[488]\tvalidation_0-logloss:0.00440\n",
      "[489]\tvalidation_0-logloss:0.00440\n",
      "[490]\tvalidation_0-logloss:0.00440\n",
      "[491]\tvalidation_0-logloss:0.00440\n",
      "[492]\tvalidation_0-logloss:0.00440\n",
      "[493]\tvalidation_0-logloss:0.00440\n",
      "[494]\tvalidation_0-logloss:0.00440\n",
      "[495]\tvalidation_0-logloss:0.00440\n",
      "[496]\tvalidation_0-logloss:0.00440\n",
      "[497]\tvalidation_0-logloss:0.00440\n",
      "[498]\tvalidation_0-logloss:0.00440\n",
      "[499]\tvalidation_0-logloss:0.00440\n"
     ]
    },
    {
     "data": {
      "text/html": [
       "<style>#sk-container-id-1 {color: black;}#sk-container-id-1 pre{padding: 0;}#sk-container-id-1 div.sk-toggleable {background-color: white;}#sk-container-id-1 label.sk-toggleable__label {cursor: pointer;display: block;width: 100%;margin-bottom: 0;padding: 0.3em;box-sizing: border-box;text-align: center;}#sk-container-id-1 label.sk-toggleable__label-arrow:before {content: \"▸\";float: left;margin-right: 0.25em;color: #696969;}#sk-container-id-1 label.sk-toggleable__label-arrow:hover:before {color: black;}#sk-container-id-1 div.sk-estimator:hover label.sk-toggleable__label-arrow:before {color: black;}#sk-container-id-1 div.sk-toggleable__content {max-height: 0;max-width: 0;overflow: hidden;text-align: left;background-color: #f0f8ff;}#sk-container-id-1 div.sk-toggleable__content pre {margin: 0.2em;color: black;border-radius: 0.25em;background-color: #f0f8ff;}#sk-container-id-1 input.sk-toggleable__control:checked~div.sk-toggleable__content {max-height: 200px;max-width: 100%;overflow: auto;}#sk-container-id-1 input.sk-toggleable__control:checked~label.sk-toggleable__label-arrow:before {content: \"▾\";}#sk-container-id-1 div.sk-estimator input.sk-toggleable__control:checked~label.sk-toggleable__label {background-color: #d4ebff;}#sk-container-id-1 div.sk-label input.sk-toggleable__control:checked~label.sk-toggleable__label {background-color: #d4ebff;}#sk-container-id-1 input.sk-hidden--visually {border: 0;clip: rect(1px 1px 1px 1px);clip: rect(1px, 1px, 1px, 1px);height: 1px;margin: -1px;overflow: hidden;padding: 0;position: absolute;width: 1px;}#sk-container-id-1 div.sk-estimator {font-family: monospace;background-color: #f0f8ff;border: 1px dotted black;border-radius: 0.25em;box-sizing: border-box;margin-bottom: 0.5em;}#sk-container-id-1 div.sk-estimator:hover {background-color: #d4ebff;}#sk-container-id-1 div.sk-parallel-item::after {content: \"\";width: 100%;border-bottom: 1px solid gray;flex-grow: 1;}#sk-container-id-1 div.sk-label:hover label.sk-toggleable__label {background-color: #d4ebff;}#sk-container-id-1 div.sk-serial::before {content: \"\";position: absolute;border-left: 1px solid gray;box-sizing: border-box;top: 0;bottom: 0;left: 50%;z-index: 0;}#sk-container-id-1 div.sk-serial {display: flex;flex-direction: column;align-items: center;background-color: white;padding-right: 0.2em;padding-left: 0.2em;position: relative;}#sk-container-id-1 div.sk-item {position: relative;z-index: 1;}#sk-container-id-1 div.sk-parallel {display: flex;align-items: stretch;justify-content: center;background-color: white;position: relative;}#sk-container-id-1 div.sk-item::before, #sk-container-id-1 div.sk-parallel-item::before {content: \"\";position: absolute;border-left: 1px solid gray;box-sizing: border-box;top: 0;bottom: 0;left: 50%;z-index: -1;}#sk-container-id-1 div.sk-parallel-item {display: flex;flex-direction: column;z-index: 1;position: relative;background-color: white;}#sk-container-id-1 div.sk-parallel-item:first-child::after {align-self: flex-end;width: 50%;}#sk-container-id-1 div.sk-parallel-item:last-child::after {align-self: flex-start;width: 50%;}#sk-container-id-1 div.sk-parallel-item:only-child::after {width: 0;}#sk-container-id-1 div.sk-dashed-wrapped {border: 1px dashed gray;margin: 0 0.4em 0.5em 0.4em;box-sizing: border-box;padding-bottom: 0.4em;background-color: white;}#sk-container-id-1 div.sk-label label {font-family: monospace;font-weight: bold;display: inline-block;line-height: 1.2em;}#sk-container-id-1 div.sk-label-container {text-align: center;}#sk-container-id-1 div.sk-container {/* jupyter's `normalize.less` sets `[hidden] { display: none; }` but bootstrap.min.css set `[hidden] { display: none !important; }` so we also need the `!important` here to be able to override the default hidden behavior on the sphinx rendered scikit-learn.org. See: https://github.com/scikit-learn/scikit-learn/issues/21755 */display: inline-block !important;position: relative;}#sk-container-id-1 div.sk-text-repr-fallback {display: none;}</style><div id=\"sk-container-id-1\" class=\"sk-top-container\"><div class=\"sk-text-repr-fallback\"><pre>XGBClassifier(base_score=None, booster=None, callbacks=None,\n",
       "              colsample_bylevel=None, colsample_bynode=None,\n",
       "              colsample_bytree=None, early_stopping_rounds=None,\n",
       "              enable_categorical=False, eval_metric=None, feature_types=None,\n",
       "              gamma=None, gpu_id=None, grow_policy=None, importance_type=None,\n",
       "              interaction_constraints=None, learning_rate=0.1, max_bin=None,\n",
       "              max_cat_threshold=None, max_cat_to_onehot=None,\n",
       "              max_delta_step=None, max_depth=None, max_leaves=None,\n",
       "              min_child_weight=None, missing=nan, monotone_constraints=None,\n",
       "              n_estimators=500, n_jobs=None, num_parallel_tree=None,\n",
       "              predictor=None, random_state=123, ...)</pre><b>In a Jupyter environment, please rerun this cell to show the HTML representation or trust the notebook. <br />On GitHub, the HTML representation is unable to render, please try loading this page with nbviewer.org.</b></div><div class=\"sk-container\" hidden><div class=\"sk-item\"><div class=\"sk-estimator sk-toggleable\"><input class=\"sk-toggleable__control sk-hidden--visually\" id=\"sk-estimator-id-1\" type=\"checkbox\" checked><label for=\"sk-estimator-id-1\" class=\"sk-toggleable__label sk-toggleable__label-arrow\">XGBClassifier</label><div class=\"sk-toggleable__content\"><pre>XGBClassifier(base_score=None, booster=None, callbacks=None,\n",
       "              colsample_bylevel=None, colsample_bynode=None,\n",
       "              colsample_bytree=None, early_stopping_rounds=None,\n",
       "              enable_categorical=False, eval_metric=None, feature_types=None,\n",
       "              gamma=None, gpu_id=None, grow_policy=None, importance_type=None,\n",
       "              interaction_constraints=None, learning_rate=0.1, max_bin=None,\n",
       "              max_cat_threshold=None, max_cat_to_onehot=None,\n",
       "              max_delta_step=None, max_depth=None, max_leaves=None,\n",
       "              min_child_weight=None, missing=nan, monotone_constraints=None,\n",
       "              n_estimators=500, n_jobs=None, num_parallel_tree=None,\n",
       "              predictor=None, random_state=123, ...)</pre></div></div></div></div></div>"
      ],
      "text/plain": [
       "XGBClassifier(base_score=None, booster=None, callbacks=None,\n",
       "              colsample_bylevel=None, colsample_bynode=None,\n",
       "              colsample_bytree=None, early_stopping_rounds=None,\n",
       "              enable_categorical=False, eval_metric=None, feature_types=None,\n",
       "              gamma=None, gpu_id=None, grow_policy=None, importance_type=None,\n",
       "              interaction_constraints=None, learning_rate=0.1, max_bin=None,\n",
       "              max_cat_threshold=None, max_cat_to_onehot=None,\n",
       "              max_delta_step=None, max_depth=None, max_leaves=None,\n",
       "              min_child_weight=None, missing=nan, monotone_constraints=None,\n",
       "              n_estimators=500, n_jobs=None, num_parallel_tree=None,\n",
       "              predictor=None, random_state=123, ...)"
      ]
     },
     "execution_count": 96,
     "metadata": {},
     "output_type": "execute_result"
    }
   ],
   "source": [
    "xgb_model = XGBClassifier(n_estimators = 500, learning_rate = 0.1,verbosity = 1,random_state = 123)\n",
    "xgb_model.fit(X_train_fit,y_train_fit, eval_set = [(X_train_eval,y_train_eval)])"
   ]
  },
  {
   "cell_type": "code",
   "execution_count": 97,
   "id": "13943e2b",
   "metadata": {},
   "outputs": [
    {
     "data": {
      "text/plain": [
       "499"
      ]
     },
     "execution_count": 97,
     "metadata": {},
     "output_type": "execute_result"
    }
   ],
   "source": [
    "xgb_model.best_iteration"
   ]
  },
  {
   "cell_type": "code",
   "execution_count": 98,
   "id": "d345dcf8",
   "metadata": {
    "scrolled": false
   },
   "outputs": [
    {
     "name": "stdout",
     "output_type": "stream",
     "text": [
      "Accuracy for train:\n",
      "\tAccuracy score: 1.0000\n",
      "f1 for train:\n",
      "\tf1 score: 1.0000\n",
      "Accuracy for test:\n",
      "\tAccuracy score: 1.0000\n",
      "f1 for test:\n",
      "\f",
      "1 score: 1.0000\n"
     ]
    }
   ],
   "source": [
    "print(f\"Accuracy for train:\\n\\tAccuracy score: {accuracy_score(xgb_model.predict(X_train),y_train):.4f}\\nf1 for train:\\n\\tf1 score: {f1_score(xgb_model.predict(X_train),y_train):.4f}\")\n",
    "print(f\"Accuracy for test:\\n\\tAccuracy score: {accuracy_score(xgb_model.predict(X_val),y_val):.4f}\\nf1 for test:\\n\\f1 score: {f1_score(xgb_model.predict(X_val),y_val):.4f}\")"
   ]
  },
  {
   "cell_type": "code",
   "execution_count": 99,
   "id": "84872cb8",
   "metadata": {
    "scrolled": false
   },
   "outputs": [
    {
     "name": "stdout",
     "output_type": "stream",
     "text": [
      "Accuracy for train:\n",
      "\tAccuracy score: 1.0000\n",
      "Accuracy for test:\n",
      "\tAccuracy score: 1.0000\n",
      "f1 for train:\n",
      "\tAccuracy score: 1.0000\n",
      "f1 for test:\n",
      "\tAccuracy score: 1.0000\n"
     ]
    }
   ],
   "source": [
    "print(f\"Accuracy for train:\\n\\tAccuracy score: {accuracy_score(xgb_model.predict(X_train),y_train):.4f}\\nAccuracy for test:\\n\\tAccuracy score: {accuracy_score(xgb_model.predict(X_val),y_val):.4f}\")\n",
    "print(f\"f1 for train:\\n\\tAccuracy score: {f1_score(xgb_model.predict(X_train),y_train):.4f}\\nf1 for test:\\n\\tAccuracy score: {f1_score(xgb_model.predict(X_val),y_val):.4f}\")"
   ]
  },
  {
   "cell_type": "code",
   "execution_count": 100,
   "id": "0e5691eb",
   "metadata": {},
   "outputs": [
    {
     "name": "stdout",
     "output_type": "stream",
     "text": [
      "Accuracy for train:\n",
      "\tAccuracy score: 1.0000\n",
      "Accuracy for test:\n",
      "\tAccuracy score: 1.0000\n",
      "f1 for train:\n",
      "\tAccuracy score: 1.0000\n",
      "f1 for test:\n",
      "\tAccuracy score: 1.0000\n"
     ]
    }
   ],
   "source": [
    "print(f\"Accuracy for train:\\n\\tAccuracy score: {accuracy_score(xgb_model.predict(X_train),y_train):.4f}\\nAccuracy for test:\\n\\tAccuracy score: {accuracy_score(xgb_model.predict(X_val),y_val):.4f}\")\n",
    "print(f\"f1 for train:\\n\\tAccuracy score: {f1_score(xgb_model.predict(X_train),y_train):.4f}\\nf1 for test:\\n\\tAccuracy score: {f1_score(xgb_model.predict(X_val),y_val):.4f}\")"
   ]
  },
  {
   "cell_type": "code",
   "execution_count": null,
   "id": "ca8312ae",
   "metadata": {},
   "outputs": [],
   "source": []
  },
  {
   "cell_type": "code",
   "execution_count": null,
   "id": "343e9569",
   "metadata": {},
   "outputs": [],
   "source": []
  },
  {
   "cell_type": "code",
   "execution_count": null,
   "id": "91df46c5",
   "metadata": {},
   "outputs": [],
   "source": []
  },
  {
   "cell_type": "code",
   "execution_count": null,
   "id": "8aca15fd",
   "metadata": {},
   "outputs": [],
   "source": []
  },
  {
   "cell_type": "code",
   "execution_count": null,
   "id": "77eb927d",
   "metadata": {},
   "outputs": [],
   "source": []
  },
  {
   "cell_type": "code",
   "execution_count": null,
   "id": "aeea856d",
   "metadata": {},
   "outputs": [],
   "source": []
  },
  {
   "cell_type": "code",
   "execution_count": null,
   "id": "a3b4c956",
   "metadata": {},
   "outputs": [],
   "source": []
  },
  {
   "cell_type": "code",
   "execution_count": null,
   "id": "4bf72c00",
   "metadata": {},
   "outputs": [],
   "source": []
  },
  {
   "cell_type": "code",
   "execution_count": null,
   "id": "5dbd5e09",
   "metadata": {},
   "outputs": [],
   "source": []
  },
  {
   "cell_type": "code",
   "execution_count": null,
   "id": "b167dc43",
   "metadata": {},
   "outputs": [],
   "source": []
  },
  {
   "cell_type": "code",
   "execution_count": null,
   "id": "5893c698",
   "metadata": {},
   "outputs": [],
   "source": []
  },
  {
   "cell_type": "code",
   "execution_count": null,
   "id": "ceb350f0",
   "metadata": {},
   "outputs": [],
   "source": []
  },
  {
   "cell_type": "code",
   "execution_count": null,
   "id": "35026c43",
   "metadata": {},
   "outputs": [],
   "source": []
  },
  {
   "cell_type": "code",
   "execution_count": null,
   "id": "59d8375f",
   "metadata": {},
   "outputs": [],
   "source": []
  },
  {
   "cell_type": "code",
   "execution_count": null,
   "id": "4affb4e8",
   "metadata": {},
   "outputs": [],
   "source": []
  },
  {
   "cell_type": "code",
   "execution_count": null,
   "id": "caced2f9",
   "metadata": {},
   "outputs": [],
   "source": []
  },
  {
   "cell_type": "code",
   "execution_count": null,
   "id": "59232996",
   "metadata": {},
   "outputs": [],
   "source": []
  },
  {
   "cell_type": "code",
   "execution_count": null,
   "id": "06dfd1f9",
   "metadata": {},
   "outputs": [],
   "source": []
  },
  {
   "cell_type": "code",
   "execution_count": null,
   "id": "74e4f4ec",
   "metadata": {},
   "outputs": [],
   "source": []
  },
  {
   "cell_type": "code",
   "execution_count": null,
   "id": "b622f3fe",
   "metadata": {},
   "outputs": [],
   "source": []
  }
 ],
 "metadata": {
  "kernelspec": {
   "display_name": "Python 3 (ipykernel)",
   "language": "python",
   "name": "python3"
  },
  "language_info": {
   "codemirror_mode": {
    "name": "ipython",
    "version": 3
   },
   "file_extension": ".py",
   "mimetype": "text/x-python",
   "name": "python",
   "nbconvert_exporter": "python",
   "pygments_lexer": "ipython3",
   "version": "3.10.12"
  }
 },
 "nbformat": 4,
 "nbformat_minor": 5
}
